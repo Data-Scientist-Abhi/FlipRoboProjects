{
 "cells": [
  {
   "cell_type": "markdown",
   "metadata": {},
   "source": [
    "## Q1.Program to scrape data for “Data Analyst” Job position in “Bangalore” location from https://www.naukri.com/"
   ]
  },
  {
   "cell_type": "code",
   "execution_count": null,
   "metadata": {},
   "outputs": [],
   "source": [
    "# !pip install selenium"
   ]
  },
  {
   "cell_type": "code",
   "execution_count": 1,
   "metadata": {},
   "outputs": [],
   "source": [
    "import pandas as pd\n",
    "import selenium\n",
    "from selenium import webdriver"
   ]
  },
  {
   "cell_type": "code",
   "execution_count": 2,
   "metadata": {},
   "outputs": [
    {
     "data": {
      "text/plain": [
       "<selenium.webdriver.chrome.webdriver.WebDriver (session=\"a9d59b8b5491a2b04b74f2002ed07bbe\")>"
      ]
     },
     "execution_count": 2,
     "metadata": {},
     "output_type": "execute_result"
    }
   ],
   "source": [
    "driver=webdriver.Chrome('chromedriver.exe')\n",
    "driver"
   ]
  },
  {
   "cell_type": "code",
   "execution_count": 3,
   "metadata": {},
   "outputs": [],
   "source": [
    "url='https://www.naukri.com/'\n",
    "driver.get(url)"
   ]
  },
  {
   "cell_type": "code",
   "execution_count": 4,
   "metadata": {},
   "outputs": [
    {
     "data": {
      "text/plain": [
       "<selenium.webdriver.remote.webelement.WebElement (session=\"a9d59b8b5491a2b04b74f2002ed07bbe\", element=\"e7c09855-cabf-436b-94d2-26b15cb0fde7\")>"
      ]
     },
     "execution_count": 4,
     "metadata": {},
     "output_type": "execute_result"
    }
   ],
   "source": [
    "job=driver.find_element_by_xpath(\"//input[@id='qsb-keyword-sugg']\")\n",
    "job"
   ]
  },
  {
   "cell_type": "code",
   "execution_count": 5,
   "metadata": {},
   "outputs": [],
   "source": [
    "job.send_keys('Data Analyst')"
   ]
  },
  {
   "cell_type": "code",
   "execution_count": 6,
   "metadata": {},
   "outputs": [
    {
     "data": {
      "text/plain": [
       "<selenium.webdriver.remote.webelement.WebElement (session=\"a9d59b8b5491a2b04b74f2002ed07bbe\", element=\"ab22615f-29bd-4408-8ee3-5cd9b57f9153\")>"
      ]
     },
     "execution_count": 6,
     "metadata": {},
     "output_type": "execute_result"
    }
   ],
   "source": [
    "search_loc=driver.find_element_by_xpath(\"//input[@id='qsb-location-sugg']\")\n",
    "search_loc"
   ]
  },
  {
   "cell_type": "code",
   "execution_count": 7,
   "metadata": {},
   "outputs": [],
   "source": [
    "search_loc.send_keys('Bangalore')"
   ]
  },
  {
   "cell_type": "code",
   "execution_count": 8,
   "metadata": {},
   "outputs": [
    {
     "data": {
      "text/plain": [
       "<selenium.webdriver.remote.webelement.WebElement (session=\"a9d59b8b5491a2b04b74f2002ed07bbe\", element=\"69232db3-d939-4f5b-af07-dff761a9169d\")>"
      ]
     },
     "execution_count": 8,
     "metadata": {},
     "output_type": "execute_result"
    }
   ],
   "source": [
    "btn=driver.find_element_by_xpath(\"//button[@class='btn']\")\n",
    "btn"
   ]
  },
  {
   "cell_type": "code",
   "execution_count": 9,
   "metadata": {},
   "outputs": [],
   "source": [
    "btn.click()"
   ]
  },
  {
   "cell_type": "code",
   "execution_count": 10,
   "metadata": {},
   "outputs": [
    {
     "name": "stdout",
     "output_type": "stream",
     "text": [
      "\n",
      " Job Title ['Data Analyst', 'Data Analyst', 'Senior Data Analyst', 'Senior Business Analyst- Data Science', 'Business/Data Analyst - Colleague Experience & Technology', 'Senior Data Analyst', 'Senior Data Analyst - Einstein Analytics', 'Data Analyst - Python', 'Data Analyst - 0-2 years (6 month contract)', 'Business/Data Analyst - SSE/LA', 'Senior Data Analyst', 'SQL Data Analyst', 'Business Data Analyst', 'Business Data Analyst', 'Data Analyst', 'Immediate Hiring For Data Analyst - Bangalore location', 'Data Analyst - Transportation', 'DMI Hiring Data Analyst in Bangalore', 'Data Analyst/Business Analyst-Gurgaon/Bangalore/Mumbai (only Females)', 'Immediate Hiring || Azure - Data Engineer/ Data Analyst']\n"
     ]
    }
   ],
   "source": [
    "title=driver.find_elements_by_xpath(\"//a[@class='title fw500 ellipsis']\")\n",
    "title\n",
    "# using for loop to extracting text\n",
    "job_title=[]\n",
    "for i in title:\n",
    "    job_title.append(i.text)\n",
    "print('\\n Job Title',job_title)"
   ]
  },
  {
   "cell_type": "code",
   "execution_count": 11,
   "metadata": {},
   "outputs": [
    {
     "name": "stdout",
     "output_type": "stream",
     "text": [
      "\n",
      " company name \n",
      "\n",
      " ['CAREERLABS TECHNOLOGIES PRIVATE LIMITED', 'Tata Consultancy Services Ltd.', 'Nx-DT', 'Evalueserve.com Pvt. Ltd', 'Vmware', 'Telstra India Pvt Ltd', 'Enquero', 'Suyati Technologies Pvt Ltd', 'NIUM INDIA PRIVATE LIMITED', 'CGI Information Systems and Management Consultants', 'Liventus, Inc.', 'NetApp', 'Trigent Software', 'Trigent Software', 'ENCORA INNOVATION LABS INDIA PRIVATE LIMITED', 'Wissen Technology', 'Gojek Tech', 'DMI Innovations Pvt. Ltd', 'India Medtronic Pvt. Ltd,.', 'Incture Technologies Pvt. Ltd.']\n"
     ]
    }
   ],
   "source": [
    "com_name=driver.find_elements_by_xpath(\"//a[@class='subTitle ellipsis fleft']\")\n",
    "company=[]\n",
    "for i in com_name:\n",
    "    company.append(i.text)\n",
    "print('\\n company name \\n\\n',company)"
   ]
  },
  {
   "cell_type": "code",
   "execution_count": 12,
   "metadata": {},
   "outputs": [
    {
     "name": "stdout",
     "output_type": "stream",
     "text": [
      "\n",
      " Job Location \n",
      "\n",
      " ['Bangalore/Bengaluru\\n(WFH during Covid)', 'Pune, Chennai, Bangalore/Bengaluru', 'Hyderabad/Secunderabad, Pune, Bangalore/Bengaluru\\n(WFH during Covid)', 'Bangalore/Bengaluru(Whitefield)', 'Bangalore/Bengaluru', 'Bangalore/Bengaluru', 'Hyderabad/Secunderabad, Bangalore/Bengaluru', 'Kochi/Cochin, Bangalore/Bengaluru', 'New Delhi, Gurgaon/Gurugram, Chennai, Bangalore/Bengaluru, Mumbai (All Areas)\\n(WFH during Covid)', 'Bangalore/Bengaluru', 'Bangalore/Bengaluru(2nd Phase JP Nagar)', 'Bangalore/Bengaluru', 'Bangalore/Bengaluru', 'Bangalore/Bengaluru', 'Bangalore/Bengaluru', 'Bangalore/Bengaluru', 'Bangalore/Bengaluru', 'Bangalore/Bengaluru', 'Gurgaon/Gurugram, Bangalore/Bengaluru, Mumbai (All Areas)', 'Bhubaneswar, Bangalore/Bengaluru\\n(WFH during Covid)']\n"
     ]
    }
   ],
   "source": [
    "loc=driver.find_elements_by_xpath(\"//li[@class='fleft grey-text br2 placeHolderLi location']\") \n",
    "job_loc=[]\n",
    "for i in loc:\n",
    "    job_loc.append(i.text)\n",
    "print('\\n Job Location \\n\\n',job_loc)"
   ]
  },
  {
   "cell_type": "code",
   "execution_count": 13,
   "metadata": {},
   "outputs": [
    {
     "name": "stdout",
     "output_type": "stream",
     "text": [
      "\n",
      " Experience Required ['0-3 Yrs', '4-8 Yrs', '10-16 Yrs', '2-7 Yrs', '3-8 Yrs', '7-8 Yrs', '3-5 Yrs', '4-6 Yrs', '0-2 Yrs', '2-5 Yrs', '5-8 Yrs', '3-7 Yrs', '3-5 Yrs', '3-5 Yrs', '5-8 Yrs', '1-6 Yrs', '2-5 Yrs', '4-8 Yrs', '1-4 Yrs', '4-9 Yrs']\n"
     ]
    }
   ],
   "source": [
    "exp=driver.find_elements_by_xpath(\"//li[@class='fleft grey-text br2 placeHolderLi experience']//span\")\n",
    "exp_req=[]\n",
    "for i in exp:\n",
    "    exp_req.append(i.text)\n",
    "print('\\n Experience Required',exp_req)"
   ]
  },
  {
   "cell_type": "code",
   "execution_count": 14,
   "metadata": {},
   "outputs": [
    {
     "name": "stdout",
     "output_type": "stream",
     "text": [
      "length of Job Title:  20 \n",
      "length of Job Location:  20 \n",
      "length of Company Name:  20 \n",
      "Length of Experience Required:  20\n"
     ]
    }
   ],
   "source": [
    "print('length of Job Title: ',len(job_title),\n",
    "     '\\nlength of Job Location: ',len(job_loc),\n",
    "      '\\nlength of Company Name: ',len(company),\n",
    "      '\\nLength of Experience Required: ',len(exp_req))"
   ]
  },
  {
   "cell_type": "code",
   "execution_count": 15,
   "metadata": {},
   "outputs": [
    {
     "data": {
      "text/html": [
       "<div>\n",
       "<style scoped>\n",
       "    .dataframe tbody tr th:only-of-type {\n",
       "        vertical-align: middle;\n",
       "    }\n",
       "\n",
       "    .dataframe tbody tr th {\n",
       "        vertical-align: top;\n",
       "    }\n",
       "\n",
       "    .dataframe thead th {\n",
       "        text-align: right;\n",
       "    }\n",
       "</style>\n",
       "<table border=\"1\" class=\"dataframe\">\n",
       "  <thead>\n",
       "    <tr style=\"text-align: right;\">\n",
       "      <th></th>\n",
       "      <th>Title</th>\n",
       "      <th>Location</th>\n",
       "      <th>Company Name</th>\n",
       "      <th>Experience Required</th>\n",
       "    </tr>\n",
       "  </thead>\n",
       "  <tbody>\n",
       "    <tr>\n",
       "      <th>0</th>\n",
       "      <td>Data Analyst</td>\n",
       "      <td>Bangalore/Bengaluru\\n(WFH during Covid)</td>\n",
       "      <td>CAREERLABS TECHNOLOGIES PRIVATE LIMITED</td>\n",
       "      <td>0-3 Yrs</td>\n",
       "    </tr>\n",
       "    <tr>\n",
       "      <th>1</th>\n",
       "      <td>Data Analyst</td>\n",
       "      <td>Pune, Chennai, Bangalore/Bengaluru</td>\n",
       "      <td>Tata Consultancy Services Ltd.</td>\n",
       "      <td>4-8 Yrs</td>\n",
       "    </tr>\n",
       "    <tr>\n",
       "      <th>2</th>\n",
       "      <td>Senior Data Analyst</td>\n",
       "      <td>Hyderabad/Secunderabad, Pune, Bangalore/Bengal...</td>\n",
       "      <td>Nx-DT</td>\n",
       "      <td>10-16 Yrs</td>\n",
       "    </tr>\n",
       "    <tr>\n",
       "      <th>3</th>\n",
       "      <td>Senior Business Analyst- Data Science</td>\n",
       "      <td>Bangalore/Bengaluru(Whitefield)</td>\n",
       "      <td>Evalueserve.com Pvt. Ltd</td>\n",
       "      <td>2-7 Yrs</td>\n",
       "    </tr>\n",
       "    <tr>\n",
       "      <th>4</th>\n",
       "      <td>Business/Data Analyst - Colleague Experience &amp;...</td>\n",
       "      <td>Bangalore/Bengaluru</td>\n",
       "      <td>Vmware</td>\n",
       "      <td>3-8 Yrs</td>\n",
       "    </tr>\n",
       "    <tr>\n",
       "      <th>5</th>\n",
       "      <td>Senior Data Analyst</td>\n",
       "      <td>Bangalore/Bengaluru</td>\n",
       "      <td>Telstra India Pvt Ltd</td>\n",
       "      <td>7-8 Yrs</td>\n",
       "    </tr>\n",
       "    <tr>\n",
       "      <th>6</th>\n",
       "      <td>Senior Data Analyst - Einstein Analytics</td>\n",
       "      <td>Hyderabad/Secunderabad, Bangalore/Bengaluru</td>\n",
       "      <td>Enquero</td>\n",
       "      <td>3-5 Yrs</td>\n",
       "    </tr>\n",
       "    <tr>\n",
       "      <th>7</th>\n",
       "      <td>Data Analyst - Python</td>\n",
       "      <td>Kochi/Cochin, Bangalore/Bengaluru</td>\n",
       "      <td>Suyati Technologies Pvt Ltd</td>\n",
       "      <td>4-6 Yrs</td>\n",
       "    </tr>\n",
       "    <tr>\n",
       "      <th>8</th>\n",
       "      <td>Data Analyst - 0-2 years (6 month contract)</td>\n",
       "      <td>New Delhi, Gurgaon/Gurugram, Chennai, Bangalor...</td>\n",
       "      <td>NIUM INDIA PRIVATE LIMITED</td>\n",
       "      <td>0-2 Yrs</td>\n",
       "    </tr>\n",
       "    <tr>\n",
       "      <th>9</th>\n",
       "      <td>Business/Data Analyst - SSE/LA</td>\n",
       "      <td>Bangalore/Bengaluru</td>\n",
       "      <td>CGI Information Systems and Management Consult...</td>\n",
       "      <td>2-5 Yrs</td>\n",
       "    </tr>\n",
       "  </tbody>\n",
       "</table>\n",
       "</div>"
      ],
      "text/plain": [
       "                                               Title  \\\n",
       "0                                       Data Analyst   \n",
       "1                                       Data Analyst   \n",
       "2                                Senior Data Analyst   \n",
       "3              Senior Business Analyst- Data Science   \n",
       "4  Business/Data Analyst - Colleague Experience &...   \n",
       "5                                Senior Data Analyst   \n",
       "6           Senior Data Analyst - Einstein Analytics   \n",
       "7                              Data Analyst - Python   \n",
       "8        Data Analyst - 0-2 years (6 month contract)   \n",
       "9                     Business/Data Analyst - SSE/LA   \n",
       "\n",
       "                                            Location  \\\n",
       "0            Bangalore/Bengaluru\\n(WFH during Covid)   \n",
       "1                 Pune, Chennai, Bangalore/Bengaluru   \n",
       "2  Hyderabad/Secunderabad, Pune, Bangalore/Bengal...   \n",
       "3                    Bangalore/Bengaluru(Whitefield)   \n",
       "4                                Bangalore/Bengaluru   \n",
       "5                                Bangalore/Bengaluru   \n",
       "6        Hyderabad/Secunderabad, Bangalore/Bengaluru   \n",
       "7                  Kochi/Cochin, Bangalore/Bengaluru   \n",
       "8  New Delhi, Gurgaon/Gurugram, Chennai, Bangalor...   \n",
       "9                                Bangalore/Bengaluru   \n",
       "\n",
       "                                        Company Name Experience Required  \n",
       "0            CAREERLABS TECHNOLOGIES PRIVATE LIMITED             0-3 Yrs  \n",
       "1                     Tata Consultancy Services Ltd.             4-8 Yrs  \n",
       "2                                              Nx-DT           10-16 Yrs  \n",
       "3                           Evalueserve.com Pvt. Ltd             2-7 Yrs  \n",
       "4                                             Vmware             3-8 Yrs  \n",
       "5                              Telstra India Pvt Ltd             7-8 Yrs  \n",
       "6                                            Enquero             3-5 Yrs  \n",
       "7                        Suyati Technologies Pvt Ltd             4-6 Yrs  \n",
       "8                         NIUM INDIA PRIVATE LIMITED             0-2 Yrs  \n",
       "9  CGI Information Systems and Management Consult...             2-5 Yrs  "
      ]
     },
     "execution_count": 15,
     "metadata": {},
     "output_type": "execute_result"
    }
   ],
   "source": [
    "data=pd.DataFrame({'Title':job_title,'Location':job_loc,'Company Name':company,'Experience Required':exp_req})\n",
    "data.iloc[0:10,]"
   ]
  },
  {
   "cell_type": "markdown",
   "metadata": {},
   "source": [
    "# "
   ]
  },
  {
   "cell_type": "markdown",
   "metadata": {},
   "source": [
    "## Q2: Write a python program to scrape data for “Data Scientist” Job position in“Bangalore” location. You have to scrape the job-title, job-location,company_name, full job-description. You have to scrape first 10 jobs data."
   ]
  },
  {
   "cell_type": "code",
   "execution_count": 16,
   "metadata": {},
   "outputs": [],
   "source": [
    "import pandas as pd\n",
    "import selenium\n",
    "from selenium import webdriver"
   ]
  },
  {
   "cell_type": "code",
   "execution_count": 17,
   "metadata": {},
   "outputs": [
    {
     "data": {
      "text/plain": [
       "<selenium.webdriver.chrome.webdriver.WebDriver (session=\"b557ceb47356ea3b7fb9cda4d2313ff4\")>"
      ]
     },
     "execution_count": 17,
     "metadata": {},
     "output_type": "execute_result"
    }
   ],
   "source": [
    "driver=webdriver.Chrome('chromedriver.exe')\n",
    "driver"
   ]
  },
  {
   "cell_type": "code",
   "execution_count": 18,
   "metadata": {},
   "outputs": [],
   "source": [
    "url='https://www.naukri.com/'\n",
    "driver.get(url)"
   ]
  },
  {
   "cell_type": "code",
   "execution_count": 20,
   "metadata": {},
   "outputs": [],
   "source": [
    "job_path=driver.find_element_by_id('qsb-keyword-sugg')\n",
    "job_path.send_keys('Data Scientist')"
   ]
  },
  {
   "cell_type": "code",
   "execution_count": 21,
   "metadata": {},
   "outputs": [],
   "source": [
    "loc_path=driver.find_element_by_id('qsb-location-sugg')\n",
    "loc_path.send_keys('Bangalore')"
   ]
  },
  {
   "cell_type": "code",
   "execution_count": 23,
   "metadata": {},
   "outputs": [],
   "source": [
    "btn=driver.find_element_by_xpath(\"//*[@id='root']/div[3]/div[2]/section/div/form/div[3]/button\")\n",
    "btn.click()"
   ]
  },
  {
   "cell_type": "code",
   "execution_count": 24,
   "metadata": {},
   "outputs": [
    {
     "name": "stdout",
     "output_type": "stream",
     "text": [
      "\n",
      " Job Title\n",
      " ['Data Scientist- Senior Business Analyst/Lead Analyst', 'Senior Data Scientist', 'Senior Data Scientist (Analytics),', 'Data Scientist: Advanced Analytics', 'Data Scientist', 'Senior Data Scientist', 'Senior Data Scientist', 'Lead Data Scientist', 'Senior Data Scientist - KPO', 'Lead Data Scientist - Retail Industry']\n"
     ]
    }
   ],
   "source": [
    "titles=driver.find_elements_by_xpath(\"//a[@class='title fw500 ellipsis']\")\n",
    "titles\n",
    "\n",
    "job_titles=[]\n",
    "for i in titles:\n",
    "    job_titles.append(i.text)\n",
    "job_titles=job_titles[0:10]\n",
    "print('\\n Job Title\\n',job_titles)"
   ]
  },
  {
   "cell_type": "code",
   "execution_count": 25,
   "metadata": {},
   "outputs": [
    {
     "name": "stdout",
     "output_type": "stream",
     "text": [
      "\n",
      " Job Location \n",
      "\n",
      " ['Gurgaon/Gurugram, Bangalore/Bengaluru', 'Bangalore/Bengaluru', 'Bangalore/Bengaluru', 'Bangalore/Bengaluru', 'Bangalore/Bengaluru', 'Bangalore/Bengaluru', 'Chennai, Bangalore/Bengaluru', 'Bangalore/Bengaluru, Delhi / NCR, Mumbai (All Areas)', '(WFH during Covid)', 'Mumbai, Bangalore/Bengaluru, Delhi / NCR']\n"
     ]
    }
   ],
   "source": [
    "loc_=driver.find_elements_by_xpath(\"//li[@class='fleft grey-text br2 placeHolderLi location']//span\")\n",
    "job_loc_=[]\n",
    "for i in loc_:\n",
    "    job_loc_.append(i.text)\n",
    "job_loc_=job_loc_[0:10]\n",
    "print('\\n Job Location \\n\\n',job_loc_)"
   ]
  },
  {
   "cell_type": "code",
   "execution_count": 26,
   "metadata": {},
   "outputs": [
    {
     "name": "stdout",
     "output_type": "stream",
     "text": [
      "\n",
      " company name \n",
      " ['Evalueserve.com Pvt. Ltd', 'Signify', 'Luxoft', 'IBM India Pvt. Limited', 'IBM India Pvt. Limited', 'SMITHS DETECTION SYSTEMS PRIVATE LIMITED', 'Tiger Analytics India LLP', 'TransOrg Solutions Services (P) Ltd.', 'TalentCo Search Pvt Ltd', 'IBM India Pvt. Limited']\n"
     ]
    }
   ],
   "source": [
    "c_names=driver.find_elements_by_xpath(\"//a[@class='subTitle ellipsis fleft']\")\n",
    "com_names=[]\n",
    "for i in c_names:\n",
    "    com_names.append(i.text)\n",
    "com_names=com_names[0:10]\n",
    "print('\\n company name \\n',com_names)"
   ]
  },
  {
   "cell_type": "code",
   "execution_count": 27,
   "metadata": {},
   "outputs": [
    {
     "data": {
      "text/plain": [
       "['https://www.naukri.com/job-listings-data-scientist-senior-business-analyst-lead-analyst-evalueserve-com-pvt-ltd-gurgaon-gurugram-bangalore-bengaluru-2-to-7-years-110821005065?src=jobsearchDesk&sid=16288322930906568&xp=1&px=1',\n",
       " 'https://www.naukri.com/job-listings-senior-data-scientist-signify-bangalore-bengaluru-4-to-9-years-120821500683?src=jobsearchDesk&sid=16288322930906568&xp=2&px=1',\n",
       " 'https://www.naukri.com/job-listings-senior-data-scientist-analytics-luxoft-bangalore-bengaluru-5-to-10-years-120821501307?src=jobsearchDesk&sid=16288322930906568&xp=3&px=1',\n",
       " 'https://www.naukri.com/job-listings-data-scientist-advanced-analytics-ibm-india-pvt-limited-bangalore-bengaluru-5-to-10-years-110821906281?src=jobsearchDesk&sid=16288322930906568&xp=4&px=1',\n",
       " 'https://www.naukri.com/job-listings-data-scientist-ibm-india-pvt-limited-bangalore-bengaluru-3-to-6-years-120821907824?src=jobsearchDesk&sid=16288322930906568&xp=5&px=1',\n",
       " 'https://www.naukri.com/job-listings-senior-data-scientist-smiths-detection-systems-private-limited-bangalore-bengaluru-8-to-10-years-260721903257?src=jobsearchDesk&sid=16288322930906568&xp=6&px=1',\n",
       " 'https://www.naukri.com/job-listings-senior-data-scientist-tiger-analytics-india-llp-chennai-bangalore-bengaluru-4-to-9-years-120821008955?src=jobsearchDesk&sid=16288322930906568&xp=7&px=1',\n",
       " 'https://www.naukri.com/job-listings-lead-data-scientist-transorg-solutions-services-p-ltd-bangalore-bengaluru-delhi-ncr-mumbai-all-areas-4-to-6-years-160721005471?src=jobsearchDesk&sid=16288322930906568&xp=8&px=1',\n",
       " 'https://www.naukri.com/job-listings-senior-data-scientist-kpo-talentco-search-pvt-ltd-mumbai-bangalore-bengaluru-delhi-ncr-6-to-10-years-110821908145?src=jobsearchDesk&sid=16288322930906568&xp=9&px=1',\n",
       " 'https://www.naukri.com/job-listings-lead-data-scientist-retail-industry-ibm-india-pvt-limited-bangalore-bengaluru-7-to-10-years-100821908363?src=jobsearchDesk&sid=16288322930906568&xp=10&px=1',\n",
       " 'https://www.naukri.com/job-listings-senior-lead-data-scientist-superior-group-bangalore-bengaluru-6-to-11-years-100821500375?src=jobsearchDesk&sid=16288322930906568&xp=11&px=1',\n",
       " 'https://www.naukri.com/job-listings-advanced-data-scientist-exxon-mobil-corporation-bangalore-bengaluru-10-to-15-years-120821500623?src=jobsearchDesk&sid=16288322930906568&xp=12&px=1',\n",
       " 'https://www.naukri.com/job-listings-data-scientist-cignex-datamatics-technologies-limited-bangalore-bengaluru-7-to-12-years-120821005670?src=jobsearchDesk&sid=16288322930906568&xp=13&px=1',\n",
       " 'https://www.naukri.com/job-listings-data-scientist-natural-language-processing-hyderabad-location-clifford-chance-business-services-private-limited-hyderabad-secunderabad-pune-chennai-bangalore-bengaluru-5-to-10-years-120821000435?src=jobsearchDesk&sid=16288322930906568&xp=14&px=1',\n",
       " 'https://www.naukri.com/job-listings-looking-for-data-scientist-for-chennai-location-intelizign-engineering-services-pvt-ltd-hyderabad-secunderabad-chennai-bangalore-bengaluru-3-to-7-years-110821004891?src=jobsearchDesk&sid=16288322930906568&xp=15&px=1',\n",
       " 'https://www.naukri.com/job-listings-data-scientist-elpis-it-solutions-pvt-ltd-bangalore-bengaluru-3-to-8-years-120821005878?src=jobsearchDesk&sid=16288322930906568&xp=16&px=1',\n",
       " 'https://www.naukri.com/job-listings-data-scientist-cognizant-technology-solutions-india-pvt-ltd-chennai-bangalore-bengaluru-10-to-12-years-090821904407?src=jobsearchDesk&sid=16288322930906568&xp=17&px=1']"
      ]
     },
     "execution_count": 27,
     "metadata": {},
     "output_type": "execute_result"
    }
   ],
   "source": [
    "url=driver.find_elements_by_xpath(\"//a[@class='title fw500 ellipsis']\")\n",
    "job_opening_url=[]\n",
    "for i in url:\n",
    "    job_opening_url.append(i.get_attribute('href'))\n",
    "job_opening_url=job_opening_url[0:17]\n",
    "job_opening_url"
   ]
  },
  {
   "cell_type": "code",
   "execution_count": 28,
   "metadata": {},
   "outputs": [
    {
     "name": "stdout",
     "output_type": "stream",
     "text": [
      "\n",
      " Full Job Description \n",
      "\n",
      " ['Job Description Understand and design analytical solutions to business problems leveraging data science Understand and get requirements from Stakeholders Propose and execute solutions and present deliverables to stakeholders Manage and optimize deliverables Mentor and train new team members Develop POCs to enhance the teams capability  Requirements Understanding of mathematical, statistical, and theoretical foundations of statistics and machine learning (ML) and parametric and non-parametric models Knowledge of advanced data mining techniques, curating, processing, and transforming data to produce datasets Use statistical techniques and ML methods for predictive modeling / classification of problems around clients, distribution, sales, marketing, client profiles, and segmentation Provide relevant and actionable recommendations / insights for businesses Understanding of ML lifecycle that includes feature engineering, training, validation, scaling, deployment, scoring, monitoring, and feedback loop Expertise in SAS Visual Analytics, Tableau, and Python Expert in Python / R / SAS Experience with cloud computing infrastructure, such as AWS / Azure / GCP Able to develop, test, and deploy models on cloud / web  Education and Experience BE / B.Tech. / MBA / M.Stat. / M.SC. or equivalent degree in Quant. from a reputed institute 2-8 years of relevant experience', 'What you ll do Research, design and prototype robust and scalable models based on machine learning, data mining, and statistical modeling to answer key business problems Build tools and support structures needed to analyze data, perform elements of data cleaning, feature selection and feature engineering and deliver projects in conjunction with best practices Work with development teams business groups to ensure models can be implemented as part of a delivered solution and can be replicated across multiple markets / countries Present findings to stakeholders to drive improvements and solutions from concept through to delivery Keep abreast of the latest developments in the field by continuous learning and proactively champion promising new methods relevant to the problems at hand What you ll need PhD / Masters / B.Tech in computer science, computer engineering with 7+ years of demonstrated experience in the Advanced Analytics / Machine Learning field Demonstrated history of driving and delivering analytics models and solutions Deep knowledge of fundamentals of machine learning, data mining and statistical modeling, and extensive experience applying these methods to real world problems Strong skills in software prototyping and engineering with expertise in applicable programming and analytics languages (Python, R, SQL) and various open source machine learning and analytics packages. Good knowledge of SAP Datahub is highly desired Ability and inclination to work in multi-disciplinary environments, and desire to see ideas realize in practice What you ll get in return Opportunity to work on some of the highly complex and challenging business problems across a variety of functional domains and consumer markets Competitive salary depending on experience Extensive set of tools to drive your career, such as a personalized learning platform, free training and coaching', '  Data and Analytics Proposal Responses for Cross Industry Solutions. The position is for the global client solutioning team. Analytics client solutioning team supports various Analytics opportunities, which mainly includes RFP responses, Analytics technical consulting etc.  We are a global team and we provide Analytics solutioning support from India spanning across all regions globally.  Our current openings are for the Solution Architects, who can provide solutions like: - Data Engineering This includes data engineering solutioning and data management solutioning ( Both on Premise and on Cloud solutions) - Data Modernization This involves Analytics workload migration to cloud solutions , Analytics modernization (end-to-end). - Analytics AI - This involves solutioning Advanced analytics models / solutions spanning across all Industries   Responsibilities Global Analytics Client Solutioning - Responsible for constructing responses to Analytics Solutions as response to RFP Responsible for providing consulting services on Analytics Responsible for Analytics Solutions as response to RFP   Skills Must have 9+ years working as a Data Scientist with Lead experience. MSc or PhD in machine learning, computer science, mathematical science or similar. Experience in Solutioning Business requirements into fully operationalized AI / ML Projects Experience in leading data science engagements and/or other data scientists within a project. Able to articulate complex data science concepts to both technical and non-technical audiences Experience in Deep Learning and other Machine Learning techniques (e.g. regression, classification, topic modelling, time series, Neural Networks). Exposure / Knowledge in all Data Science offerings (Machine Learning, Anomaly Detection, Text Analytics / NLP, Computer Vision, Deep Learning) Strong Experience with machine learning in Python, SQL, Pandas, Numpy, Scikit Learn, Tensorflow, Keras, PyTorch or equivalent Should be able to drive creation of PoCs and contribute to CoEs working with the Delivery team Should have sound understanding of Agile, DevOps, CI/CD, source control and automated testing Expertise in ML Ops Deployments in one or more projects Experience of working in cloud environments (Azure, GCP, AWS etc) Spark / Hive/ Big Data Tools (Athena/Big Query etc...) Strong domain expertise in 1 or more industry or have exposure to multiple business process scenario Excited about data science! Nice to have Should have sound understanding of Agile, DevOps, CI/CD, source control and automated testing Experience of working in cloud environments (Azure, GCP, AWS etc) Spark / Hive/ Big Data Tools (Athena/Big Query etc...)   ', 'Roles and Responsibilities Tiger Analytics is an AI & advanced analytics consulting firm enabling enterprises to generate business value from data. Today, we are a trusted partner for several Fortune 100 companies - leaders in their respective industries, helping build cutting-edge analytic solutions. We bring deep expertise in marketing & customer analytics, operations & planning analytics, and risk analytics. As a Senior Data Scientist at Tiger Analytics, you will work on a broad range of cutting-edge data science and machine learning problems across a variety of industries. You will be engaging with clients to understand their business context, and lead a team of data scientists and engineers to embed AI and machine learning into the business decision processes. If you are passionate to work on complex unstructured business problems that can be solved using data science and machine learning we would like to talk to you. Role Description: Role involves a combination of hands-on contribution, customer engagement and technical team management. Lead data science aspects of client engagements on their own end to end, effortlessly switching between roles of an Individual Contributor, team member and data science manager as demanded by each project Work closely with project team, Customer stakeholders and internal Business Units in devising creative analytical approaches to solve business problems Developing and enhancing algorithms and models to solve business problem Maintaining all models along with developing and updating code and process documentation Demonstrated analytic, quantitative, and programming skills Proficiency in a structured programming language is a must Knowledge of one of statistical/general purpose scripting languages software such as R, python is mandatory. Strong SQL, Microsoft Excel, PowerPoint skills Experience in designing data science solution approaches to unstructured problems, conducting quantitative analyses and interpreting results Excellent written and verbal communication skills Organized, structured and reliable while being an effective problem solver Proficiency in data science approaches, machine learning algorithms and statistical methods. Qualification and Experience: 8+ years exp of which 5 years of relevant data science experience including hands-on programming in one (or more) of the above languages. Minimum 5 years spent with Analytics teams of reputed consultants and IT/ITES companies doing statistical modelling using above tools B.Tech from Tier-1 college (IITs, NITs, IIITs etc.) - M.S or M.Tech is preferred   Desired Candidate Profile   Perks and Benefits', \"Roles and Responsibilities  Well-versed in quantitative analysis, data mining, trend analysis, customer profiling, clustering and predictive modelling. Executing the data-driven planning process by building models and frameworks that connect business unit drivers to company financials and forecast to take the correct decision as per the business need. Should be able to handle assigned tasks in the capacity of individual contributor. Demonstrate excellent teamwork. Collaborate with other data analysts to provide development coverage, support, and Knowledge sharing and mentoring of junior team members.    Desired Candidate Profile  Bachelor's in Computer Science, Engineering, Statistics, Maths or related quantitative degree preferably from IIT, NIT, DTU and NSIT. 4-6 years of relevant experience in data science. Problem solver who is passionate to deep dive into data and generate insights Experience of data pre-processing and data manipulation using R, Python or SQL Should have some experience in statistical techniques like linear regression, logistic regression, clustering etc. Familiarity with Machine Learning and AI techniques is a plus Track record of managing data project delivery including ability to meet deadlines, overcome challenges, manage stakeholder expectations, and produce clear deliverables Excellent critical thinker with a strong verbal and written communications skills. Ability and desire to work in a proactive, highly engaging, high-pressure, client service environment. Understanding of Cloud Platforms (e.g. Azure / AWS) and ability to use them for developing, training and testing deep learning models\", '- Ability to understand a problem statement and implement analytical solutions & techniques independently with independently/proactively/thought-leadership.  - Work with stakeholders throughout the organization to identify opportunities for leveraging company/client data to drive business solutions.  - Fast learner: ability to learn and pick up a new language/tool/ platform quickly.  - Conceptualize, design, and deliver high-quality solutions and insightful analysis.  - Conduct research and prototyping innovations; data and requirements gathering; solution scoping and architecture; consulting clients and client facing teams on advanced statistical and machine learning problems.  - Collaborate and Coordinate with different functional teams(engineering and product development) to implement models and monitor outcomes.  - Ability to deliver AIML based solutions around a host of domains and problems, with some of them being: Customer Segmentation & Targeting, Propensity Modeling, Churn Modeling, Lifetime Value Estimation, Forecasting, Recommender Systems, Modeling Response to Incentives, Marketing Mix Optimization, Price Optimization  Experience Required:  - Expert level proficiency in Python.  - Ability to create efficient solutions to complex problems. Strong skills in data-structures and ML algorithms.  - Experience of working on end-to-end data science pipeline: problem scoping, data gathering, EDA, modelling, insights, visualizations, monitoring and maintenance.  - Problem-solving: Ability to break the problem into small parts and applying relevant techniques to drive required outcomes.  - Intermediate to advanced knowledge of machine learning, probability theory, statistics, and algorithms. You will be required to discuss and use various algorithms and approaches on a daily basis.  - We use regression, Bayesian methods, tree-based learners, SVM, RF, XGBOOST, time series modeling, dimensionality reduction, SEM, GLM, GLMM, clustering, Deep learning etc. on a regular basis. If you know few of them you are good to go.  Good to Have:  - Experience in one of the upcoming technologies like deep learning, NLP, image processing, recommender systems  - Experience of working in on one or more domains:  - CPG: pricing and promotion analytics, marketing analytics, trade promotions, supply chain management  - BFSI: cross-sell, up-sell, campaign analytics, treasury analytics, fraud detection  - Healthcare: medical adherence, medical risk profiling, EHR data, fraud-waste-abuse  - Experience in working with Linux computing environment and use of command line tools like sed/awk  - Good grasp on databases including RDBMS, NoSQL, MongoDB etc.', 'Provide advanced analytical capabilities to support data science initiatives Solves highly complex problems that do not yet have solutions in the research and span much of the Data Science portfolio Influences the thought process and methodology for other team members Job Requirements Skill seet required: 6+ years of experience in analytics AND 2 years of programming experience (Python, Java, Scala, Rust, etc.) 3 years of experience performing predictive analytics at a large scale enterprise 3 years of experience in data science or advanced analytics in industry SQL Experience Experience using multiple data systems and sources (such as Hadoop, Spark, Aster, Teradata, etc.)', 'Job Role Responsibilities Be a part of a growing organization comprising computational, data scientists and optimization experts working to solve challenging business problems by developing and applying state-of-the-art machine learning techniques. Partner with domain experts across the corporation to identify, scope, and develop machine learning solutions and provide insights to our business partners to reduce costs and/or increase revenue. Primary scope of application will be in the engineering domain, which will require you to understand the underlying physical processes that generate the data, for example solid or fluid mechanics. Communicate recommendations and solutions from data science applications to business partners and influence and drive business uptake of the proposed solutions Help screen and prioritize ideas based on technical feasibility and value maximization Advise senior business line management on challenges and opportunities in the data science space in the various domains; identify and champion new opportunities Provide technical leadership, consulting, and mentorship to early-career engineers, computational and data scientists Work with software and data architecture experts to understand and influence architectural decisions to drive effective development of data-driven solutions for the business.   Job Requirements Masters or PhD from a recognized university in engineering, mathematical sciences, physics or related quantitative discipline with GPA 7.0 (out of 10.0) and above 10+ years of experience in developing and building data science solutions to solve business problems in an engineering or related field In-depth knowledge and practical experience in applying statistical analysis techniques, such as classification, regression, time-series, Bayesian techniques, etc. and machine learning techniques, such as decision-trees, ensemble methods, neural networks, validation methods etc. Experience in developing, applying, and analyzing physics-based models and/or data driven computational models and simulations is an advantage Practical experience in the full machine learning life cycle from problem formulation, data acquisition, modeling building, and deployment at enterprise scale. Experience in Python R and related packages, such as numpy, pandas, sklearn, Keras, Tensorflow, PyTorch Experience with software development practices, agile methodologies, DevOps, version control Demonstrated experience of scoping and opportunity identification of data science problems based on business needs Demonstrated leadership experience in influencing business partners on uptake of data science solutions Strong communication and interpersonal skills Ability to deal with business and technical uncertainty Demonstrated experience mentoring early career data scientists Prior experience leading data science teams value is an advantage Experience with optimization techniques, such as linear or nonlinear programming, and/or experience with commercial solvers such as CPLEX is an advantage Job Segment: Database, Scientific, Engineer, Consulting, Technology, Engineering', 'Hi,  We have an urgent requirement for Data Scientist - Advanced Analytics. Interested candidates can share their resume directly on srishti.wadhwa@cignex.com. Details of the requirement are mentioned below  Roles and Responsibilities Combines deep data and analytics skills with strong business acumen to solve business problems by understanding, preparing, and analyzing data to predict emerging trends and provide recommendations to optimize business results. Responsibilities include working with business leaders to solve business problems by understanding, preparing, and analyzing data to predict emerging trends and provide recommendations to optimize business results. Skills include mathematical optimization, discrete-event simulation, rules programming and predictive analytics.  Desired Candidate Profile Expected to have knowledge and/or experience in the following skills with focus on data science: Data Science, Apache Ambari, MapReduce, Spark, Lambda, Resilient Distributed Dataset, Java, Zookeeper, Knox, Big Data, IBM BigInsights, Apache Hadoop, SQL, RDBMS, Python, Big SQL, BigSheets+E5Big R, Text Analytics, GPFS, HDFS, Platform Symphony, Structured And Unstructured Data, Open Source, R, POSIX, Yarn, Sqoop, Flume, JSON, XML, NoSQL, HBase, Pig, Hive, Oozie, Apache Solr, JSqsh, Data Server Manager, AQL, Data Security, Data Governance, Networking, Neural Net', 'Job Summary  This role is a key contributor in the Data Science Lab, where the candidate will receive the appropriate level of supervision until becoming fully proficient:  Implement and improve existing scientific papers to reach goals defined by senior colleagues Natural Language processing (NLP) is a key part of the role This role will lead a range of data analytics efforts, including monitoring and improving the performance of our Natural Language Understanding (NLU) models Collaborate with legal technology advisors, business departments, innovation lab, finance team and work in the data science lab Creation of new statistical models, research of new solutions and supporting different stakeholders on machine learning and deep learning efforts. Creation and implementation of any new research projects and evangelisation of the research and the results across the company. Collaboration with research colleagues to develop and maintain software embodying research outputs  Roles and Responsibilities  Actively contributing to business analysis during project definitions Deep diving into data, doing analysis and discovering patterns and root causes to generate insights that drive our products Analyse and evaluate the quality of data used for model training and testing Present proposals and results in a clear manner, backed by data, with actionable conclusions to drive business decision to different stakeholders Collaborate with scientists and engineers (internal and external) on data collection and feature design effects Handle competing requests for a range of data customers (e.g. from LTDA and innovation lab) Communicate results to a diverse audience through a wide range of methods including presentation to senior stakeholder Evangelise the work done in the Data Science Lab in internal and external speech opportunities Build and maintain Data Science products e.g. web apps for business consumption  Skills & Experience  Willing to learn new skills, programming languages and development processes Previous experience with analysing and quantifying data from public and private repositories Experience with descriptive statistics and visualization tools']\n"
     ]
    }
   ],
   "source": [
    "job_des=[]\n",
    "for i in job_opening_url:\n",
    "    driver.get(i)\n",
    "    des=driver.find_elements_by_xpath(\"//div[@class='dang-inner-html']\")\n",
    "    for i in des:\n",
    "        job_des.append(i.text.replace('\\n',' '))\n",
    "job_des=job_des[0:10]\n",
    "print('\\n Full Job Description \\n\\n',job_des)"
   ]
  },
  {
   "cell_type": "code",
   "execution_count": 29,
   "metadata": {},
   "outputs": [
    {
     "name": "stdout",
     "output_type": "stream",
     "text": [
      "length of Job Title:  10 \n",
      "length of Job Location:  10 \n",
      "length of Company Name:  10 \n",
      "Length of Full Job Description:  10\n"
     ]
    }
   ],
   "source": [
    "print('length of Job Title: ',len(job_titles),\n",
    "     '\\nlength of Job Location: ',len(job_loc_),\n",
    "      '\\nlength of Company Name: ',len(com_names),\n",
    "      '\\nLength of Full Job Description: ',len(job_des))"
   ]
  },
  {
   "cell_type": "code",
   "execution_count": 30,
   "metadata": {},
   "outputs": [
    {
     "data": {
      "text/html": [
       "<div>\n",
       "<style scoped>\n",
       "    .dataframe tbody tr th:only-of-type {\n",
       "        vertical-align: middle;\n",
       "    }\n",
       "\n",
       "    .dataframe tbody tr th {\n",
       "        vertical-align: top;\n",
       "    }\n",
       "\n",
       "    .dataframe thead th {\n",
       "        text-align: right;\n",
       "    }\n",
       "</style>\n",
       "<table border=\"1\" class=\"dataframe\">\n",
       "  <thead>\n",
       "    <tr style=\"text-align: right;\">\n",
       "      <th></th>\n",
       "      <th>Title</th>\n",
       "      <th>Location</th>\n",
       "      <th>Company Name</th>\n",
       "      <th>Job Description</th>\n",
       "    </tr>\n",
       "  </thead>\n",
       "  <tbody>\n",
       "    <tr>\n",
       "      <th>0</th>\n",
       "      <td>Data Scientist- Senior Business Analyst/Lead A...</td>\n",
       "      <td>Gurgaon/Gurugram, Bangalore/Bengaluru</td>\n",
       "      <td>Evalueserve.com Pvt. Ltd</td>\n",
       "      <td>Job Description Understand and design analytic...</td>\n",
       "    </tr>\n",
       "    <tr>\n",
       "      <th>1</th>\n",
       "      <td>Senior Data Scientist</td>\n",
       "      <td>Bangalore/Bengaluru</td>\n",
       "      <td>Signify</td>\n",
       "      <td>What you ll do Research, design and prototype ...</td>\n",
       "    </tr>\n",
       "    <tr>\n",
       "      <th>2</th>\n",
       "      <td>Senior Data Scientist (Analytics),</td>\n",
       "      <td>Bangalore/Bengaluru</td>\n",
       "      <td>Luxoft</td>\n",
       "      <td>Data and Analytics Proposal Responses for Cr...</td>\n",
       "    </tr>\n",
       "    <tr>\n",
       "      <th>3</th>\n",
       "      <td>Data Scientist: Advanced Analytics</td>\n",
       "      <td>Bangalore/Bengaluru</td>\n",
       "      <td>IBM India Pvt. Limited</td>\n",
       "      <td>Roles and Responsibilities Tiger Analytics is ...</td>\n",
       "    </tr>\n",
       "    <tr>\n",
       "      <th>4</th>\n",
       "      <td>Data Scientist</td>\n",
       "      <td>Bangalore/Bengaluru</td>\n",
       "      <td>IBM India Pvt. Limited</td>\n",
       "      <td>Roles and Responsibilities  Well-versed in qua...</td>\n",
       "    </tr>\n",
       "    <tr>\n",
       "      <th>5</th>\n",
       "      <td>Senior Data Scientist</td>\n",
       "      <td>Bangalore/Bengaluru</td>\n",
       "      <td>SMITHS DETECTION SYSTEMS PRIVATE LIMITED</td>\n",
       "      <td>- Ability to understand a problem statement an...</td>\n",
       "    </tr>\n",
       "    <tr>\n",
       "      <th>6</th>\n",
       "      <td>Senior Data Scientist</td>\n",
       "      <td>Chennai, Bangalore/Bengaluru</td>\n",
       "      <td>Tiger Analytics India LLP</td>\n",
       "      <td>Provide advanced analytical capabilities to su...</td>\n",
       "    </tr>\n",
       "    <tr>\n",
       "      <th>7</th>\n",
       "      <td>Lead Data Scientist</td>\n",
       "      <td>Bangalore/Bengaluru, Delhi / NCR, Mumbai (All ...</td>\n",
       "      <td>TransOrg Solutions Services (P) Ltd.</td>\n",
       "      <td>Job Role Responsibilities Be a part of a growi...</td>\n",
       "    </tr>\n",
       "    <tr>\n",
       "      <th>8</th>\n",
       "      <td>Senior Data Scientist - KPO</td>\n",
       "      <td>(WFH during Covid)</td>\n",
       "      <td>TalentCo Search Pvt Ltd</td>\n",
       "      <td>Hi,  We have an urgent requirement for Data Sc...</td>\n",
       "    </tr>\n",
       "    <tr>\n",
       "      <th>9</th>\n",
       "      <td>Lead Data Scientist - Retail Industry</td>\n",
       "      <td>Mumbai, Bangalore/Bengaluru, Delhi / NCR</td>\n",
       "      <td>IBM India Pvt. Limited</td>\n",
       "      <td>Job Summary  This role is a key contributor in...</td>\n",
       "    </tr>\n",
       "  </tbody>\n",
       "</table>\n",
       "</div>"
      ],
      "text/plain": [
       "                                               Title  \\\n",
       "0  Data Scientist- Senior Business Analyst/Lead A...   \n",
       "1                              Senior Data Scientist   \n",
       "2                 Senior Data Scientist (Analytics),   \n",
       "3                 Data Scientist: Advanced Analytics   \n",
       "4                                     Data Scientist   \n",
       "5                              Senior Data Scientist   \n",
       "6                              Senior Data Scientist   \n",
       "7                                Lead Data Scientist   \n",
       "8                        Senior Data Scientist - KPO   \n",
       "9              Lead Data Scientist - Retail Industry   \n",
       "\n",
       "                                            Location  \\\n",
       "0              Gurgaon/Gurugram, Bangalore/Bengaluru   \n",
       "1                                Bangalore/Bengaluru   \n",
       "2                                Bangalore/Bengaluru   \n",
       "3                                Bangalore/Bengaluru   \n",
       "4                                Bangalore/Bengaluru   \n",
       "5                                Bangalore/Bengaluru   \n",
       "6                       Chennai, Bangalore/Bengaluru   \n",
       "7  Bangalore/Bengaluru, Delhi / NCR, Mumbai (All ...   \n",
       "8                                 (WFH during Covid)   \n",
       "9           Mumbai, Bangalore/Bengaluru, Delhi / NCR   \n",
       "\n",
       "                               Company Name  \\\n",
       "0                  Evalueserve.com Pvt. Ltd   \n",
       "1                                   Signify   \n",
       "2                                    Luxoft   \n",
       "3                    IBM India Pvt. Limited   \n",
       "4                    IBM India Pvt. Limited   \n",
       "5  SMITHS DETECTION SYSTEMS PRIVATE LIMITED   \n",
       "6                 Tiger Analytics India LLP   \n",
       "7      TransOrg Solutions Services (P) Ltd.   \n",
       "8                   TalentCo Search Pvt Ltd   \n",
       "9                    IBM India Pvt. Limited   \n",
       "\n",
       "                                     Job Description  \n",
       "0  Job Description Understand and design analytic...  \n",
       "1  What you ll do Research, design and prototype ...  \n",
       "2    Data and Analytics Proposal Responses for Cr...  \n",
       "3  Roles and Responsibilities Tiger Analytics is ...  \n",
       "4  Roles and Responsibilities  Well-versed in qua...  \n",
       "5  - Ability to understand a problem statement an...  \n",
       "6  Provide advanced analytical capabilities to su...  \n",
       "7  Job Role Responsibilities Be a part of a growi...  \n",
       "8  Hi,  We have an urgent requirement for Data Sc...  \n",
       "9  Job Summary  This role is a key contributor in...  "
      ]
     },
     "execution_count": 30,
     "metadata": {},
     "output_type": "execute_result"
    }
   ],
   "source": [
    "data=pd.DataFrame({'Title':job_titles,'Location':job_loc_,'Company Name':com_names,'Job Description':job_des})\n",
    "data"
   ]
  },
  {
   "cell_type": "markdown",
   "metadata": {},
   "source": [
    "# "
   ]
  },
  {
   "cell_type": "markdown",
   "metadata": {},
   "source": [
    "# 3.In this question you have to scrape data using the filters available....."
   ]
  },
  {
   "cell_type": "code",
   "execution_count": 31,
   "metadata": {},
   "outputs": [],
   "source": [
    "import pandas as pd\n",
    "import selenium\n",
    "from selenium import webdriver"
   ]
  },
  {
   "cell_type": "code",
   "execution_count": 32,
   "metadata": {},
   "outputs": [
    {
     "data": {
      "text/plain": [
       "<selenium.webdriver.chrome.webdriver.WebDriver (session=\"ab680c03bda18916b5d85f62cb9b75c4\")>"
      ]
     },
     "execution_count": 32,
     "metadata": {},
     "output_type": "execute_result"
    }
   ],
   "source": [
    "# connecting to driver\n",
    "driver=webdriver.Chrome('chromedriver.exe')\n",
    "driver"
   ]
  },
  {
   "cell_type": "code",
   "execution_count": 33,
   "metadata": {},
   "outputs": [],
   "source": [
    "url='https://www.naukri.com/'\n",
    "driver.get(url)"
   ]
  },
  {
   "cell_type": "code",
   "execution_count": 34,
   "metadata": {},
   "outputs": [],
   "source": [
    "job_path=driver.find_element_by_id('qsb-keyword-sugg')\n",
    "job_path.send_keys('Data Scientist')"
   ]
  },
  {
   "cell_type": "code",
   "execution_count": 35,
   "metadata": {},
   "outputs": [],
   "source": [
    "search_click=driver.find_element_by_xpath(\"//button[@class='btn']\")\n",
    "search_click.click()"
   ]
  },
  {
   "cell_type": "code",
   "execution_count": 36,
   "metadata": {},
   "outputs": [],
   "source": [
    "loc=driver.find_element_by_xpath('//span[@class=\"fw500\"]')\n",
    "loc.click()"
   ]
  },
  {
   "cell_type": "code",
   "execution_count": 37,
   "metadata": {},
   "outputs": [],
   "source": [
    "sal=driver.find_element_by_xpath('/html/body/div[1]/div[3]/div[2]/section[1]/div[2]/div[3]/div[2]/div[2]/label/p/span[1]')\n",
    "sal.click()"
   ]
  },
  {
   "cell_type": "code",
   "execution_count": 38,
   "metadata": {},
   "outputs": [
    {
     "name": "stdout",
     "output_type": "stream",
     "text": [
      "\n",
      " Job Title \n",
      "\n",
      " ['Data Scientist- Senior Business Analyst/Lead Analyst', 'Senior Data Scientist', 'Senior Data Scientist (Analytics),', 'Data Scientist: Advanced Analytics', 'Data Scientist', 'Lead Data Scientist - Retail Industry', 'Senior Data Scientist', 'Senior Data Scientist', 'Lead Data Scientist', 'Senior Data Scientist - KPO', 'Senior Data Scientist', 'Senior/ Lead Data Scientist', 'Data Scientist', 'Data Scientist: Artificial Intelligence', 'Data Scientist: Artificial Intelligence', 'Data Scientist', 'Data Scientist: Advanced Analytics', 'Data Scientist: Artificial Intelligence', 'Advanced Data Scientist', 'Data Scientist']\n"
     ]
    }
   ],
   "source": [
    "titles=driver.find_elements_by_xpath(\"//a[@class='title fw500 ellipsis']\")\n",
    "titles\n",
    "job_titles=[]\n",
    "for i in titles:\n",
    "    job_titles.append(i.text)\n",
    "print('\\n Job Title \\n\\n',job_titles)"
   ]
  },
  {
   "cell_type": "code",
   "execution_count": 39,
   "metadata": {},
   "outputs": [
    {
     "name": "stdout",
     "output_type": "stream",
     "text": [
      "\n",
      " company name \n",
      "\n",
      " ['Evalueserve.com Pvt. Ltd', 'Signify', 'Luxoft', 'IBM India Pvt. Limited', 'IBM India Pvt. Limited', 'IBM India Pvt. Limited', 'SMITHS DETECTION SYSTEMS PRIVATE LIMITED', 'Tiger Analytics India LLP', 'TransOrg Solutions Services (P) Ltd.', 'TalentCo Search Pvt Ltd', 'TalentCo Search Pvt Ltd', 'Superior Group', 'Cognizant Technology Solutions India Pvt Ltd', 'IBM India Pvt. Limited', 'IBM India Pvt. Limited', 'Oracle India Pvt. Ltd.', 'IBM India Pvt. Limited', 'IBM India Pvt. Limited', 'Exxon Mobil Corporation', 'Travel Centric Technology']\n"
     ]
    }
   ],
   "source": [
    "c_names=driver.find_elements_by_xpath(\"//a[@class='subTitle ellipsis fleft']\")\n",
    "com_names=[]\n",
    "for i in c_names:\n",
    "    com_names.append(i.text)\n",
    "print('\\n company name \\n\\n',com_names)"
   ]
  },
  {
   "cell_type": "code",
   "execution_count": 49,
   "metadata": {},
   "outputs": [
    {
     "name": "stdout",
     "output_type": "stream",
     "text": [
      "\n",
      " Job Location \n",
      "\n",
      " ['Gurgaon/Gurugram, Bangalore/Bengaluru', 'Bangalore/Bengaluru', 'Bangalore/Bengaluru', 'Bangalore/Bengaluru', 'Bangalore/Bengaluru', 'Bangalore/Bengaluru', 'Bangalore/Bengaluru', 'Chennai, Bangalore/Bengaluru', 'Bangalore/Bengaluru, Delhi / NCR, Mumbai (All Areas)', '(WFH during Covid)', 'Mumbai, Bangalore/Bengaluru, Delhi / NCR', 'Mumbai, Delhi / NCR, Bangalore/Bengaluru', 'Bangalore/Bengaluru', 'Chennai, Bangalore/Bengaluru', 'Bangalore/Bengaluru', 'Bangalore/Bengaluru', 'Bangalore/Bengaluru', 'Bangalore/Bengaluru', 'Bangalore/Bengaluru', 'Bangalore/Bengaluru']\n"
     ]
    }
   ],
   "source": [
    "loc_=driver.find_elements_by_xpath(\"//li[@class='fleft grey-text br2 placeHolderLi location']//span\") \n",
    "job_loc_=[]\n",
    "for i in loc_:\n",
    "    job_loc_.append(i.text)\n",
    "job_loc_=job_loc_[:20]\n",
    "print('\\n Job Location \\n\\n',job_loc_)"
   ]
  },
  {
   "cell_type": "code",
   "execution_count": 41,
   "metadata": {},
   "outputs": [
    {
     "name": "stdout",
     "output_type": "stream",
     "text": [
      "\n",
      " Experience Required \n",
      "\n",
      " ['2-7 Yrs', '4-9 Yrs', '5-10 Yrs', '5-10 Yrs', '3-6 Yrs', '7-10 Yrs', '8-10 Yrs', '4-9 Yrs', '4-6 Yrs', '6-10 Yrs', '6-10 Yrs', '6-11 Yrs', '10-12 Yrs', '4-8 Yrs', '4-6 Yrs', '6-10 Yrs', '4-8 Yrs', '4-8 Yrs', '10-15 Yrs', '6-11 Yrs']\n"
     ]
    }
   ],
   "source": [
    "exp=driver.find_elements_by_xpath(\"//li[@class='fleft grey-text br2 placeHolderLi experience']//span\")\n",
    "exp_req=[]\n",
    "for i in exp:\n",
    "    exp_req.append(i.text)\n",
    "print('\\n Experience Required \\n\\n',exp_req)"
   ]
  },
  {
   "cell_type": "code",
   "execution_count": 50,
   "metadata": {},
   "outputs": [
    {
     "name": "stdout",
     "output_type": "stream",
     "text": [
      "length of Job Title:  20 \n",
      "length of Job Location:  20 \n",
      "length of Company Name:  20 \n",
      "Length of Experience Required:  20\n"
     ]
    }
   ],
   "source": [
    "print('length of Job Title: ',len(job_titles),\n",
    "     '\\nlength of Job Location: ',len(job_loc_),\n",
    "      '\\nlength of Company Name: ',len(com_names),\n",
    "      '\\nLength of Experience Required: ',len(exp_req))"
   ]
  },
  {
   "cell_type": "code",
   "execution_count": 51,
   "metadata": {},
   "outputs": [
    {
     "data": {
      "text/html": [
       "<div>\n",
       "<style scoped>\n",
       "    .dataframe tbody tr th:only-of-type {\n",
       "        vertical-align: middle;\n",
       "    }\n",
       "\n",
       "    .dataframe tbody tr th {\n",
       "        vertical-align: top;\n",
       "    }\n",
       "\n",
       "    .dataframe thead th {\n",
       "        text-align: right;\n",
       "    }\n",
       "</style>\n",
       "<table border=\"1\" class=\"dataframe\">\n",
       "  <thead>\n",
       "    <tr style=\"text-align: right;\">\n",
       "      <th></th>\n",
       "      <th>Title</th>\n",
       "      <th>Location</th>\n",
       "      <th>Company Name</th>\n",
       "      <th>Experience Required</th>\n",
       "    </tr>\n",
       "  </thead>\n",
       "  <tbody>\n",
       "    <tr>\n",
       "      <th>0</th>\n",
       "      <td>Data Scientist- Senior Business Analyst/Lead A...</td>\n",
       "      <td>Gurgaon/Gurugram, Bangalore/Bengaluru</td>\n",
       "      <td>Evalueserve.com Pvt. Ltd</td>\n",
       "      <td>2-7 Yrs</td>\n",
       "    </tr>\n",
       "    <tr>\n",
       "      <th>1</th>\n",
       "      <td>Senior Data Scientist</td>\n",
       "      <td>Bangalore/Bengaluru</td>\n",
       "      <td>Signify</td>\n",
       "      <td>4-9 Yrs</td>\n",
       "    </tr>\n",
       "    <tr>\n",
       "      <th>2</th>\n",
       "      <td>Senior Data Scientist (Analytics),</td>\n",
       "      <td>Bangalore/Bengaluru</td>\n",
       "      <td>Luxoft</td>\n",
       "      <td>5-10 Yrs</td>\n",
       "    </tr>\n",
       "    <tr>\n",
       "      <th>3</th>\n",
       "      <td>Data Scientist: Advanced Analytics</td>\n",
       "      <td>Bangalore/Bengaluru</td>\n",
       "      <td>IBM India Pvt. Limited</td>\n",
       "      <td>5-10 Yrs</td>\n",
       "    </tr>\n",
       "    <tr>\n",
       "      <th>4</th>\n",
       "      <td>Data Scientist</td>\n",
       "      <td>Bangalore/Bengaluru</td>\n",
       "      <td>IBM India Pvt. Limited</td>\n",
       "      <td>3-6 Yrs</td>\n",
       "    </tr>\n",
       "    <tr>\n",
       "      <th>5</th>\n",
       "      <td>Lead Data Scientist - Retail Industry</td>\n",
       "      <td>Bangalore/Bengaluru</td>\n",
       "      <td>IBM India Pvt. Limited</td>\n",
       "      <td>7-10 Yrs</td>\n",
       "    </tr>\n",
       "    <tr>\n",
       "      <th>6</th>\n",
       "      <td>Senior Data Scientist</td>\n",
       "      <td>Bangalore/Bengaluru</td>\n",
       "      <td>SMITHS DETECTION SYSTEMS PRIVATE LIMITED</td>\n",
       "      <td>8-10 Yrs</td>\n",
       "    </tr>\n",
       "    <tr>\n",
       "      <th>7</th>\n",
       "      <td>Senior Data Scientist</td>\n",
       "      <td>Chennai, Bangalore/Bengaluru</td>\n",
       "      <td>Tiger Analytics India LLP</td>\n",
       "      <td>4-9 Yrs</td>\n",
       "    </tr>\n",
       "    <tr>\n",
       "      <th>8</th>\n",
       "      <td>Lead Data Scientist</td>\n",
       "      <td>Bangalore/Bengaluru, Delhi / NCR, Mumbai (All ...</td>\n",
       "      <td>TransOrg Solutions Services (P) Ltd.</td>\n",
       "      <td>4-6 Yrs</td>\n",
       "    </tr>\n",
       "    <tr>\n",
       "      <th>9</th>\n",
       "      <td>Senior Data Scientist - KPO</td>\n",
       "      <td>(WFH during Covid)</td>\n",
       "      <td>TalentCo Search Pvt Ltd</td>\n",
       "      <td>6-10 Yrs</td>\n",
       "    </tr>\n",
       "  </tbody>\n",
       "</table>\n",
       "</div>"
      ],
      "text/plain": [
       "                                               Title  \\\n",
       "0  Data Scientist- Senior Business Analyst/Lead A...   \n",
       "1                              Senior Data Scientist   \n",
       "2                 Senior Data Scientist (Analytics),   \n",
       "3                 Data Scientist: Advanced Analytics   \n",
       "4                                     Data Scientist   \n",
       "5              Lead Data Scientist - Retail Industry   \n",
       "6                              Senior Data Scientist   \n",
       "7                              Senior Data Scientist   \n",
       "8                                Lead Data Scientist   \n",
       "9                        Senior Data Scientist - KPO   \n",
       "\n",
       "                                            Location  \\\n",
       "0              Gurgaon/Gurugram, Bangalore/Bengaluru   \n",
       "1                                Bangalore/Bengaluru   \n",
       "2                                Bangalore/Bengaluru   \n",
       "3                                Bangalore/Bengaluru   \n",
       "4                                Bangalore/Bengaluru   \n",
       "5                                Bangalore/Bengaluru   \n",
       "6                                Bangalore/Bengaluru   \n",
       "7                       Chennai, Bangalore/Bengaluru   \n",
       "8  Bangalore/Bengaluru, Delhi / NCR, Mumbai (All ...   \n",
       "9                                 (WFH during Covid)   \n",
       "\n",
       "                               Company Name Experience Required  \n",
       "0                  Evalueserve.com Pvt. Ltd             2-7 Yrs  \n",
       "1                                   Signify             4-9 Yrs  \n",
       "2                                    Luxoft            5-10 Yrs  \n",
       "3                    IBM India Pvt. Limited            5-10 Yrs  \n",
       "4                    IBM India Pvt. Limited             3-6 Yrs  \n",
       "5                    IBM India Pvt. Limited            7-10 Yrs  \n",
       "6  SMITHS DETECTION SYSTEMS PRIVATE LIMITED            8-10 Yrs  \n",
       "7                 Tiger Analytics India LLP             4-9 Yrs  \n",
       "8      TransOrg Solutions Services (P) Ltd.             4-6 Yrs  \n",
       "9                   TalentCo Search Pvt Ltd            6-10 Yrs  "
      ]
     },
     "execution_count": 51,
     "metadata": {},
     "output_type": "execute_result"
    }
   ],
   "source": [
    "df=pd.DataFrame({'Title':job_titles,'Location':job_loc_,'Company Name':com_names,'Experience Required':exp_req})\n",
    "df.iloc[0:10,]"
   ]
  },
  {
   "cell_type": "markdown",
   "metadata": {},
   "source": [
    "# "
   ]
  },
  {
   "cell_type": "markdown",
   "metadata": {},
   "source": [
    "## Q4.Program to scrape data for first 10 job results for Data scientist Designation in Noida location from https://www.glassdoor.co.in/index.htm"
   ]
  },
  {
   "cell_type": "code",
   "execution_count": 52,
   "metadata": {},
   "outputs": [],
   "source": [
    "import pandas as pd\n",
    "import selenium\n",
    "from selenium import webdriver"
   ]
  },
  {
   "cell_type": "code",
   "execution_count": 67,
   "metadata": {},
   "outputs": [
    {
     "data": {
      "text/plain": [
       "<selenium.webdriver.chrome.webdriver.WebDriver (session=\"ff3b663d074b0e40ecd35ff30cae37b2\")>"
      ]
     },
     "execution_count": 67,
     "metadata": {},
     "output_type": "execute_result"
    }
   ],
   "source": [
    "driver=webdriver.Chrome('chromedriver.exe')\n",
    "driver"
   ]
  },
  {
   "cell_type": "code",
   "execution_count": 68,
   "metadata": {},
   "outputs": [],
   "source": [
    "url='https://www.glassdoor.co.in/index.htm'\n",
    "driver.get(url)"
   ]
  },
  {
   "cell_type": "code",
   "execution_count": 69,
   "metadata": {},
   "outputs": [],
   "source": [
    "job_path=driver.find_element_by_xpath(\"//input[@class='css-1etjok6']\")\n",
    "job_path.send_keys('Data Scientist')"
   ]
  },
  {
   "cell_type": "code",
   "execution_count": 70,
   "metadata": {},
   "outputs": [],
   "source": [
    "loc_path=driver.find_element_by_id(\"sc.location\")\n",
    "loc_path.send_keys('Noida')"
   ]
  },
  {
   "cell_type": "code",
   "execution_count": 71,
   "metadata": {
    "scrolled": true
   },
   "outputs": [],
   "source": [
    "search_click=driver.find_element_by_xpath(\"//*[@id='scBar']/div/button/span/span\")\n",
    "search_click.click()"
   ]
  },
  {
   "cell_type": "code",
   "execution_count": 72,
   "metadata": {},
   "outputs": [
    {
     "name": "stdout",
     "output_type": "stream",
     "text": [
      "\n",
      " Company Name \n",
      "\n",
      " ['Applied Materials Inc.', 'Lunavo Labs/Swazei', 'Lericon infomatic pvt.ltd', 'Bizgaze Limited', 'Slice', 'Lericon infomatic pvt.ltd', 'Ambee', 'ParallelDots Technology Pvt Ltd', 'Sadup Softech', 'Entiretyin Pvt Ltd', 'Sciffer Analytics Pvt Ltd', 'OXO Solutions', 'Microsoft', 'Data Trained Education', 'NatWest Group', 'ValueLabs', 'Doon Public School, Junior Wing', 'A for Analytics IT Solution', 'ThirdEye Data', 'IceCream Labs', 'Aliqan Technologies', 'Talent Shiksha', 'GXO Logistics', '6sense', 'Microsoft', 'Tintri', 'Embien', 'YASH Technologies', 'mStack Inc', 'Mercedes-Benz Research and Development India Private Limited']\n"
     ]
    }
   ],
   "source": [
    "cname=driver.find_elements_by_xpath(\"//a[@class=' css-l2wjgv e1n63ojh0 jobLink']\")\n",
    "com_name=[]\n",
    "for i in cname:\n",
    "    com_name.append(i.text)\n",
    "print('\\n Company Name \\n\\n',com_name)"
   ]
  },
  {
   "cell_type": "code",
   "execution_count": 73,
   "metadata": {},
   "outputs": [
    {
     "name": "stdout",
     "output_type": "stream",
     "text": [
      "\n",
      " No. Of Days \n",
      "\n",
      " ['30d+', '1d', '7d', '3d', '', '6d', '24h', '16d', '6d', '7d', '3d', '30d+', '23d', '6d', '3d', '24h', '24h', '6d', '24h', '6d', '29d', '5d', '8d', '6d', '1d', '1d', '9d', '11d', '3d', '24h']\n"
     ]
    }
   ],
   "source": [
    "days=driver.find_elements_by_xpath(\"//div[@class='d-flex align-items-end pl-std css-mi55ob']\")\n",
    "no_of_days=[]\n",
    "for i in days:\n",
    "    no_of_days.append(i.text)\n",
    "print('\\n No. Of Days \\n\\n',no_of_days)"
   ]
  },
  {
   "cell_type": "code",
   "execution_count": 74,
   "metadata": {},
   "outputs": [
    {
     "name": "stdout",
     "output_type": "stream",
     "text": [
      "\n",
      " Job Title \n",
      "\n",
      " ['4.0', '', '', '', '', '', '', '', '', '', '', '5.0', '4.4', '', '3.9', '3.8', '', '', '3.0', '4.1', '', '', '4.0', '4.9', '4.4', '3.2', '5.0', '', '3.3', '4.0']\n"
     ]
    }
   ],
   "source": [
    "rating=driver.find_elements_by_xpath(\"//div[@class='d-flex flex-column css-x75kgh e1rrn5ka3']\")\n",
    "rating_=[]\n",
    "for i in rating:\n",
    "    rating_.append(i.text)\n",
    "print('\\n Job Title \\n\\n',rating_)"
   ]
  },
  {
   "cell_type": "code",
   "execution_count": 75,
   "metadata": {},
   "outputs": [
    {
     "name": "stdout",
     "output_type": "stream",
     "text": [
      "length of Company Name:  30 \n",
      "length of No. of Days:  30 \n",
      "length of Company Rating:  30\n"
     ]
    }
   ],
   "source": [
    "print('length of Company Name: ',len(com_name),\n",
    "     '\\nlength of No. of Days: ',len(no_of_days),\n",
    "      '\\nlength of Company Rating: ',len(rating_))"
   ]
  },
  {
   "cell_type": "code",
   "execution_count": 76,
   "metadata": {},
   "outputs": [
    {
     "data": {
      "text/html": [
       "<div>\n",
       "<style scoped>\n",
       "    .dataframe tbody tr th:only-of-type {\n",
       "        vertical-align: middle;\n",
       "    }\n",
       "\n",
       "    .dataframe tbody tr th {\n",
       "        vertical-align: top;\n",
       "    }\n",
       "\n",
       "    .dataframe thead th {\n",
       "        text-align: right;\n",
       "    }\n",
       "</style>\n",
       "<table border=\"1\" class=\"dataframe\">\n",
       "  <thead>\n",
       "    <tr style=\"text-align: right;\">\n",
       "      <th></th>\n",
       "      <th>Company Name</th>\n",
       "      <th>No.of Days Ago</th>\n",
       "      <th>Company Rating</th>\n",
       "    </tr>\n",
       "  </thead>\n",
       "  <tbody>\n",
       "    <tr>\n",
       "      <th>0</th>\n",
       "      <td>Applied Materials Inc.</td>\n",
       "      <td>30d+</td>\n",
       "      <td>4.0</td>\n",
       "    </tr>\n",
       "    <tr>\n",
       "      <th>1</th>\n",
       "      <td>Lunavo Labs/Swazei</td>\n",
       "      <td>1d</td>\n",
       "      <td></td>\n",
       "    </tr>\n",
       "    <tr>\n",
       "      <th>2</th>\n",
       "      <td>Lericon infomatic pvt.ltd</td>\n",
       "      <td>7d</td>\n",
       "      <td></td>\n",
       "    </tr>\n",
       "    <tr>\n",
       "      <th>3</th>\n",
       "      <td>Bizgaze Limited</td>\n",
       "      <td>3d</td>\n",
       "      <td></td>\n",
       "    </tr>\n",
       "    <tr>\n",
       "      <th>4</th>\n",
       "      <td>Slice</td>\n",
       "      <td></td>\n",
       "      <td></td>\n",
       "    </tr>\n",
       "    <tr>\n",
       "      <th>5</th>\n",
       "      <td>Lericon infomatic pvt.ltd</td>\n",
       "      <td>6d</td>\n",
       "      <td></td>\n",
       "    </tr>\n",
       "    <tr>\n",
       "      <th>6</th>\n",
       "      <td>Ambee</td>\n",
       "      <td>24h</td>\n",
       "      <td></td>\n",
       "    </tr>\n",
       "    <tr>\n",
       "      <th>7</th>\n",
       "      <td>ParallelDots Technology Pvt Ltd</td>\n",
       "      <td>16d</td>\n",
       "      <td></td>\n",
       "    </tr>\n",
       "    <tr>\n",
       "      <th>8</th>\n",
       "      <td>Sadup Softech</td>\n",
       "      <td>6d</td>\n",
       "      <td></td>\n",
       "    </tr>\n",
       "    <tr>\n",
       "      <th>9</th>\n",
       "      <td>Entiretyin Pvt Ltd</td>\n",
       "      <td>7d</td>\n",
       "      <td></td>\n",
       "    </tr>\n",
       "  </tbody>\n",
       "</table>\n",
       "</div>"
      ],
      "text/plain": [
       "                      Company Name No.of Days Ago Company Rating\n",
       "0           Applied Materials Inc.           30d+            4.0\n",
       "1               Lunavo Labs/Swazei             1d               \n",
       "2        Lericon infomatic pvt.ltd             7d               \n",
       "3                  Bizgaze Limited             3d               \n",
       "4                            Slice                              \n",
       "5        Lericon infomatic pvt.ltd             6d               \n",
       "6                            Ambee            24h               \n",
       "7  ParallelDots Technology Pvt Ltd            16d               \n",
       "8                    Sadup Softech             6d               \n",
       "9               Entiretyin Pvt Ltd             7d               "
      ]
     },
     "execution_count": 76,
     "metadata": {},
     "output_type": "execute_result"
    }
   ],
   "source": [
    "df=pd.DataFrame({'Company Name':com_name,'No.of Days Ago':no_of_days,'Company Rating':rating_})\n",
    "df.iloc[0:10,]"
   ]
  },
  {
   "cell_type": "markdown",
   "metadata": {},
   "source": [
    "# "
   ]
  },
  {
   "cell_type": "markdown",
   "metadata": {},
   "source": [
    "## Q5.Program to scrape the salary data for Data Scientist designation in Noida location.from https://www.glassdoor.co.in/Salaries/index.htm"
   ]
  },
  {
   "cell_type": "code",
   "execution_count": 77,
   "metadata": {},
   "outputs": [],
   "source": [
    "import pandas as pd\n",
    "import selenium\n",
    "from selenium import webdriver"
   ]
  },
  {
   "cell_type": "code",
   "execution_count": 59,
   "metadata": {},
   "outputs": [
    {
     "data": {
      "text/plain": [
       "<selenium.webdriver.chrome.webdriver.WebDriver (session=\"3d7ac77a92d4c65449e80751b564db9f\")>"
      ]
     },
     "execution_count": 59,
     "metadata": {},
     "output_type": "execute_result"
    }
   ],
   "source": [
    "driver=webdriver.Chrome('chromedriver.exe')\n",
    "driver"
   ]
  },
  {
   "cell_type": "code",
   "execution_count": 78,
   "metadata": {},
   "outputs": [],
   "source": [
    "url='https://www.glassdoor.co.in/Salaries/index.htm'\n",
    "driver.get(url)"
   ]
  },
  {
   "cell_type": "code",
   "execution_count": 79,
   "metadata": {},
   "outputs": [],
   "source": [
    "job_path=driver.find_element_by_id('KeywordSearch')\n",
    "job_path.send_keys('Data Scientist')"
   ]
  },
  {
   "cell_type": "code",
   "execution_count": 80,
   "metadata": {},
   "outputs": [],
   "source": [
    "loc_path=driver.find_element_by_id('LocationSearch')\n",
    "loc_path.send_keys('Noida')"
   ]
  },
  {
   "cell_type": "code",
   "execution_count": 81,
   "metadata": {},
   "outputs": [],
   "source": [
    "search_click=driver.find_element_by_xpath(\"//button[@class='gd-btn-mkt']\")\n",
    "search_click.click()"
   ]
  },
  {
   "cell_type": "code",
   "execution_count": 82,
   "metadata": {},
   "outputs": [
    {
     "name": "stdout",
     "output_type": "stream",
     "text": [
      "\n",
      " Company Name \n",
      " ['Tata Consultancy Services', 'IBM', 'Accenture', 'Delhivery', 'Ericsson-Worldwide', 'UnitedHealth Group', 'Optum', 'Valiance Solutions', 'EXL Service', 'Optum Global Solutions', 'ZS Associates', 'Innovaccer', 'OYO', 'Nagarro', 'Cognizant Technology Solutions', 'CARS24.com', 'dunnhumby', 'Vidooly Media Tech', 'Amazon', 'Tech Mahindra']\n"
     ]
    }
   ],
   "source": [
    "cname=driver.find_elements_by_xpath(\"//a[@class='css-f3vw95 e1aj7ssy3']\")\n",
    "com_name=[]\n",
    "for i in cname:\n",
    "    com_name.append(i.text)\n",
    "print('\\n Company Name \\n',com_name)"
   ]
  },
  {
   "cell_type": "code",
   "execution_count": 83,
   "metadata": {},
   "outputs": [
    {
     "name": "stdout",
     "output_type": "stream",
     "text": [
      "\n",
      " No.of Salaries \n",
      " ['18 salaries', '18 salaries', '15 salaries', '15 salaries', '14 salaries', '14 salaries', '10 salaries', '10 salaries', '9 salaries', '9 salaries', '8 salaries', '8 salaries', '7 salaries', '7 salaries', '6 salaries', '6 salaries', '6 salaries', '6 salaries', '5 salaries', '5 salaries']\n"
     ]
    }
   ],
   "source": [
    "salary=driver.find_elements_by_xpath(\"//div[@class='col-12 col-lg-auto']\")\n",
    "no_of_salaries=[]\n",
    "for i in salary:\n",
    "    no_of_salaries.append(i.text)\n",
    "print('\\n No.of Salaries \\n',no_of_salaries)"
   ]
  },
  {
   "cell_type": "code",
   "execution_count": 84,
   "metadata": {},
   "outputs": [
    {
     "name": "stdout",
     "output_type": "stream",
     "text": [
      "\n",
      " Average Salary \n",
      " ['₹6,12,205  /yr', '₹9,00,000  /yr', '₹11,63,336  /yr', '₹12,18,244  /yr', '₹7,39,238  /yr', '₹12,80,000  /yr', '₹13,20,960  /yr', '₹8,63,750  /yr', '₹11,10,000  /yr', '₹13,28,697  /yr', '₹11,42,356  /yr', '₹12,09,040  /yr', '₹14,15,338  /yr', '₹10,22,074  /yr', '₹10,09,021  /yr', '₹10,00,000  /yr', '₹10,55,478  /yr', '₹34,157  /mo', '₹20,00,000  /yr', '₹10,54,402  /yr']\n"
     ]
    }
   ],
   "source": [
    "asal=driver.find_elements_by_xpath(\"//div[@class='col-12 col-lg-4 px-lg-0 d-flex align-items-baseline']\")\n",
    "\n",
    "avg_sal=[]\n",
    "for i in asal:\n",
    "    avg_sal.append(i.text.replace('\\n',' '))\n",
    "print('\\n Average Salary \\n',avg_sal)"
   ]
  },
  {
   "cell_type": "code",
   "execution_count": 85,
   "metadata": {},
   "outputs": [
    {
     "name": "stdout",
     "output_type": "stream",
     "text": [
      "\n",
      " Maximum Salary \n",
      "\n",
      " ['₹3L ₹13L', '₹6L ₹27L', '₹6L ₹22L', '₹5L ₹1Cr', '₹4L ₹16L', '₹8L ₹15L', '₹8L ₹20L', '₹5L ₹15L', '₹6L ₹15L', '₹4L ₹22L', '₹2L ₹18L', '₹6L ₹17L', '₹10L ₹21L', '₹4L ₹16L', '₹8L ₹13L', '₹9L ₹15L', '₹8L ₹20L', '₹12T ₹63T', '₹10L ₹21L', '₹4L ₹17L']\n"
     ]
    }
   ],
   "source": [
    "maxsal=driver.find_elements_by_xpath(\"//div[@class='d-none d-lg-flex col-2 align-items-center']\")\n",
    "\n",
    "max_sal=[]\n",
    "for i in maxsal:\n",
    "    max_sal.append(i.text.replace('Range: ','').replace('\\n',' '))\n",
    "print('\\n Maximum Salary \\n\\n',max_sal)"
   ]
  },
  {
   "cell_type": "code",
   "execution_count": 86,
   "metadata": {},
   "outputs": [
    {
     "data": {
      "text/plain": [
       "['₹13L',\n",
       " '₹27L',\n",
       " '₹22L',\n",
       " '₹1Cr',\n",
       " '₹16L',\n",
       " '₹15L',\n",
       " '₹20L',\n",
       " '₹15L',\n",
       " '₹15L',\n",
       " '₹22L',\n",
       " '₹18L',\n",
       " '₹17L',\n",
       " ' ₹21L',\n",
       " '₹16L',\n",
       " '₹13L',\n",
       " '₹15L',\n",
       " '₹20L',\n",
       " ' ₹63T',\n",
       " ' ₹21L',\n",
       " '₹17L']"
      ]
     },
     "execution_count": 86,
     "metadata": {},
     "output_type": "execute_result"
    }
   ],
   "source": [
    "max_s=[]    \n",
    "for p in max_sal:\n",
    "   max_s.append(p[4:]) \n",
    "max_s"
   ]
  },
  {
   "cell_type": "code",
   "execution_count": 87,
   "metadata": {},
   "outputs": [
    {
     "name": "stdout",
     "output_type": "stream",
     "text": [
      "\n",
      " Minimum Salary \n",
      "\n",
      " ['₹3L ₹13L', '₹6L ₹27L', '₹6L ₹22L', '₹5L ₹1Cr', '₹4L ₹16L', '₹8L ₹15L', '₹8L ₹20L', '₹5L ₹15L', '₹6L ₹15L', '₹4L ₹22L', '₹2L ₹18L', '₹6L ₹17L', '₹10L ₹21L', '₹4L ₹16L', '₹8L ₹13L', '₹9L ₹15L', '₹8L ₹20L', '₹12T ₹63T', '₹10L ₹21L', '₹4L ₹17L']\n"
     ]
    }
   ],
   "source": [
    "minsal=driver.find_elements_by_xpath(\"//div[@class='d-none d-lg-flex col-2 align-items-center']\")\n",
    "\n",
    "min_sal=[]\n",
    "for i in minsal:\n",
    "    min_sal.append(i.text.replace('Range: ','').replace('\\n',' '))\n",
    "\n",
    "print('\\n Minimum Salary \\n\\n',min_sal)"
   ]
  },
  {
   "cell_type": "code",
   "execution_count": 88,
   "metadata": {},
   "outputs": [
    {
     "data": {
      "text/plain": [
       "['₹3L ',\n",
       " '₹6L ',\n",
       " '₹6L ',\n",
       " '₹5L ',\n",
       " '₹4L ',\n",
       " '₹8L ',\n",
       " '₹8L ',\n",
       " '₹5L ',\n",
       " '₹6L ',\n",
       " '₹4L ',\n",
       " '₹2L ',\n",
       " '₹6L ',\n",
       " '₹10L ',\n",
       " '₹4L ',\n",
       " '₹8L ',\n",
       " '₹9L ',\n",
       " '₹8L ',\n",
       " '₹12T ',\n",
       " '₹10L ',\n",
       " '₹4L ']"
      ]
     },
     "execution_count": 88,
     "metadata": {},
     "output_type": "execute_result"
    }
   ],
   "source": [
    "min_s=[]    \n",
    "for p in min_sal:\n",
    "    min_s.append(p[:-4]) \n",
    "min_s"
   ]
  },
  {
   "cell_type": "code",
   "execution_count": 89,
   "metadata": {},
   "outputs": [
    {
     "name": "stdout",
     "output_type": "stream",
     "text": [
      "length of Company Name:  20 \n",
      "length of No. of Salaries:  20 \n",
      "length of Average Salary:  20 \n",
      "length of Maximum Salary:  20 \n",
      "length of Minimum Salary:  20\n"
     ]
    }
   ],
   "source": [
    "print('length of Company Name: ',len(com_name),\n",
    "     '\\nlength of No. of Salaries: ',len(no_of_salaries),\n",
    "      '\\nlength of Average Salary: ',len(avg_sal),\n",
    "      '\\nlength of Maximum Salary: ',len(max_s),\n",
    "      '\\nlength of Minimum Salary: ',len(min_s))"
   ]
  },
  {
   "cell_type": "code",
   "execution_count": 90,
   "metadata": {},
   "outputs": [
    {
     "data": {
      "text/html": [
       "<div>\n",
       "<style scoped>\n",
       "    .dataframe tbody tr th:only-of-type {\n",
       "        vertical-align: middle;\n",
       "    }\n",
       "\n",
       "    .dataframe tbody tr th {\n",
       "        vertical-align: top;\n",
       "    }\n",
       "\n",
       "    .dataframe thead th {\n",
       "        text-align: right;\n",
       "    }\n",
       "</style>\n",
       "<table border=\"1\" class=\"dataframe\">\n",
       "  <thead>\n",
       "    <tr style=\"text-align: right;\">\n",
       "      <th></th>\n",
       "      <th>Name</th>\n",
       "      <th>No.of Salaries</th>\n",
       "      <th>Average Salary</th>\n",
       "      <th>Minimum Salary</th>\n",
       "      <th>Maximun Salary</th>\n",
       "    </tr>\n",
       "  </thead>\n",
       "  <tbody>\n",
       "    <tr>\n",
       "      <th>0</th>\n",
       "      <td>Tata Consultancy Services</td>\n",
       "      <td>18 salaries</td>\n",
       "      <td>₹6,12,205  /yr</td>\n",
       "      <td>₹3L</td>\n",
       "      <td>₹13L</td>\n",
       "    </tr>\n",
       "    <tr>\n",
       "      <th>1</th>\n",
       "      <td>IBM</td>\n",
       "      <td>18 salaries</td>\n",
       "      <td>₹9,00,000  /yr</td>\n",
       "      <td>₹6L</td>\n",
       "      <td>₹27L</td>\n",
       "    </tr>\n",
       "    <tr>\n",
       "      <th>2</th>\n",
       "      <td>Accenture</td>\n",
       "      <td>15 salaries</td>\n",
       "      <td>₹11,63,336  /yr</td>\n",
       "      <td>₹6L</td>\n",
       "      <td>₹22L</td>\n",
       "    </tr>\n",
       "    <tr>\n",
       "      <th>3</th>\n",
       "      <td>Delhivery</td>\n",
       "      <td>15 salaries</td>\n",
       "      <td>₹12,18,244  /yr</td>\n",
       "      <td>₹5L</td>\n",
       "      <td>₹1Cr</td>\n",
       "    </tr>\n",
       "    <tr>\n",
       "      <th>4</th>\n",
       "      <td>Ericsson-Worldwide</td>\n",
       "      <td>14 salaries</td>\n",
       "      <td>₹7,39,238  /yr</td>\n",
       "      <td>₹4L</td>\n",
       "      <td>₹16L</td>\n",
       "    </tr>\n",
       "    <tr>\n",
       "      <th>5</th>\n",
       "      <td>UnitedHealth Group</td>\n",
       "      <td>14 salaries</td>\n",
       "      <td>₹12,80,000  /yr</td>\n",
       "      <td>₹8L</td>\n",
       "      <td>₹15L</td>\n",
       "    </tr>\n",
       "    <tr>\n",
       "      <th>6</th>\n",
       "      <td>Optum</td>\n",
       "      <td>10 salaries</td>\n",
       "      <td>₹13,20,960  /yr</td>\n",
       "      <td>₹8L</td>\n",
       "      <td>₹20L</td>\n",
       "    </tr>\n",
       "    <tr>\n",
       "      <th>7</th>\n",
       "      <td>Valiance Solutions</td>\n",
       "      <td>10 salaries</td>\n",
       "      <td>₹8,63,750  /yr</td>\n",
       "      <td>₹5L</td>\n",
       "      <td>₹15L</td>\n",
       "    </tr>\n",
       "    <tr>\n",
       "      <th>8</th>\n",
       "      <td>EXL Service</td>\n",
       "      <td>9 salaries</td>\n",
       "      <td>₹11,10,000  /yr</td>\n",
       "      <td>₹6L</td>\n",
       "      <td>₹15L</td>\n",
       "    </tr>\n",
       "    <tr>\n",
       "      <th>9</th>\n",
       "      <td>Optum Global Solutions</td>\n",
       "      <td>9 salaries</td>\n",
       "      <td>₹13,28,697  /yr</td>\n",
       "      <td>₹4L</td>\n",
       "      <td>₹22L</td>\n",
       "    </tr>\n",
       "  </tbody>\n",
       "</table>\n",
       "</div>"
      ],
      "text/plain": [
       "                        Name No.of Salaries   Average Salary Minimum Salary  \\\n",
       "0  Tata Consultancy Services    18 salaries   ₹6,12,205  /yr           ₹3L    \n",
       "1                        IBM    18 salaries   ₹9,00,000  /yr           ₹6L    \n",
       "2                  Accenture    15 salaries  ₹11,63,336  /yr           ₹6L    \n",
       "3                  Delhivery    15 salaries  ₹12,18,244  /yr           ₹5L    \n",
       "4         Ericsson-Worldwide    14 salaries   ₹7,39,238  /yr           ₹4L    \n",
       "5         UnitedHealth Group    14 salaries  ₹12,80,000  /yr           ₹8L    \n",
       "6                      Optum    10 salaries  ₹13,20,960  /yr           ₹8L    \n",
       "7         Valiance Solutions    10 salaries   ₹8,63,750  /yr           ₹5L    \n",
       "8                EXL Service     9 salaries  ₹11,10,000  /yr           ₹6L    \n",
       "9     Optum Global Solutions     9 salaries  ₹13,28,697  /yr           ₹4L    \n",
       "\n",
       "  Maximun Salary  \n",
       "0           ₹13L  \n",
       "1           ₹27L  \n",
       "2           ₹22L  \n",
       "3           ₹1Cr  \n",
       "4           ₹16L  \n",
       "5           ₹15L  \n",
       "6           ₹20L  \n",
       "7           ₹15L  \n",
       "8           ₹15L  \n",
       "9           ₹22L  "
      ]
     },
     "execution_count": 90,
     "metadata": {},
     "output_type": "execute_result"
    }
   ],
   "source": [
    "df=pd.DataFrame({'Name':com_name,'No.of Salaries':no_of_salaries,'Average Salary':avg_sal,'Minimum Salary':min_s,'Maximun Salary':max_s})\n",
    "df.iloc[0:10,]"
   ]
  },
  {
   "cell_type": "markdown",
   "metadata": {},
   "source": [
    "# "
   ]
  },
  {
   "cell_type": "markdown",
   "metadata": {},
   "source": [
    "# 6.Scrape data of first 100 sunglasses listings on flipkart.com"
   ]
  },
  {
   "cell_type": "code",
   "execution_count": 91,
   "metadata": {},
   "outputs": [],
   "source": [
    "import pandas as pd\n",
    "import selenium\n",
    "from selenium import webdriver"
   ]
  },
  {
   "cell_type": "code",
   "execution_count": 92,
   "metadata": {},
   "outputs": [
    {
     "data": {
      "text/plain": [
       "<selenium.webdriver.chrome.webdriver.WebDriver (session=\"06ac4e7bac9b37c82d62cb2499234149\")>"
      ]
     },
     "execution_count": 92,
     "metadata": {},
     "output_type": "execute_result"
    }
   ],
   "source": [
    "driver=webdriver.Chrome('chromedriver.exe')\n",
    "driver"
   ]
  },
  {
   "cell_type": "code",
   "execution_count": 93,
   "metadata": {},
   "outputs": [],
   "source": [
    "driver.get('https://www.flipkart.com/')"
   ]
  },
  {
   "cell_type": "code",
   "execution_count": 94,
   "metadata": {},
   "outputs": [],
   "source": [
    "enter=driver.find_element_by_name('q')\n",
    "enter.send_keys('sunglasses')"
   ]
  },
  {
   "cell_type": "code",
   "execution_count": 96,
   "metadata": {},
   "outputs": [],
   "source": [
    "search=driver.find_element_by_xpath(\"//button[@class='L0Z3Pu']\")\n",
    "search.click()"
   ]
  },
  {
   "cell_type": "markdown",
   "metadata": {},
   "source": [
    "#### 1st page"
   ]
  },
  {
   "cell_type": "code",
   "execution_count": 97,
   "metadata": {},
   "outputs": [
    {
     "name": "stdout",
     "output_type": "stream",
     "text": [
      "\n",
      " Brand Name \n",
      "\n",
      " ['Wrogn', 'ROYAL SON', 'Elligator', 'Fastrack', 'PIRASO', 'Fastrack', 'kingsunglasses', 'ROYAL SON', 'Fastrack', 'SUNBEE', 'kingsunglasses', 'ROYAL SON', 'PHENOMENAL', 'Fastrack', 'SHAAH COLLECTIONS', 'PIRASO', 'Fastrack', 'Fastrack', 'PIRASO', 'Wrogn', 'Fastrack', 'ROZZETTA CRAFT', 'GANSTA', 'PIRASO', 'Fastrack', 'ROZZETTA CRAFT', 'Silver Kartz', 'ROYAL SON', 'Fastrack', 'hipe', 'Fravy', 'ROYAL SON', 'SHAAH COLLECTIONS', 'PHENOMENAL', 'Elligator', 'ROYAL SON', 'kingsunglasses', 'Fravy']\n"
     ]
    }
   ],
   "source": [
    "brand=driver.find_elements_by_xpath(\"//div[@class='_2WkVRV']\")\n",
    "# using for loop to extracting text\n",
    "brand_name=[]\n",
    "for i in brand:\n",
    "    brand_name.append(i.text)\n",
    "brand_name=brand_name[:-2]\n",
    "print('\\n Brand Name \\n\\n',brand_name)"
   ]
  },
  {
   "cell_type": "code",
   "execution_count": 98,
   "metadata": {},
   "outputs": [
    {
     "name": "stdout",
     "output_type": "stream",
     "text": [
      "\n",
      " Price \n",
      "\n",
      " ['₹663', '₹474', '₹295', '₹513', '₹237', '₹758', '₹299', '₹899', '₹509', '₹331', '₹225', '₹379', '₹379', '₹1,010', '₹198', '₹237', '₹733', '₹1,085', '₹237', '₹1,007', '₹546', '₹404', '₹266', '₹399', '₹738', '₹499', '₹246', '₹664', '₹771', '₹199', '₹299', '₹499', '₹331', '₹379', '₹312', '₹499', '₹210', '₹179']\n"
     ]
    }
   ],
   "source": [
    "price=driver.find_elements_by_xpath(\"//div[@class='_30jeq3']\")\n",
    "# using for loop to extracting text\n",
    "price_=[]\n",
    "for i in price:\n",
    "    price_.append(i.text)\n",
    "price_=price_[:-2]\n",
    "print('\\n Price \\n\\n',price_)"
   ]
  },
  {
   "cell_type": "code",
   "execution_count": 99,
   "metadata": {
    "scrolled": true
   },
   "outputs": [
    {
     "name": "stdout",
     "output_type": "stream",
     "text": [
      "\n",
      " Discount % \n",
      "\n",
      " ['73% off', '68% off', '88% off', '35% off', '85% off', '15% off', '88% off', '55% off', '36% off', '80% off', '79% off', '74% off', '81% off', '22% off', '88% off', '85% off', '18% off', '16% off', '85% off', '69% off', '31% off', '79% off', '86% off', '84% off', '26% off', '77% off', '83% off', '55% off', '14% off', '86% off', '80% off', '66% off', '80% off', '81% off', '87% off', '66% off', '82% off', '80% off']\n"
     ]
    }
   ],
   "source": [
    "discount=driver.find_elements_by_xpath(\"//div[@class='_3Ay6Sb']\")\n",
    "# using for loop to extracting text\n",
    "discount_=[]\n",
    "for i in discount:\n",
    "    discount_.append(i.text)\n",
    "discount_=discount_[:-2]\n",
    "print('\\n Discount % \\n\\n',discount_)"
   ]
  },
  {
   "cell_type": "code",
   "execution_count": 102,
   "metadata": {},
   "outputs": [
    {
     "name": "stdout",
     "output_type": "stream",
     "text": [
      "\n",
      " Product Description  \n",
      "\n",
      " ['Mirrored Wayfarer Sunglasses (51)', 'UV Protection Retro Square Sunglasses (58)', 'UV Protection Round Sunglasses (54)', 'UV Protection Rectangular Sunglasses (Free Size)', 'UV Protection Aviator Sunglasses (54)', 'UV Protection Wayfarer Sunglasses (Free Size)', 'Mirrored, UV Protection Wayfarer Sunglasses (Free Size)', 'Polarized Retro Square Sunglasses (58)', 'Gradient, UV Protection Wayfarer Sunglasses (Free Size)', 'UV Protection, Polarized, Mirrored Round Sunglasses (Fr...', 'UV Protection Round Sunglasses (54)', 'Mirrored Aviator Sunglasses (55)', 'UV Protection Retro Square Sunglasses (Free Size)', 'UV Protection Aviator Sunglasses (58)', 'UV Protection, Polarized, Mirrored Rectangular Sunglass...', 'UV Protection Wayfarer Sunglasses (32)', 'UV Protection Wayfarer Sunglasses (Free Size)', 'UV Protection Aviator Sunglasses (58)', 'UV Protection Aviator Sunglasses (54)', 'UV Protection Aviator Sunglasses (60)', 'UV Protection Aviator Sunglasses (Free Size)', 'UV Protection, Gradient Rectangular Sunglasses (Free Si...', 'UV Protection Aviator Sunglasses (57)', 'UV Protection Aviator Sunglasses (58)', 'Mirrored, UV Protection Wayfarer Sunglasses (Free Size)', 'UV Protection Retro Square Sunglasses (Free Size)', 'UV Protection Wayfarer Sunglasses (Free Size)', 'Polarized, UV Protection Rectangular Sunglasses (59)', 'UV Protection Sports Sunglasses (Free Size)', 'Mirrored, UV Protection, Gradient Round Sunglasses (55)', 'UV Protection Retro Square Sunglasses (Free Size)', 'UV Protection Rectangular Sunglasses (Free Size)', 'UV Protection Round Sunglasses (Free Size)', 'UV Protection, Mirrored Retro Square Sunglasses (53)', 'Mirrored Round Sunglasses (53)', 'UV Protection Retro Square Sunglasses (58)', 'UV Protection Rectangular Sunglasses (Free Size)', 'UV Protection Wayfarer Sunglasses (56)']\n"
     ]
    }
   ],
   "source": [
    "product=driver.find_elements_by_xpath(\"//a[@class='IRpwTa']\")\n",
    "product_des=[]\n",
    "for i in product:\n",
    "    product_des.append(i.text)\n",
    "product_des=product_des[:-2]\n",
    "print('\\n Product Description  \\n\\n',product_des)"
   ]
  },
  {
   "cell_type": "code",
   "execution_count": 103,
   "metadata": {},
   "outputs": [
    {
     "name": "stdout",
     "output_type": "stream",
     "text": [
      "length of Brand Name:  38 \n",
      "length of Price:  38 \n",
      "length of Discount Percentage:  38 \n",
      "length of Product Description:  38\n"
     ]
    }
   ],
   "source": [
    "print('length of Brand Name: ',len(brand_name),\n",
    "     '\\nlength of Price: ',len(price_),\n",
    "      '\\nlength of Discount Percentage: ',len(discount_),\n",
    "      '\\nlength of Product Description: ',len(product_des))"
   ]
  },
  {
   "cell_type": "code",
   "execution_count": 104,
   "metadata": {},
   "outputs": [
    {
     "data": {
      "text/html": [
       "<div>\n",
       "<style scoped>\n",
       "    .dataframe tbody tr th:only-of-type {\n",
       "        vertical-align: middle;\n",
       "    }\n",
       "\n",
       "    .dataframe tbody tr th {\n",
       "        vertical-align: top;\n",
       "    }\n",
       "\n",
       "    .dataframe thead th {\n",
       "        text-align: right;\n",
       "    }\n",
       "</style>\n",
       "<table border=\"1\" class=\"dataframe\">\n",
       "  <thead>\n",
       "    <tr style=\"text-align: right;\">\n",
       "      <th></th>\n",
       "      <th>Brand Name</th>\n",
       "      <th>Product Description</th>\n",
       "      <th>Price</th>\n",
       "      <th>Discount %</th>\n",
       "    </tr>\n",
       "  </thead>\n",
       "  <tbody>\n",
       "    <tr>\n",
       "      <th>0</th>\n",
       "      <td>Wrogn</td>\n",
       "      <td>Mirrored Wayfarer Sunglasses (51)</td>\n",
       "      <td>₹663</td>\n",
       "      <td>73% off</td>\n",
       "    </tr>\n",
       "    <tr>\n",
       "      <th>1</th>\n",
       "      <td>ROYAL SON</td>\n",
       "      <td>UV Protection Retro Square Sunglasses (58)</td>\n",
       "      <td>₹474</td>\n",
       "      <td>68% off</td>\n",
       "    </tr>\n",
       "    <tr>\n",
       "      <th>2</th>\n",
       "      <td>Elligator</td>\n",
       "      <td>UV Protection Round Sunglasses (54)</td>\n",
       "      <td>₹295</td>\n",
       "      <td>88% off</td>\n",
       "    </tr>\n",
       "    <tr>\n",
       "      <th>3</th>\n",
       "      <td>Fastrack</td>\n",
       "      <td>UV Protection Rectangular Sunglasses (Free Size)</td>\n",
       "      <td>₹513</td>\n",
       "      <td>35% off</td>\n",
       "    </tr>\n",
       "    <tr>\n",
       "      <th>4</th>\n",
       "      <td>PIRASO</td>\n",
       "      <td>UV Protection Aviator Sunglasses (54)</td>\n",
       "      <td>₹237</td>\n",
       "      <td>85% off</td>\n",
       "    </tr>\n",
       "    <tr>\n",
       "      <th>5</th>\n",
       "      <td>Fastrack</td>\n",
       "      <td>UV Protection Wayfarer Sunglasses (Free Size)</td>\n",
       "      <td>₹758</td>\n",
       "      <td>15% off</td>\n",
       "    </tr>\n",
       "    <tr>\n",
       "      <th>6</th>\n",
       "      <td>kingsunglasses</td>\n",
       "      <td>Mirrored, UV Protection Wayfarer Sunglasses (F...</td>\n",
       "      <td>₹299</td>\n",
       "      <td>88% off</td>\n",
       "    </tr>\n",
       "    <tr>\n",
       "      <th>7</th>\n",
       "      <td>ROYAL SON</td>\n",
       "      <td>Polarized Retro Square Sunglasses (58)</td>\n",
       "      <td>₹899</td>\n",
       "      <td>55% off</td>\n",
       "    </tr>\n",
       "    <tr>\n",
       "      <th>8</th>\n",
       "      <td>Fastrack</td>\n",
       "      <td>Gradient, UV Protection Wayfarer Sunglasses (F...</td>\n",
       "      <td>₹509</td>\n",
       "      <td>36% off</td>\n",
       "    </tr>\n",
       "    <tr>\n",
       "      <th>9</th>\n",
       "      <td>SUNBEE</td>\n",
       "      <td>UV Protection, Polarized, Mirrored Round Sungl...</td>\n",
       "      <td>₹331</td>\n",
       "      <td>80% off</td>\n",
       "    </tr>\n",
       "    <tr>\n",
       "      <th>10</th>\n",
       "      <td>kingsunglasses</td>\n",
       "      <td>UV Protection Round Sunglasses (54)</td>\n",
       "      <td>₹225</td>\n",
       "      <td>79% off</td>\n",
       "    </tr>\n",
       "    <tr>\n",
       "      <th>11</th>\n",
       "      <td>ROYAL SON</td>\n",
       "      <td>Mirrored Aviator Sunglasses (55)</td>\n",
       "      <td>₹379</td>\n",
       "      <td>74% off</td>\n",
       "    </tr>\n",
       "    <tr>\n",
       "      <th>12</th>\n",
       "      <td>PHENOMENAL</td>\n",
       "      <td>UV Protection Retro Square Sunglasses (Free Size)</td>\n",
       "      <td>₹379</td>\n",
       "      <td>81% off</td>\n",
       "    </tr>\n",
       "    <tr>\n",
       "      <th>13</th>\n",
       "      <td>Fastrack</td>\n",
       "      <td>UV Protection Aviator Sunglasses (58)</td>\n",
       "      <td>₹1,010</td>\n",
       "      <td>22% off</td>\n",
       "    </tr>\n",
       "    <tr>\n",
       "      <th>14</th>\n",
       "      <td>SHAAH COLLECTIONS</td>\n",
       "      <td>UV Protection, Polarized, Mirrored Rectangular...</td>\n",
       "      <td>₹198</td>\n",
       "      <td>88% off</td>\n",
       "    </tr>\n",
       "    <tr>\n",
       "      <th>15</th>\n",
       "      <td>PIRASO</td>\n",
       "      <td>UV Protection Wayfarer Sunglasses (32)</td>\n",
       "      <td>₹237</td>\n",
       "      <td>85% off</td>\n",
       "    </tr>\n",
       "    <tr>\n",
       "      <th>16</th>\n",
       "      <td>Fastrack</td>\n",
       "      <td>UV Protection Wayfarer Sunglasses (Free Size)</td>\n",
       "      <td>₹733</td>\n",
       "      <td>18% off</td>\n",
       "    </tr>\n",
       "    <tr>\n",
       "      <th>17</th>\n",
       "      <td>Fastrack</td>\n",
       "      <td>UV Protection Aviator Sunglasses (58)</td>\n",
       "      <td>₹1,085</td>\n",
       "      <td>16% off</td>\n",
       "    </tr>\n",
       "    <tr>\n",
       "      <th>18</th>\n",
       "      <td>PIRASO</td>\n",
       "      <td>UV Protection Aviator Sunglasses (54)</td>\n",
       "      <td>₹237</td>\n",
       "      <td>85% off</td>\n",
       "    </tr>\n",
       "    <tr>\n",
       "      <th>19</th>\n",
       "      <td>Wrogn</td>\n",
       "      <td>UV Protection Aviator Sunglasses (60)</td>\n",
       "      <td>₹1,007</td>\n",
       "      <td>69% off</td>\n",
       "    </tr>\n",
       "    <tr>\n",
       "      <th>20</th>\n",
       "      <td>Fastrack</td>\n",
       "      <td>UV Protection Aviator Sunglasses (Free Size)</td>\n",
       "      <td>₹546</td>\n",
       "      <td>31% off</td>\n",
       "    </tr>\n",
       "    <tr>\n",
       "      <th>21</th>\n",
       "      <td>ROZZETTA CRAFT</td>\n",
       "      <td>UV Protection, Gradient Rectangular Sunglasses...</td>\n",
       "      <td>₹404</td>\n",
       "      <td>79% off</td>\n",
       "    </tr>\n",
       "    <tr>\n",
       "      <th>22</th>\n",
       "      <td>GANSTA</td>\n",
       "      <td>UV Protection Aviator Sunglasses (57)</td>\n",
       "      <td>₹266</td>\n",
       "      <td>86% off</td>\n",
       "    </tr>\n",
       "    <tr>\n",
       "      <th>23</th>\n",
       "      <td>PIRASO</td>\n",
       "      <td>UV Protection Aviator Sunglasses (58)</td>\n",
       "      <td>₹399</td>\n",
       "      <td>84% off</td>\n",
       "    </tr>\n",
       "    <tr>\n",
       "      <th>24</th>\n",
       "      <td>Fastrack</td>\n",
       "      <td>Mirrored, UV Protection Wayfarer Sunglasses (F...</td>\n",
       "      <td>₹738</td>\n",
       "      <td>26% off</td>\n",
       "    </tr>\n",
       "    <tr>\n",
       "      <th>25</th>\n",
       "      <td>ROZZETTA CRAFT</td>\n",
       "      <td>UV Protection Retro Square Sunglasses (Free Size)</td>\n",
       "      <td>₹499</td>\n",
       "      <td>77% off</td>\n",
       "    </tr>\n",
       "    <tr>\n",
       "      <th>26</th>\n",
       "      <td>Silver Kartz</td>\n",
       "      <td>UV Protection Wayfarer Sunglasses (Free Size)</td>\n",
       "      <td>₹246</td>\n",
       "      <td>83% off</td>\n",
       "    </tr>\n",
       "    <tr>\n",
       "      <th>27</th>\n",
       "      <td>ROYAL SON</td>\n",
       "      <td>Polarized, UV Protection Rectangular Sunglasse...</td>\n",
       "      <td>₹664</td>\n",
       "      <td>55% off</td>\n",
       "    </tr>\n",
       "    <tr>\n",
       "      <th>28</th>\n",
       "      <td>Fastrack</td>\n",
       "      <td>UV Protection Sports Sunglasses (Free Size)</td>\n",
       "      <td>₹771</td>\n",
       "      <td>14% off</td>\n",
       "    </tr>\n",
       "    <tr>\n",
       "      <th>29</th>\n",
       "      <td>hipe</td>\n",
       "      <td>Mirrored, UV Protection, Gradient Round Sungla...</td>\n",
       "      <td>₹199</td>\n",
       "      <td>86% off</td>\n",
       "    </tr>\n",
       "    <tr>\n",
       "      <th>30</th>\n",
       "      <td>Fravy</td>\n",
       "      <td>UV Protection Retro Square Sunglasses (Free Size)</td>\n",
       "      <td>₹299</td>\n",
       "      <td>80% off</td>\n",
       "    </tr>\n",
       "    <tr>\n",
       "      <th>31</th>\n",
       "      <td>ROYAL SON</td>\n",
       "      <td>UV Protection Rectangular Sunglasses (Free Size)</td>\n",
       "      <td>₹499</td>\n",
       "      <td>66% off</td>\n",
       "    </tr>\n",
       "    <tr>\n",
       "      <th>32</th>\n",
       "      <td>SHAAH COLLECTIONS</td>\n",
       "      <td>UV Protection Round Sunglasses (Free Size)</td>\n",
       "      <td>₹331</td>\n",
       "      <td>80% off</td>\n",
       "    </tr>\n",
       "    <tr>\n",
       "      <th>33</th>\n",
       "      <td>PHENOMENAL</td>\n",
       "      <td>UV Protection, Mirrored Retro Square Sunglasse...</td>\n",
       "      <td>₹379</td>\n",
       "      <td>81% off</td>\n",
       "    </tr>\n",
       "    <tr>\n",
       "      <th>34</th>\n",
       "      <td>Elligator</td>\n",
       "      <td>Mirrored Round Sunglasses (53)</td>\n",
       "      <td>₹312</td>\n",
       "      <td>87% off</td>\n",
       "    </tr>\n",
       "    <tr>\n",
       "      <th>35</th>\n",
       "      <td>ROYAL SON</td>\n",
       "      <td>UV Protection Retro Square Sunglasses (58)</td>\n",
       "      <td>₹499</td>\n",
       "      <td>66% off</td>\n",
       "    </tr>\n",
       "    <tr>\n",
       "      <th>36</th>\n",
       "      <td>kingsunglasses</td>\n",
       "      <td>UV Protection Rectangular Sunglasses (Free Size)</td>\n",
       "      <td>₹210</td>\n",
       "      <td>82% off</td>\n",
       "    </tr>\n",
       "    <tr>\n",
       "      <th>37</th>\n",
       "      <td>Fravy</td>\n",
       "      <td>UV Protection Wayfarer Sunglasses (56)</td>\n",
       "      <td>₹179</td>\n",
       "      <td>80% off</td>\n",
       "    </tr>\n",
       "  </tbody>\n",
       "</table>\n",
       "</div>"
      ],
      "text/plain": [
       "           Brand Name                                Product Description  \\\n",
       "0               Wrogn                  Mirrored Wayfarer Sunglasses (51)   \n",
       "1           ROYAL SON         UV Protection Retro Square Sunglasses (58)   \n",
       "2           Elligator                UV Protection Round Sunglasses (54)   \n",
       "3            Fastrack   UV Protection Rectangular Sunglasses (Free Size)   \n",
       "4              PIRASO              UV Protection Aviator Sunglasses (54)   \n",
       "5            Fastrack      UV Protection Wayfarer Sunglasses (Free Size)   \n",
       "6      kingsunglasses  Mirrored, UV Protection Wayfarer Sunglasses (F...   \n",
       "7           ROYAL SON             Polarized Retro Square Sunglasses (58)   \n",
       "8            Fastrack  Gradient, UV Protection Wayfarer Sunglasses (F...   \n",
       "9              SUNBEE  UV Protection, Polarized, Mirrored Round Sungl...   \n",
       "10     kingsunglasses                UV Protection Round Sunglasses (54)   \n",
       "11          ROYAL SON                   Mirrored Aviator Sunglasses (55)   \n",
       "12         PHENOMENAL  UV Protection Retro Square Sunglasses (Free Size)   \n",
       "13           Fastrack              UV Protection Aviator Sunglasses (58)   \n",
       "14  SHAAH COLLECTIONS  UV Protection, Polarized, Mirrored Rectangular...   \n",
       "15             PIRASO             UV Protection Wayfarer Sunglasses (32)   \n",
       "16           Fastrack      UV Protection Wayfarer Sunglasses (Free Size)   \n",
       "17           Fastrack              UV Protection Aviator Sunglasses (58)   \n",
       "18             PIRASO              UV Protection Aviator Sunglasses (54)   \n",
       "19              Wrogn              UV Protection Aviator Sunglasses (60)   \n",
       "20           Fastrack       UV Protection Aviator Sunglasses (Free Size)   \n",
       "21     ROZZETTA CRAFT  UV Protection, Gradient Rectangular Sunglasses...   \n",
       "22             GANSTA              UV Protection Aviator Sunglasses (57)   \n",
       "23             PIRASO              UV Protection Aviator Sunglasses (58)   \n",
       "24           Fastrack  Mirrored, UV Protection Wayfarer Sunglasses (F...   \n",
       "25     ROZZETTA CRAFT  UV Protection Retro Square Sunglasses (Free Size)   \n",
       "26       Silver Kartz      UV Protection Wayfarer Sunglasses (Free Size)   \n",
       "27          ROYAL SON  Polarized, UV Protection Rectangular Sunglasse...   \n",
       "28           Fastrack        UV Protection Sports Sunglasses (Free Size)   \n",
       "29               hipe  Mirrored, UV Protection, Gradient Round Sungla...   \n",
       "30              Fravy  UV Protection Retro Square Sunglasses (Free Size)   \n",
       "31          ROYAL SON   UV Protection Rectangular Sunglasses (Free Size)   \n",
       "32  SHAAH COLLECTIONS         UV Protection Round Sunglasses (Free Size)   \n",
       "33         PHENOMENAL  UV Protection, Mirrored Retro Square Sunglasse...   \n",
       "34          Elligator                     Mirrored Round Sunglasses (53)   \n",
       "35          ROYAL SON         UV Protection Retro Square Sunglasses (58)   \n",
       "36     kingsunglasses   UV Protection Rectangular Sunglasses (Free Size)   \n",
       "37              Fravy             UV Protection Wayfarer Sunglasses (56)   \n",
       "\n",
       "     Price Discount %  \n",
       "0     ₹663    73% off  \n",
       "1     ₹474    68% off  \n",
       "2     ₹295    88% off  \n",
       "3     ₹513    35% off  \n",
       "4     ₹237    85% off  \n",
       "5     ₹758    15% off  \n",
       "6     ₹299    88% off  \n",
       "7     ₹899    55% off  \n",
       "8     ₹509    36% off  \n",
       "9     ₹331    80% off  \n",
       "10    ₹225    79% off  \n",
       "11    ₹379    74% off  \n",
       "12    ₹379    81% off  \n",
       "13  ₹1,010    22% off  \n",
       "14    ₹198    88% off  \n",
       "15    ₹237    85% off  \n",
       "16    ₹733    18% off  \n",
       "17  ₹1,085    16% off  \n",
       "18    ₹237    85% off  \n",
       "19  ₹1,007    69% off  \n",
       "20    ₹546    31% off  \n",
       "21    ₹404    79% off  \n",
       "22    ₹266    86% off  \n",
       "23    ₹399    84% off  \n",
       "24    ₹738    26% off  \n",
       "25    ₹499    77% off  \n",
       "26    ₹246    83% off  \n",
       "27    ₹664    55% off  \n",
       "28    ₹771    14% off  \n",
       "29    ₹199    86% off  \n",
       "30    ₹299    80% off  \n",
       "31    ₹499    66% off  \n",
       "32    ₹331    80% off  \n",
       "33    ₹379    81% off  \n",
       "34    ₹312    87% off  \n",
       "35    ₹499    66% off  \n",
       "36    ₹210    82% off  \n",
       "37    ₹179    80% off  "
      ]
     },
     "execution_count": 104,
     "metadata": {},
     "output_type": "execute_result"
    }
   ],
   "source": [
    "first=pd.DataFrame({'Brand Name':brand_name,'Product Description':product_des,'Price':price_,'Discount %':discount_})\n",
    "first"
   ]
  },
  {
   "cell_type": "markdown",
   "metadata": {},
   "source": [
    "#### 2nd page"
   ]
  },
  {
   "cell_type": "code",
   "execution_count": 105,
   "metadata": {},
   "outputs": [],
   "source": [
    "next=driver.find_element_by_xpath(\"//a[@class='_1LKTO3']\")\n",
    "next.click()"
   ]
  },
  {
   "cell_type": "code",
   "execution_count": 106,
   "metadata": {},
   "outputs": [
    {
     "name": "stdout",
     "output_type": "stream",
     "text": [
      "\n",
      " Brand Name \n",
      "\n",
      " ['Singco India', 'Singco India', 'kingsunglasses', 'PHENOMENAL', 'PIRASO', 'AISLIN', 'ROYAL SON', 'kingsunglasses', 'kingsunglasses', 'Fastrack', 'NuVew', 'HIPPON', 'DEIXELS', 'SRPM', 'ROZZETTA CRAFT', 'Fastrack', 'DEIXELS', 'Fastrack', 'Fastrack', 'PHENOMENAL', 'ROZZETTA CRAFT', 'Singco India', 'AISLIN', 'Elligator', 'Fastrack', 'NuVew', 'Fastrack', 'ROYAL SON', 'GANSTA', 'kingsunglasses', 'hipe', 'Fastrack', 'Elligator', 'Fastrack', 'elegante', 'Badfella', 'Singco', 'Flizz', 'Fastrack']\n"
     ]
    }
   ],
   "source": [
    "brand=driver.find_elements_by_xpath(\"//div[@class='_2WkVRV']\")\n",
    "# using for loop to extracting text\n",
    "brand_names=[]\n",
    "for i in brand:\n",
    "    brand_names.append(i.text)\n",
    "brand_names=brand_names[:-1]\n",
    "print('\\n Brand Name \\n\\n',brand_names)"
   ]
  },
  {
   "cell_type": "code",
   "execution_count": 107,
   "metadata": {},
   "outputs": [
    {
     "name": "stdout",
     "output_type": "stream",
     "text": [
      "\n",
      " Price \n",
      "\n",
      " ['₹334', '₹214', '₹225', '₹379', '₹237', '₹545', '₹217', '₹299', '₹249', '₹826', '₹202', '₹257', '₹191', '₹246', '₹474', '₹1,115', '₹224', '₹539', '₹1,021', '₹379', '₹426', '₹331', '₹516', '₹331', '₹758', '₹345', '₹655', '₹379', '₹295', '₹299', '₹209', '₹660', '₹328', '₹759', '₹379', '₹255', '₹239', '₹399', '₹558']\n"
     ]
    }
   ],
   "source": [
    "# extracting  all tags having price\n",
    "price=driver.find_elements_by_xpath(\"//div[@class='_30jeq3']\")\n",
    "# using for loop to extracting text\n",
    "price__=[]\n",
    "for i in price:\n",
    "    price__.append(i.text)\n",
    "price__=price__[:-1]\n",
    "print('\\n Price \\n\\n',price__)"
   ]
  },
  {
   "cell_type": "code",
   "execution_count": 108,
   "metadata": {},
   "outputs": [
    {
     "name": "stdout",
     "output_type": "stream",
     "text": [
      "\n",
      " Discount % \n",
      "\n",
      " ['72% off', '69% off', '77% off', '81% off', '85% off', '64% off', '78% off', '88% off', '79% off', '8% off', '74% off', '78% off', '84% off', '75% off', '78% off', '14% off', '62% off', '32% off', '21% off', '81% off', '80% off', '83% off', '66% off', '74% off', '15% off', '62% off', '27% off', '74% off', '85% off', '80% off', '79% off', '17% off', '86% off', '15% off', '81% off', '74% off', '76% off', '81% off', '30% off']\n"
     ]
    }
   ],
   "source": [
    "discount=driver.find_elements_by_xpath(\"//div[@class='_3Ay6Sb']\")\n",
    "# using for loop to extracting text\n",
    "discount__=[]\n",
    "for i in discount:\n",
    "    discount__.append(i.text)\n",
    "discount__=discount__[:-1]\n",
    "print('\\n Discount % \\n\\n',discount__)"
   ]
  },
  {
   "cell_type": "code",
   "execution_count": 111,
   "metadata": {},
   "outputs": [
    {
     "name": "stdout",
     "output_type": "stream",
     "text": [
      "\n",
      " Product Description  \n",
      "\n",
      " ['UV Protection Aviator Sunglasses (Free Size)', 'UV Protection, Riding Glasses, Others Aviator, Wayfarer...', 'UV Protection, Others Round, Aviator Sunglasses (54)', 'UV Protection, Mirrored Retro Square Sunglasses (Free S...', 'UV Protection Aviator Sunglasses (54)', 'UV Protection, Gradient Butterfly, Retro Square Sunglas...', 'UV Protection, Gradient Wayfarer Sunglasses (55)', 'Mirrored, UV Protection Wayfarer Sunglasses (Free Size)', 'UV Protection, Mirrored Round Sunglasses (54)', 'UV Protection Wayfarer Sunglasses (Free Size)', 'UV Protection Aviator Sunglasses (58)', 'UV Protection Wayfarer Sunglasses (55)', 'UV Protection Aviator, Wayfarer Sunglasses (Free Size)', 'UV Protection Wayfarer Sunglasses (53)', 'UV Protection, Gradient Rectangular Sunglasses (Free Si...', 'UV Protection Aviator Sunglasses (58)', 'Polarized, UV Protection, Riding Glasses Wayfarer Sungl...', 'UV Protection Wayfarer Sunglasses (Free Size)', 'UV Protection Rectangular Sunglasses (59)', 'UV Protection, Mirrored Retro Square Sunglasses (53)', 'UV Protection, Riding Glasses Rectangular Sunglasses (F...', 'Mirrored, UV Protection, Riding Glasses, Others Wrap-ar...', 'UV Protection, Gradient Butterfly, Retro Square Sunglas...', 'UV Protection Round Sunglasses (54)', 'UV Protection Wayfarer Sunglasses (Free Size)', 'UV Protection, Mirrored, Night Vision, Riding Glasses S...', 'UV Protection Wayfarer Sunglasses (56)', 'Mirrored Aviator Sunglasses (55)', 'UV Protection, Night Vision, Riding Glasses Aviator Sun...', 'Mirrored, UV Protection Wayfarer, Wayfarer, Wayfarer, W...', 'UV Protection, Gradient, Mirrored, Riding Glasses Aviat...', 'UV Protection Wayfarer Sunglasses (Free Size)', 'UV Protection Aviator Sunglasses (55)', 'UV Protection Aviator Sunglasses (Free Size)', 'UV Protection Round Sunglasses (Free Size)', 'Polarized, UV Protection Retro Square Sunglasses (53)', 'Mirrored Aviator Sunglasses (53)', 'UV Protection Retro Square Sunglasses (Free Size)', 'Gradient, UV Protection Wayfarer Sunglasses (Free Size)']\n"
     ]
    }
   ],
   "source": [
    "product=driver.find_elements_by_xpath(\"//a[@class='IRpwTa']\")\n",
    "product_desc=[]\n",
    "for i in product:\n",
    "    product_desc.append(i.text)\n",
    "product_desc=product_desc[:-1]\n",
    "print('\\n Product Description  \\n\\n',product_desc)"
   ]
  },
  {
   "cell_type": "code",
   "execution_count": 112,
   "metadata": {},
   "outputs": [
    {
     "name": "stdout",
     "output_type": "stream",
     "text": [
      "length of Brand Name:  39 \n",
      "length of Price:  39 \n",
      "length of Discount Percentage:  39 \n",
      "length of Product Description:  39\n"
     ]
    }
   ],
   "source": [
    "print('length of Brand Name: ',len(brand_names),\n",
    "     '\\nlength of Price: ',len(price__),\n",
    "      '\\nlength of Discount Percentage: ',len(discount__),\n",
    "      '\\nlength of Product Description: ',len(product_desc))"
   ]
  },
  {
   "cell_type": "code",
   "execution_count": 113,
   "metadata": {},
   "outputs": [
    {
     "data": {
      "text/html": [
       "<div>\n",
       "<style scoped>\n",
       "    .dataframe tbody tr th:only-of-type {\n",
       "        vertical-align: middle;\n",
       "    }\n",
       "\n",
       "    .dataframe tbody tr th {\n",
       "        vertical-align: top;\n",
       "    }\n",
       "\n",
       "    .dataframe thead th {\n",
       "        text-align: right;\n",
       "    }\n",
       "</style>\n",
       "<table border=\"1\" class=\"dataframe\">\n",
       "  <thead>\n",
       "    <tr style=\"text-align: right;\">\n",
       "      <th></th>\n",
       "      <th>Brand Name</th>\n",
       "      <th>Product Description</th>\n",
       "      <th>Price</th>\n",
       "      <th>Discount %</th>\n",
       "    </tr>\n",
       "  </thead>\n",
       "  <tbody>\n",
       "    <tr>\n",
       "      <th>0</th>\n",
       "      <td>Singco India</td>\n",
       "      <td>UV Protection Aviator Sunglasses (Free Size)</td>\n",
       "      <td>₹334</td>\n",
       "      <td>72% off</td>\n",
       "    </tr>\n",
       "    <tr>\n",
       "      <th>1</th>\n",
       "      <td>Singco India</td>\n",
       "      <td>UV Protection, Riding Glasses, Others Aviator,...</td>\n",
       "      <td>₹214</td>\n",
       "      <td>69% off</td>\n",
       "    </tr>\n",
       "    <tr>\n",
       "      <th>2</th>\n",
       "      <td>kingsunglasses</td>\n",
       "      <td>UV Protection, Others Round, Aviator Sunglasse...</td>\n",
       "      <td>₹225</td>\n",
       "      <td>77% off</td>\n",
       "    </tr>\n",
       "    <tr>\n",
       "      <th>3</th>\n",
       "      <td>PHENOMENAL</td>\n",
       "      <td>UV Protection, Mirrored Retro Square Sunglasse...</td>\n",
       "      <td>₹379</td>\n",
       "      <td>81% off</td>\n",
       "    </tr>\n",
       "    <tr>\n",
       "      <th>4</th>\n",
       "      <td>PIRASO</td>\n",
       "      <td>UV Protection Aviator Sunglasses (54)</td>\n",
       "      <td>₹237</td>\n",
       "      <td>85% off</td>\n",
       "    </tr>\n",
       "    <tr>\n",
       "      <th>5</th>\n",
       "      <td>AISLIN</td>\n",
       "      <td>UV Protection, Gradient Butterfly, Retro Squar...</td>\n",
       "      <td>₹545</td>\n",
       "      <td>64% off</td>\n",
       "    </tr>\n",
       "    <tr>\n",
       "      <th>6</th>\n",
       "      <td>ROYAL SON</td>\n",
       "      <td>UV Protection, Gradient Wayfarer Sunglasses (55)</td>\n",
       "      <td>₹217</td>\n",
       "      <td>78% off</td>\n",
       "    </tr>\n",
       "    <tr>\n",
       "      <th>7</th>\n",
       "      <td>kingsunglasses</td>\n",
       "      <td>Mirrored, UV Protection Wayfarer Sunglasses (F...</td>\n",
       "      <td>₹299</td>\n",
       "      <td>88% off</td>\n",
       "    </tr>\n",
       "    <tr>\n",
       "      <th>8</th>\n",
       "      <td>kingsunglasses</td>\n",
       "      <td>UV Protection, Mirrored Round Sunglasses (54)</td>\n",
       "      <td>₹249</td>\n",
       "      <td>79% off</td>\n",
       "    </tr>\n",
       "    <tr>\n",
       "      <th>9</th>\n",
       "      <td>Fastrack</td>\n",
       "      <td>UV Protection Wayfarer Sunglasses (Free Size)</td>\n",
       "      <td>₹826</td>\n",
       "      <td>8% off</td>\n",
       "    </tr>\n",
       "    <tr>\n",
       "      <th>10</th>\n",
       "      <td>NuVew</td>\n",
       "      <td>UV Protection Aviator Sunglasses (58)</td>\n",
       "      <td>₹202</td>\n",
       "      <td>74% off</td>\n",
       "    </tr>\n",
       "    <tr>\n",
       "      <th>11</th>\n",
       "      <td>HIPPON</td>\n",
       "      <td>UV Protection Wayfarer Sunglasses (55)</td>\n",
       "      <td>₹257</td>\n",
       "      <td>78% off</td>\n",
       "    </tr>\n",
       "    <tr>\n",
       "      <th>12</th>\n",
       "      <td>DEIXELS</td>\n",
       "      <td>UV Protection Aviator, Wayfarer Sunglasses (Fr...</td>\n",
       "      <td>₹191</td>\n",
       "      <td>84% off</td>\n",
       "    </tr>\n",
       "    <tr>\n",
       "      <th>13</th>\n",
       "      <td>SRPM</td>\n",
       "      <td>UV Protection Wayfarer Sunglasses (53)</td>\n",
       "      <td>₹246</td>\n",
       "      <td>75% off</td>\n",
       "    </tr>\n",
       "    <tr>\n",
       "      <th>14</th>\n",
       "      <td>ROZZETTA CRAFT</td>\n",
       "      <td>UV Protection, Gradient Rectangular Sunglasses...</td>\n",
       "      <td>₹474</td>\n",
       "      <td>78% off</td>\n",
       "    </tr>\n",
       "    <tr>\n",
       "      <th>15</th>\n",
       "      <td>Fastrack</td>\n",
       "      <td>UV Protection Aviator Sunglasses (58)</td>\n",
       "      <td>₹1,115</td>\n",
       "      <td>14% off</td>\n",
       "    </tr>\n",
       "    <tr>\n",
       "      <th>16</th>\n",
       "      <td>DEIXELS</td>\n",
       "      <td>Polarized, UV Protection, Riding Glasses Wayfa...</td>\n",
       "      <td>₹224</td>\n",
       "      <td>62% off</td>\n",
       "    </tr>\n",
       "    <tr>\n",
       "      <th>17</th>\n",
       "      <td>Fastrack</td>\n",
       "      <td>UV Protection Wayfarer Sunglasses (Free Size)</td>\n",
       "      <td>₹539</td>\n",
       "      <td>32% off</td>\n",
       "    </tr>\n",
       "    <tr>\n",
       "      <th>18</th>\n",
       "      <td>Fastrack</td>\n",
       "      <td>UV Protection Rectangular Sunglasses (59)</td>\n",
       "      <td>₹1,021</td>\n",
       "      <td>21% off</td>\n",
       "    </tr>\n",
       "    <tr>\n",
       "      <th>19</th>\n",
       "      <td>PHENOMENAL</td>\n",
       "      <td>UV Protection, Mirrored Retro Square Sunglasse...</td>\n",
       "      <td>₹379</td>\n",
       "      <td>81% off</td>\n",
       "    </tr>\n",
       "    <tr>\n",
       "      <th>20</th>\n",
       "      <td>ROZZETTA CRAFT</td>\n",
       "      <td>UV Protection, Riding Glasses Rectangular Sung...</td>\n",
       "      <td>₹426</td>\n",
       "      <td>80% off</td>\n",
       "    </tr>\n",
       "    <tr>\n",
       "      <th>21</th>\n",
       "      <td>Singco India</td>\n",
       "      <td>Mirrored, UV Protection, Riding Glasses, Other...</td>\n",
       "      <td>₹331</td>\n",
       "      <td>83% off</td>\n",
       "    </tr>\n",
       "    <tr>\n",
       "      <th>22</th>\n",
       "      <td>AISLIN</td>\n",
       "      <td>UV Protection, Gradient Butterfly, Retro Squar...</td>\n",
       "      <td>₹516</td>\n",
       "      <td>66% off</td>\n",
       "    </tr>\n",
       "    <tr>\n",
       "      <th>23</th>\n",
       "      <td>Elligator</td>\n",
       "      <td>UV Protection Round Sunglasses (54)</td>\n",
       "      <td>₹331</td>\n",
       "      <td>74% off</td>\n",
       "    </tr>\n",
       "    <tr>\n",
       "      <th>24</th>\n",
       "      <td>Fastrack</td>\n",
       "      <td>UV Protection Wayfarer Sunglasses (Free Size)</td>\n",
       "      <td>₹758</td>\n",
       "      <td>15% off</td>\n",
       "    </tr>\n",
       "    <tr>\n",
       "      <th>25</th>\n",
       "      <td>NuVew</td>\n",
       "      <td>UV Protection, Mirrored, Night Vision, Riding ...</td>\n",
       "      <td>₹345</td>\n",
       "      <td>62% off</td>\n",
       "    </tr>\n",
       "    <tr>\n",
       "      <th>26</th>\n",
       "      <td>Fastrack</td>\n",
       "      <td>UV Protection Wayfarer Sunglasses (56)</td>\n",
       "      <td>₹655</td>\n",
       "      <td>27% off</td>\n",
       "    </tr>\n",
       "    <tr>\n",
       "      <th>27</th>\n",
       "      <td>ROYAL SON</td>\n",
       "      <td>Mirrored Aviator Sunglasses (55)</td>\n",
       "      <td>₹379</td>\n",
       "      <td>74% off</td>\n",
       "    </tr>\n",
       "    <tr>\n",
       "      <th>28</th>\n",
       "      <td>GANSTA</td>\n",
       "      <td>UV Protection, Night Vision, Riding Glasses Av...</td>\n",
       "      <td>₹295</td>\n",
       "      <td>85% off</td>\n",
       "    </tr>\n",
       "    <tr>\n",
       "      <th>29</th>\n",
       "      <td>kingsunglasses</td>\n",
       "      <td>Mirrored, UV Protection Wayfarer, Wayfarer, Wa...</td>\n",
       "      <td>₹299</td>\n",
       "      <td>80% off</td>\n",
       "    </tr>\n",
       "    <tr>\n",
       "      <th>30</th>\n",
       "      <td>hipe</td>\n",
       "      <td>UV Protection, Gradient, Mirrored, Riding Glas...</td>\n",
       "      <td>₹209</td>\n",
       "      <td>79% off</td>\n",
       "    </tr>\n",
       "    <tr>\n",
       "      <th>31</th>\n",
       "      <td>Fastrack</td>\n",
       "      <td>UV Protection Wayfarer Sunglasses (Free Size)</td>\n",
       "      <td>₹660</td>\n",
       "      <td>17% off</td>\n",
       "    </tr>\n",
       "    <tr>\n",
       "      <th>32</th>\n",
       "      <td>Elligator</td>\n",
       "      <td>UV Protection Aviator Sunglasses (55)</td>\n",
       "      <td>₹328</td>\n",
       "      <td>86% off</td>\n",
       "    </tr>\n",
       "    <tr>\n",
       "      <th>33</th>\n",
       "      <td>Fastrack</td>\n",
       "      <td>UV Protection Aviator Sunglasses (Free Size)</td>\n",
       "      <td>₹759</td>\n",
       "      <td>15% off</td>\n",
       "    </tr>\n",
       "    <tr>\n",
       "      <th>34</th>\n",
       "      <td>elegante</td>\n",
       "      <td>UV Protection Round Sunglasses (Free Size)</td>\n",
       "      <td>₹379</td>\n",
       "      <td>81% off</td>\n",
       "    </tr>\n",
       "    <tr>\n",
       "      <th>35</th>\n",
       "      <td>Badfella</td>\n",
       "      <td>Polarized, UV Protection Retro Square Sunglass...</td>\n",
       "      <td>₹255</td>\n",
       "      <td>74% off</td>\n",
       "    </tr>\n",
       "    <tr>\n",
       "      <th>36</th>\n",
       "      <td>Singco</td>\n",
       "      <td>Mirrored Aviator Sunglasses (53)</td>\n",
       "      <td>₹239</td>\n",
       "      <td>76% off</td>\n",
       "    </tr>\n",
       "    <tr>\n",
       "      <th>37</th>\n",
       "      <td>Flizz</td>\n",
       "      <td>UV Protection Retro Square Sunglasses (Free Size)</td>\n",
       "      <td>₹399</td>\n",
       "      <td>81% off</td>\n",
       "    </tr>\n",
       "    <tr>\n",
       "      <th>38</th>\n",
       "      <td>Fastrack</td>\n",
       "      <td>Gradient, UV Protection Wayfarer Sunglasses (F...</td>\n",
       "      <td>₹558</td>\n",
       "      <td>30% off</td>\n",
       "    </tr>\n",
       "  </tbody>\n",
       "</table>\n",
       "</div>"
      ],
      "text/plain": [
       "        Brand Name                                Product Description   Price  \\\n",
       "0     Singco India       UV Protection Aviator Sunglasses (Free Size)    ₹334   \n",
       "1     Singco India  UV Protection, Riding Glasses, Others Aviator,...    ₹214   \n",
       "2   kingsunglasses  UV Protection, Others Round, Aviator Sunglasse...    ₹225   \n",
       "3       PHENOMENAL  UV Protection, Mirrored Retro Square Sunglasse...    ₹379   \n",
       "4           PIRASO              UV Protection Aviator Sunglasses (54)    ₹237   \n",
       "5           AISLIN  UV Protection, Gradient Butterfly, Retro Squar...    ₹545   \n",
       "6        ROYAL SON   UV Protection, Gradient Wayfarer Sunglasses (55)    ₹217   \n",
       "7   kingsunglasses  Mirrored, UV Protection Wayfarer Sunglasses (F...    ₹299   \n",
       "8   kingsunglasses      UV Protection, Mirrored Round Sunglasses (54)    ₹249   \n",
       "9         Fastrack      UV Protection Wayfarer Sunglasses (Free Size)    ₹826   \n",
       "10           NuVew              UV Protection Aviator Sunglasses (58)    ₹202   \n",
       "11          HIPPON             UV Protection Wayfarer Sunglasses (55)    ₹257   \n",
       "12         DEIXELS  UV Protection Aviator, Wayfarer Sunglasses (Fr...    ₹191   \n",
       "13            SRPM             UV Protection Wayfarer Sunglasses (53)    ₹246   \n",
       "14  ROZZETTA CRAFT  UV Protection, Gradient Rectangular Sunglasses...    ₹474   \n",
       "15        Fastrack              UV Protection Aviator Sunglasses (58)  ₹1,115   \n",
       "16         DEIXELS  Polarized, UV Protection, Riding Glasses Wayfa...    ₹224   \n",
       "17        Fastrack      UV Protection Wayfarer Sunglasses (Free Size)    ₹539   \n",
       "18        Fastrack          UV Protection Rectangular Sunglasses (59)  ₹1,021   \n",
       "19      PHENOMENAL  UV Protection, Mirrored Retro Square Sunglasse...    ₹379   \n",
       "20  ROZZETTA CRAFT  UV Protection, Riding Glasses Rectangular Sung...    ₹426   \n",
       "21    Singco India  Mirrored, UV Protection, Riding Glasses, Other...    ₹331   \n",
       "22          AISLIN  UV Protection, Gradient Butterfly, Retro Squar...    ₹516   \n",
       "23       Elligator                UV Protection Round Sunglasses (54)    ₹331   \n",
       "24        Fastrack      UV Protection Wayfarer Sunglasses (Free Size)    ₹758   \n",
       "25           NuVew  UV Protection, Mirrored, Night Vision, Riding ...    ₹345   \n",
       "26        Fastrack             UV Protection Wayfarer Sunglasses (56)    ₹655   \n",
       "27       ROYAL SON                   Mirrored Aviator Sunglasses (55)    ₹379   \n",
       "28          GANSTA  UV Protection, Night Vision, Riding Glasses Av...    ₹295   \n",
       "29  kingsunglasses  Mirrored, UV Protection Wayfarer, Wayfarer, Wa...    ₹299   \n",
       "30            hipe  UV Protection, Gradient, Mirrored, Riding Glas...    ₹209   \n",
       "31        Fastrack      UV Protection Wayfarer Sunglasses (Free Size)    ₹660   \n",
       "32       Elligator              UV Protection Aviator Sunglasses (55)    ₹328   \n",
       "33        Fastrack       UV Protection Aviator Sunglasses (Free Size)    ₹759   \n",
       "34        elegante         UV Protection Round Sunglasses (Free Size)    ₹379   \n",
       "35        Badfella  Polarized, UV Protection Retro Square Sunglass...    ₹255   \n",
       "36          Singco                   Mirrored Aviator Sunglasses (53)    ₹239   \n",
       "37           Flizz  UV Protection Retro Square Sunglasses (Free Size)    ₹399   \n",
       "38        Fastrack  Gradient, UV Protection Wayfarer Sunglasses (F...    ₹558   \n",
       "\n",
       "   Discount %  \n",
       "0     72% off  \n",
       "1     69% off  \n",
       "2     77% off  \n",
       "3     81% off  \n",
       "4     85% off  \n",
       "5     64% off  \n",
       "6     78% off  \n",
       "7     88% off  \n",
       "8     79% off  \n",
       "9      8% off  \n",
       "10    74% off  \n",
       "11    78% off  \n",
       "12    84% off  \n",
       "13    75% off  \n",
       "14    78% off  \n",
       "15    14% off  \n",
       "16    62% off  \n",
       "17    32% off  \n",
       "18    21% off  \n",
       "19    81% off  \n",
       "20    80% off  \n",
       "21    83% off  \n",
       "22    66% off  \n",
       "23    74% off  \n",
       "24    15% off  \n",
       "25    62% off  \n",
       "26    27% off  \n",
       "27    74% off  \n",
       "28    85% off  \n",
       "29    80% off  \n",
       "30    79% off  \n",
       "31    17% off  \n",
       "32    86% off  \n",
       "33    15% off  \n",
       "34    81% off  \n",
       "35    74% off  \n",
       "36    76% off  \n",
       "37    81% off  \n",
       "38    30% off  "
      ]
     },
     "execution_count": 113,
     "metadata": {},
     "output_type": "execute_result"
    }
   ],
   "source": [
    "second=pd.DataFrame({'Brand Name':brand_names,'Product Description':product_desc,'Price':price__,'Discount %':discount__})\n",
    "second"
   ]
  },
  {
   "cell_type": "markdown",
   "metadata": {},
   "source": [
    "#### 3rd page"
   ]
  },
  {
   "cell_type": "code",
   "execution_count": 114,
   "metadata": {},
   "outputs": [],
   "source": [
    "next=driver.find_element_by_xpath(\"/html/body/div[1]/div/div[3]/div[1]/div[2]/div[12]/div/div/nav/a[12]\")\n",
    "next.click()"
   ]
  },
  {
   "cell_type": "code",
   "execution_count": 115,
   "metadata": {},
   "outputs": [
    {
     "name": "stdout",
     "output_type": "stream",
     "text": [
      "\n",
      " Brand Name \n",
      "\n",
      " ['kingsunglasses', 'Elligator', 'Fastrack', 'Elligator', 'kingsunglasses', 'ROYAL SON', 'Singco India', 'ROYAL SON', 'ROZZETTA CRAFT', 'hipe', 'Villain', 'ROYAL SON', 'GANSTA', 'hipe', 'PIRASO', 'PIRASO', 'Wrogn', 'ROYAL SON', 'IRUS by IDEE', 'AISLIN', 'NuVew', 'elegante', 'Fravy']\n"
     ]
    }
   ],
   "source": [
    "# extracting  all tags having Brand name\n",
    "brand=driver.find_elements_by_xpath(\"//div[@class='_2WkVRV']\")\n",
    "# using for loop to extracting text\n",
    "brand_name_=[]\n",
    "for i in brand:\n",
    "    brand_name_.append(i.text)\n",
    "brand_name_=brand_name_[0:23]\n",
    "print('\\n Brand Name \\n\\n',brand_name_)"
   ]
  },
  {
   "cell_type": "code",
   "execution_count": 116,
   "metadata": {},
   "outputs": [
    {
     "name": "stdout",
     "output_type": "stream",
     "text": [
      "\n",
      " Price \n",
      "\n",
      " ['₹229', '₹246', '₹1,699', '₹349', '₹349', '₹474', '₹293', '₹599', '₹449', '₹299', '₹599', '₹664', '₹230', '₹303', '₹399', '₹331', '₹684', '₹664', '₹606', '₹498', '₹232', '₹189', '₹339']\n"
     ]
    }
   ],
   "source": [
    "price=driver.find_elements_by_xpath(\"//div[@class='_30jeq3']\")\n",
    "# using for loop to extracting text\n",
    "price1_=[]\n",
    "for i in price:\n",
    "    price1_.append(i.text)\n",
    "price1_=price1_[0:23]\n",
    "print('\\n Price \\n\\n',price1_)"
   ]
  },
  {
   "cell_type": "code",
   "execution_count": 117,
   "metadata": {},
   "outputs": [
    {
     "name": "stdout",
     "output_type": "stream",
     "text": [
      "\n",
      " Discount % \n",
      "\n",
      " ['80% off', '87% off', '15% off', '76% off', '78% off', '68% off', '82% off', '70% off', '77% off', '76% off', '20% off', '66% off', '82% off', '84% off', '84% off', '79% off', '73% off', '66% off', '52% off', '70% off', '76% off', '81% off', '83% off']\n"
     ]
    }
   ],
   "source": [
    "discount=driver.find_elements_by_xpath(\"//div[@class='_3Ay6Sb']\")\n",
    "# using for loop to extracting text\n",
    "discount1_=[]\n",
    "for i in discount:\n",
    "    discount1_.append(i.text)\n",
    "discount1_=discount1_[0:23]\n",
    "print('\\n Discount % \\n\\n',discount1_)"
   ]
  },
  {
   "cell_type": "code",
   "execution_count": 118,
   "metadata": {},
   "outputs": [
    {
     "name": "stdout",
     "output_type": "stream",
     "text": [
      "\n",
      " Product Description  \n",
      "\n",
      " ['UV Protection, Riding Glasses, Mirrored Wayfarer Sungla...', 'UV Protection, Gradient, Mirrored Aviator, Round, Wayfa...', 'UV Protection Aviator Sunglasses (Free Size)', 'UV Protection, Riding Glasses Rectangular, Retro Square...', 'UV Protection Round Sunglasses (Free Size)', 'UV Protection Rectangular Sunglasses (58)', 'Riding Glasses, Others, UV Protection Wrap-around Sungl...', 'UV Protection Retro Square Sunglasses (88)', 'UV Protection, Gradient Round Sunglasses (Free Size)', 'UV Protection, Gradient, Mirrored, Riding Glasses Recta...', 'Others Retro Square Sunglasses (Free Size)', 'UV Protection Round Sunglasses (54)', 'UV Protection Aviator Sunglasses (57)', 'UV Protection Sports Sunglasses (Free Size)', 'UV Protection Aviator Sunglasses (58)', 'UV Protection Wayfarer Sunglasses (56)', 'UV Protection Over-sized Sunglasses (60)', 'Gradient Rectangular Sunglasses (56)', 'UV Protection, Gradient Round, Cat-eye Sunglasses (60)', 'UV Protection, Riding Glasses Wayfarer Sunglasses (56)', 'UV Protection Round Sunglasses (Free Size)', 'UV Protection, Gradient, Night Vision Retro Square Sung...', 'UV Protection Retro Square Sunglasses (Free Size)']\n"
     ]
    }
   ],
   "source": [
    "product=driver.find_elements_by_xpath(\"//a[@class='IRpwTa']\")\n",
    "product_descr=[]\n",
    "for i in product:\n",
    "    product_descr.append(i.text)\n",
    "product_descr=product_descr[0:23]\n",
    "print('\\n Product Description  \\n\\n',product_descr)"
   ]
  },
  {
   "cell_type": "code",
   "execution_count": 119,
   "metadata": {},
   "outputs": [
    {
     "name": "stdout",
     "output_type": "stream",
     "text": [
      "length of Brand Name:  23 \n",
      "length of Price:  23 \n",
      "length of Discount Percentage:  23 \n",
      "length of Product Description:  23\n"
     ]
    }
   ],
   "source": [
    "print('length of Brand Name: ',len(brand_name_),\n",
    "     '\\nlength of Price: ',len(price1_),\n",
    "      '\\nlength of Discount Percentage: ',len(discount1_),\n",
    "      '\\nlength of Product Description: ',len(product_descr))"
   ]
  },
  {
   "cell_type": "code",
   "execution_count": 120,
   "metadata": {},
   "outputs": [
    {
     "data": {
      "text/html": [
       "<div>\n",
       "<style scoped>\n",
       "    .dataframe tbody tr th:only-of-type {\n",
       "        vertical-align: middle;\n",
       "    }\n",
       "\n",
       "    .dataframe tbody tr th {\n",
       "        vertical-align: top;\n",
       "    }\n",
       "\n",
       "    .dataframe thead th {\n",
       "        text-align: right;\n",
       "    }\n",
       "</style>\n",
       "<table border=\"1\" class=\"dataframe\">\n",
       "  <thead>\n",
       "    <tr style=\"text-align: right;\">\n",
       "      <th></th>\n",
       "      <th>Brand Name</th>\n",
       "      <th>Product Description</th>\n",
       "      <th>Price</th>\n",
       "      <th>Discount %</th>\n",
       "    </tr>\n",
       "  </thead>\n",
       "  <tbody>\n",
       "    <tr>\n",
       "      <th>0</th>\n",
       "      <td>kingsunglasses</td>\n",
       "      <td>UV Protection, Riding Glasses, Mirrored Wayfar...</td>\n",
       "      <td>₹229</td>\n",
       "      <td>80% off</td>\n",
       "    </tr>\n",
       "    <tr>\n",
       "      <th>1</th>\n",
       "      <td>Elligator</td>\n",
       "      <td>UV Protection, Gradient, Mirrored Aviator, Rou...</td>\n",
       "      <td>₹246</td>\n",
       "      <td>87% off</td>\n",
       "    </tr>\n",
       "    <tr>\n",
       "      <th>2</th>\n",
       "      <td>Fastrack</td>\n",
       "      <td>UV Protection Aviator Sunglasses (Free Size)</td>\n",
       "      <td>₹1,699</td>\n",
       "      <td>15% off</td>\n",
       "    </tr>\n",
       "    <tr>\n",
       "      <th>3</th>\n",
       "      <td>Elligator</td>\n",
       "      <td>UV Protection, Riding Glasses Rectangular, Ret...</td>\n",
       "      <td>₹349</td>\n",
       "      <td>76% off</td>\n",
       "    </tr>\n",
       "    <tr>\n",
       "      <th>4</th>\n",
       "      <td>kingsunglasses</td>\n",
       "      <td>UV Protection Round Sunglasses (Free Size)</td>\n",
       "      <td>₹349</td>\n",
       "      <td>78% off</td>\n",
       "    </tr>\n",
       "    <tr>\n",
       "      <th>5</th>\n",
       "      <td>ROYAL SON</td>\n",
       "      <td>UV Protection Rectangular Sunglasses (58)</td>\n",
       "      <td>₹474</td>\n",
       "      <td>68% off</td>\n",
       "    </tr>\n",
       "    <tr>\n",
       "      <th>6</th>\n",
       "      <td>Singco India</td>\n",
       "      <td>Riding Glasses, Others, UV Protection Wrap-aro...</td>\n",
       "      <td>₹293</td>\n",
       "      <td>82% off</td>\n",
       "    </tr>\n",
       "    <tr>\n",
       "      <th>7</th>\n",
       "      <td>ROYAL SON</td>\n",
       "      <td>UV Protection Retro Square Sunglasses (88)</td>\n",
       "      <td>₹599</td>\n",
       "      <td>70% off</td>\n",
       "    </tr>\n",
       "    <tr>\n",
       "      <th>8</th>\n",
       "      <td>ROZZETTA CRAFT</td>\n",
       "      <td>UV Protection, Gradient Round Sunglasses (Free...</td>\n",
       "      <td>₹449</td>\n",
       "      <td>77% off</td>\n",
       "    </tr>\n",
       "    <tr>\n",
       "      <th>9</th>\n",
       "      <td>hipe</td>\n",
       "      <td>UV Protection, Gradient, Mirrored, Riding Glas...</td>\n",
       "      <td>₹299</td>\n",
       "      <td>76% off</td>\n",
       "    </tr>\n",
       "    <tr>\n",
       "      <th>10</th>\n",
       "      <td>Villain</td>\n",
       "      <td>Others Retro Square Sunglasses (Free Size)</td>\n",
       "      <td>₹599</td>\n",
       "      <td>20% off</td>\n",
       "    </tr>\n",
       "    <tr>\n",
       "      <th>11</th>\n",
       "      <td>ROYAL SON</td>\n",
       "      <td>UV Protection Round Sunglasses (54)</td>\n",
       "      <td>₹664</td>\n",
       "      <td>66% off</td>\n",
       "    </tr>\n",
       "    <tr>\n",
       "      <th>12</th>\n",
       "      <td>GANSTA</td>\n",
       "      <td>UV Protection Aviator Sunglasses (57)</td>\n",
       "      <td>₹230</td>\n",
       "      <td>82% off</td>\n",
       "    </tr>\n",
       "    <tr>\n",
       "      <th>13</th>\n",
       "      <td>hipe</td>\n",
       "      <td>UV Protection Sports Sunglasses (Free Size)</td>\n",
       "      <td>₹303</td>\n",
       "      <td>84% off</td>\n",
       "    </tr>\n",
       "    <tr>\n",
       "      <th>14</th>\n",
       "      <td>PIRASO</td>\n",
       "      <td>UV Protection Aviator Sunglasses (58)</td>\n",
       "      <td>₹399</td>\n",
       "      <td>84% off</td>\n",
       "    </tr>\n",
       "    <tr>\n",
       "      <th>15</th>\n",
       "      <td>PIRASO</td>\n",
       "      <td>UV Protection Wayfarer Sunglasses (56)</td>\n",
       "      <td>₹331</td>\n",
       "      <td>79% off</td>\n",
       "    </tr>\n",
       "    <tr>\n",
       "      <th>16</th>\n",
       "      <td>Wrogn</td>\n",
       "      <td>UV Protection Over-sized Sunglasses (60)</td>\n",
       "      <td>₹684</td>\n",
       "      <td>73% off</td>\n",
       "    </tr>\n",
       "    <tr>\n",
       "      <th>17</th>\n",
       "      <td>ROYAL SON</td>\n",
       "      <td>Gradient Rectangular Sunglasses (56)</td>\n",
       "      <td>₹664</td>\n",
       "      <td>66% off</td>\n",
       "    </tr>\n",
       "    <tr>\n",
       "      <th>18</th>\n",
       "      <td>IRUS by IDEE</td>\n",
       "      <td>UV Protection, Gradient Round, Cat-eye Sunglas...</td>\n",
       "      <td>₹606</td>\n",
       "      <td>52% off</td>\n",
       "    </tr>\n",
       "    <tr>\n",
       "      <th>19</th>\n",
       "      <td>AISLIN</td>\n",
       "      <td>UV Protection, Riding Glasses Wayfarer Sunglas...</td>\n",
       "      <td>₹498</td>\n",
       "      <td>70% off</td>\n",
       "    </tr>\n",
       "    <tr>\n",
       "      <th>20</th>\n",
       "      <td>NuVew</td>\n",
       "      <td>UV Protection Round Sunglasses (Free Size)</td>\n",
       "      <td>₹232</td>\n",
       "      <td>76% off</td>\n",
       "    </tr>\n",
       "    <tr>\n",
       "      <th>21</th>\n",
       "      <td>elegante</td>\n",
       "      <td>UV Protection, Gradient, Night Vision Retro Sq...</td>\n",
       "      <td>₹189</td>\n",
       "      <td>81% off</td>\n",
       "    </tr>\n",
       "    <tr>\n",
       "      <th>22</th>\n",
       "      <td>Fravy</td>\n",
       "      <td>UV Protection Retro Square Sunglasses (Free Size)</td>\n",
       "      <td>₹339</td>\n",
       "      <td>83% off</td>\n",
       "    </tr>\n",
       "  </tbody>\n",
       "</table>\n",
       "</div>"
      ],
      "text/plain": [
       "        Brand Name                                Product Description   Price  \\\n",
       "0   kingsunglasses  UV Protection, Riding Glasses, Mirrored Wayfar...    ₹229   \n",
       "1        Elligator  UV Protection, Gradient, Mirrored Aviator, Rou...    ₹246   \n",
       "2         Fastrack       UV Protection Aviator Sunglasses (Free Size)  ₹1,699   \n",
       "3        Elligator  UV Protection, Riding Glasses Rectangular, Ret...    ₹349   \n",
       "4   kingsunglasses         UV Protection Round Sunglasses (Free Size)    ₹349   \n",
       "5        ROYAL SON          UV Protection Rectangular Sunglasses (58)    ₹474   \n",
       "6     Singco India  Riding Glasses, Others, UV Protection Wrap-aro...    ₹293   \n",
       "7        ROYAL SON         UV Protection Retro Square Sunglasses (88)    ₹599   \n",
       "8   ROZZETTA CRAFT  UV Protection, Gradient Round Sunglasses (Free...    ₹449   \n",
       "9             hipe  UV Protection, Gradient, Mirrored, Riding Glas...    ₹299   \n",
       "10         Villain         Others Retro Square Sunglasses (Free Size)    ₹599   \n",
       "11       ROYAL SON                UV Protection Round Sunglasses (54)    ₹664   \n",
       "12          GANSTA              UV Protection Aviator Sunglasses (57)    ₹230   \n",
       "13            hipe        UV Protection Sports Sunglasses (Free Size)    ₹303   \n",
       "14          PIRASO              UV Protection Aviator Sunglasses (58)    ₹399   \n",
       "15          PIRASO             UV Protection Wayfarer Sunglasses (56)    ₹331   \n",
       "16           Wrogn           UV Protection Over-sized Sunglasses (60)    ₹684   \n",
       "17       ROYAL SON               Gradient Rectangular Sunglasses (56)    ₹664   \n",
       "18    IRUS by IDEE  UV Protection, Gradient Round, Cat-eye Sunglas...    ₹606   \n",
       "19          AISLIN  UV Protection, Riding Glasses Wayfarer Sunglas...    ₹498   \n",
       "20           NuVew         UV Protection Round Sunglasses (Free Size)    ₹232   \n",
       "21        elegante  UV Protection, Gradient, Night Vision Retro Sq...    ₹189   \n",
       "22           Fravy  UV Protection Retro Square Sunglasses (Free Size)    ₹339   \n",
       "\n",
       "   Discount %  \n",
       "0     80% off  \n",
       "1     87% off  \n",
       "2     15% off  \n",
       "3     76% off  \n",
       "4     78% off  \n",
       "5     68% off  \n",
       "6     82% off  \n",
       "7     70% off  \n",
       "8     77% off  \n",
       "9     76% off  \n",
       "10    20% off  \n",
       "11    66% off  \n",
       "12    82% off  \n",
       "13    84% off  \n",
       "14    84% off  \n",
       "15    79% off  \n",
       "16    73% off  \n",
       "17    66% off  \n",
       "18    52% off  \n",
       "19    70% off  \n",
       "20    76% off  \n",
       "21    81% off  \n",
       "22    83% off  "
      ]
     },
     "execution_count": 120,
     "metadata": {},
     "output_type": "execute_result"
    }
   ],
   "source": [
    "import pandas as pd\n",
    "third=pd.DataFrame({'Brand Name':brand_name_,'Product Description':product_descr,'Price':price1_,'Discount %':discount1_})\n",
    "third\n"
   ]
  },
  {
   "cell_type": "code",
   "execution_count": 121,
   "metadata": {},
   "outputs": [
    {
     "data": {
      "text/html": [
       "<div>\n",
       "<style scoped>\n",
       "    .dataframe tbody tr th:only-of-type {\n",
       "        vertical-align: middle;\n",
       "    }\n",
       "\n",
       "    .dataframe tbody tr th {\n",
       "        vertical-align: top;\n",
       "    }\n",
       "\n",
       "    .dataframe thead th {\n",
       "        text-align: right;\n",
       "    }\n",
       "</style>\n",
       "<table border=\"1\" class=\"dataframe\">\n",
       "  <thead>\n",
       "    <tr style=\"text-align: right;\">\n",
       "      <th></th>\n",
       "      <th>Brand Name</th>\n",
       "      <th>Product Description</th>\n",
       "      <th>Price</th>\n",
       "      <th>Discount %</th>\n",
       "    </tr>\n",
       "  </thead>\n",
       "  <tbody>\n",
       "    <tr>\n",
       "      <th>0</th>\n",
       "      <td>Wrogn</td>\n",
       "      <td>Mirrored Wayfarer Sunglasses (51)</td>\n",
       "      <td>₹663</td>\n",
       "      <td>73% off</td>\n",
       "    </tr>\n",
       "    <tr>\n",
       "      <th>1</th>\n",
       "      <td>ROYAL SON</td>\n",
       "      <td>UV Protection Retro Square Sunglasses (58)</td>\n",
       "      <td>₹474</td>\n",
       "      <td>68% off</td>\n",
       "    </tr>\n",
       "    <tr>\n",
       "      <th>2</th>\n",
       "      <td>Elligator</td>\n",
       "      <td>UV Protection Round Sunglasses (54)</td>\n",
       "      <td>₹295</td>\n",
       "      <td>88% off</td>\n",
       "    </tr>\n",
       "    <tr>\n",
       "      <th>3</th>\n",
       "      <td>Fastrack</td>\n",
       "      <td>UV Protection Rectangular Sunglasses (Free Size)</td>\n",
       "      <td>₹513</td>\n",
       "      <td>35% off</td>\n",
       "    </tr>\n",
       "    <tr>\n",
       "      <th>4</th>\n",
       "      <td>PIRASO</td>\n",
       "      <td>UV Protection Aviator Sunglasses (54)</td>\n",
       "      <td>₹237</td>\n",
       "      <td>85% off</td>\n",
       "    </tr>\n",
       "  </tbody>\n",
       "</table>\n",
       "</div>"
      ],
      "text/plain": [
       "  Brand Name                               Product Description Price  \\\n",
       "0      Wrogn                 Mirrored Wayfarer Sunglasses (51)  ₹663   \n",
       "1  ROYAL SON        UV Protection Retro Square Sunglasses (58)  ₹474   \n",
       "2  Elligator               UV Protection Round Sunglasses (54)  ₹295   \n",
       "3   Fastrack  UV Protection Rectangular Sunglasses (Free Size)  ₹513   \n",
       "4     PIRASO             UV Protection Aviator Sunglasses (54)  ₹237   \n",
       "\n",
       "  Discount %  \n",
       "0    73% off  \n",
       "1    68% off  \n",
       "2    88% off  \n",
       "3    35% off  \n",
       "4    85% off  "
      ]
     },
     "execution_count": 121,
     "metadata": {},
     "output_type": "execute_result"
    }
   ],
   "source": [
    "df=pd.concat([first,second,third],axis=0)\n",
    "df.reset_index()\n",
    "df.head()"
   ]
  },
  {
   "cell_type": "markdown",
   "metadata": {},
   "source": [
    "# "
   ]
  },
  {
   "cell_type": "markdown",
   "metadata": {},
   "source": [
    "## Q7.Scrape 100 reviews data from flipkart.com for iphone11 phone from https://www.flipkart.com/apple-iphone-11-black-64-gb-includes-earpods-power-adapter/p/itm0f37c2240b217?pid=MOBFKCTSVZAXUHGR&lid=LSTMOBFKCTSVZAXUHGREPBFGI&marketplace"
   ]
  },
  {
   "cell_type": "code",
   "execution_count": 122,
   "metadata": {},
   "outputs": [],
   "source": [
    "import pandas as pd\n",
    "import selenium\n",
    "from selenium import webdriver"
   ]
  },
  {
   "cell_type": "code",
   "execution_count": 123,
   "metadata": {},
   "outputs": [
    {
     "data": {
      "text/plain": [
       "<selenium.webdriver.chrome.webdriver.WebDriver (session=\"3cd2aa56dadb8c86620e4076451bfe95\")>"
      ]
     },
     "execution_count": 123,
     "metadata": {},
     "output_type": "execute_result"
    }
   ],
   "source": [
    "driver=webdriver.Chrome('chromedriver.exe')\n",
    "driver"
   ]
  },
  {
   "cell_type": "code",
   "execution_count": 124,
   "metadata": {},
   "outputs": [],
   "source": [
    "driver.get('https://www.flipkart.com/apple-iphone-11-black-64-gb-includes-earpods-power-adapter/p/itm0f37c2240b217?pid=MOBFKCTSVZAXUHGR&lid=LSTMOBFKCTSVZAXUHGREPBFGI&marketplace')"
   ]
  },
  {
   "cell_type": "code",
   "execution_count": 125,
   "metadata": {},
   "outputs": [],
   "source": [
    "allr=driver.find_element_by_xpath(\"//div[@class='_3UAT2v _16PBlm']\")\n",
    "allr.click()"
   ]
  },
  {
   "cell_type": "code",
   "execution_count": 126,
   "metadata": {},
   "outputs": [
    {
     "data": {
      "text/plain": [
       "['https://www.flipkart.com/apple-iphone-11-black-64-gb-includes-earpods-power-adapter/product-reviews/itm0f37c2240b217?pid=MOBFKCTSVZAXUHGR&lid=LSTMOBFKCTSVZAXUHGREPBFGI&marketplace=FLIPKART&page=1',\n",
       " 'https://www.flipkart.com/apple-iphone-11-black-64-gb-includes-earpods-power-adapter/product-reviews/itm0f37c2240b217?pid=MOBFKCTSVZAXUHGR&lid=LSTMOBFKCTSVZAXUHGREPBFGI&marketplace=FLIPKART&page=2',\n",
       " 'https://www.flipkart.com/apple-iphone-11-black-64-gb-includes-earpods-power-adapter/product-reviews/itm0f37c2240b217?pid=MOBFKCTSVZAXUHGR&lid=LSTMOBFKCTSVZAXUHGREPBFGI&marketplace=FLIPKART&page=3',\n",
       " 'https://www.flipkart.com/apple-iphone-11-black-64-gb-includes-earpods-power-adapter/product-reviews/itm0f37c2240b217?pid=MOBFKCTSVZAXUHGR&lid=LSTMOBFKCTSVZAXUHGREPBFGI&marketplace=FLIPKART&page=4',\n",
       " 'https://www.flipkart.com/apple-iphone-11-black-64-gb-includes-earpods-power-adapter/product-reviews/itm0f37c2240b217?pid=MOBFKCTSVZAXUHGR&lid=LSTMOBFKCTSVZAXUHGREPBFGI&marketplace=FLIPKART&page=5',\n",
       " 'https://www.flipkart.com/apple-iphone-11-black-64-gb-includes-earpods-power-adapter/product-reviews/itm0f37c2240b217?pid=MOBFKCTSVZAXUHGR&lid=LSTMOBFKCTSVZAXUHGREPBFGI&marketplace=FLIPKART&page=6',\n",
       " 'https://www.flipkart.com/apple-iphone-11-black-64-gb-includes-earpods-power-adapter/product-reviews/itm0f37c2240b217?pid=MOBFKCTSVZAXUHGR&lid=LSTMOBFKCTSVZAXUHGREPBFGI&marketplace=FLIPKART&page=7',\n",
       " 'https://www.flipkart.com/apple-iphone-11-black-64-gb-includes-earpods-power-adapter/product-reviews/itm0f37c2240b217?pid=MOBFKCTSVZAXUHGR&lid=LSTMOBFKCTSVZAXUHGREPBFGI&marketplace=FLIPKART&page=8',\n",
       " 'https://www.flipkart.com/apple-iphone-11-black-64-gb-includes-earpods-power-adapter/product-reviews/itm0f37c2240b217?pid=MOBFKCTSVZAXUHGR&lid=LSTMOBFKCTSVZAXUHGREPBFGI&marketplace=FLIPKART&page=9',\n",
       " 'https://www.flipkart.com/apple-iphone-11-black-64-gb-includes-earpods-power-adapter/product-reviews/itm0f37c2240b217?pid=MOBFKCTSVZAXUHGR&lid=LSTMOBFKCTSVZAXUHGREPBFGI&marketplace=FLIPKART&page=10',\n",
       " 'https://www.flipkart.com/apple-iphone-11-black-64-gb-includes-earpods-power-adapter/product-reviews/itm0f37c2240b217?pid=MOBFKCTSVZAXUHGR&lid=LSTMOBFKCTSVZAXUHGREPBFGI&marketplace=FLIPKART&page=2']"
      ]
     },
     "execution_count": 126,
     "metadata": {},
     "output_type": "execute_result"
    }
   ],
   "source": [
    "url=driver.find_elements_by_xpath(\"//div[@class='_2MImiq _1Qnn1K']//a\")\n",
    "url_=[]\n",
    "for i in url:\n",
    "    url_.append(i.get_attribute('href'))\n",
    "url_"
   ]
  },
  {
   "cell_type": "code",
   "execution_count": 127,
   "metadata": {},
   "outputs": [
    {
     "name": "stdout",
     "output_type": "stream",
     "text": [
      "\n",
      " Rating  \n",
      "\n",
      " ['5', '5', '5', '5', '5', '5', '4', '5', '5', '5', '5', '5', '5', '5', '5', '5', '5', '5', '5', '5', '4', '5', '5', '5', '5', '4', '5', '5', '5', '5', '5', '5', '5', '5', '5', '4', '5', '5', '5', '5', '5', '5', '5', '5', '4', '5', '5', '5', '5', '5', '5', '5', '5', '5', '5', '5', '5', '5', '5', '5', '5', '5', '4', '5', '5', '4', '5', '5', '4', '5', '5', '5', '5', '5', '5', '5', '5', '5', '5', '4', '4', '5', '3', '5', '5', '5', '5', '5', '5', '5', '5', '5', '3', '5', '5', '5', '5', '5', '5', '5']\n"
     ]
    }
   ],
   "source": [
    "rating=[]\n",
    "for i in url_:\n",
    "    driver.get(i)\n",
    "    rat=driver.find_elements_by_xpath(\"//div[@class='_3LWZlK _1BLPMq']\")\n",
    "    for i in rat:\n",
    "        rating.append(i.text)\n",
    "rating=rating[0:100]\n",
    "print('\\n Rating  \\n\\n',rating)"
   ]
  },
  {
   "cell_type": "code",
   "execution_count": 128,
   "metadata": {},
   "outputs": [
    {
     "name": "stdout",
     "output_type": "stream",
     "text": [
      "\n",
      " Review Summary  \n",
      "\n",
      " ['Brilliant', 'Simply awesome', 'Perfect product!', 'Fabulous!', 'Worth every penny', 'Great product', 'Good choice', 'Worth every penny', 'Highly recommended', 'Best in the market!', 'Perfect product!', 'Highly recommended', 'Perfect product!', 'Classy product', 'Worth every penny', 'Perfect product!', 'Simply awesome', 'Highly recommended', 'Worth every penny', 'Terrific', 'Nice product', 'Wonderful', 'Classy product', 'Brilliant', 'Must buy!', 'Good choice', 'Perfect product!', 'Wonderful', 'Terrific purchase', 'Great product', 'Simply awesome', 'Mind-blowing purchase', 'Terrific purchase', 'Excellent', 'Simply awesome', 'Good quality product', 'Very poor', 'Perfect product!', 'Must buy!', 'Fabulous!', 'Mind-blowing purchase', 'Mind-blowing purchase', 'Wonderful', 'Worth every penny', 'Great product', 'Very Good', 'Perfect product!', 'Classy product', 'Perfect product!', 'Just wow!', 'Awesome', 'Terrific', 'Terrific purchase', 'Awesome', 'Classy product', 'Brilliant', 'Terrific', 'Perfect product!', 'Awesome', 'Perfect product!', 'Very poor', 'Fabulous!', 'Excellent', 'Must buy!', 'Value-for-money', 'Brilliant', 'Terrific purchase', 'Good quality product', 'Perfect product!', 'Awesome', 'Value-for-money', 'Just wow!', 'Super!', 'Best in the market!', 'Classy product', 'Highly recommended', 'Mind-blowing purchase', 'Must buy!', 'Excellent', 'Excellent', 'Terrific', 'Pretty good', 'Nice product', 'Mind-blowing purchase', 'Does the job', 'Wonderful', 'Worth every penny', 'Worth every penny', 'Fabulous!', 'Classy product', 'Awesome', 'Wonderful', 'Terrific purchase', 'Awesome', 'Decent product', 'Super!', 'Fabulous!', 'Just wow!', 'Mind-blowing purchase', 'Excellent']\n"
     ]
    }
   ],
   "source": [
    "review_summary=[]\n",
    "for i in url_:\n",
    "    driver.get(i)\n",
    "    rs=driver.find_elements_by_xpath(\"//p[@class='_2-N8zT']\")\n",
    "    for i in rs:\n",
    "        review_summary.append(i.text)\n",
    "review_summary=review_summary[0:100]\n",
    "print('\\n Review Summary  \\n\\n',review_summary)"
   ]
  },
  {
   "cell_type": "code",
   "execution_count": 129,
   "metadata": {},
   "outputs": [
    {
     "name": "stdout",
     "output_type": "stream",
     "text": [
      "\n",
      " Full Review  \n",
      "\n",
      " ['The Best Phone for the Money  The iPhone 11 offers superb cameras, a more durable design and excellent battery life for an affordable price.  Compelling ultra-wide camera New Night mode is excellent Long battery life', 'Really satisfied with the Product I received... It’s totally genuine and the packaging was also really good so if ur planning to buy just go for it.', 'Amazing phone with great cameras and better battery which gives you the best performance. I just love the camera .', 'This is my first iOS phone. I am very happy with this product. Very much satisfied with this. I love this phone.', 'Previously I was using one plus 3t it was a great phone And then I decided to upgrade I am stuck between Samsung s10 plus or iPhone 11 I have seen the specs and everything were good except the display it’s somewhere between 720-1080 and it’s not even an amoled it’s an LCD display But I decided to go with iPhone because I have never used an IOS device I have Been an android user from the past 9 years I ordered IPhone 11 (128gb) product red My experience after using 3 weeks 1. The delivery ... READ MORE', 'Amazing Powerful and Durable Gadget.  I’m am very happy with the camera picture quality, Amazing face id unlocked in dark room, Strong battery with perfect screen size as you can carry easily in pocket. This is my third iPhone.  I shifted from android Samsung Note series to iPhone because of the strong build quality and peace of mind for next 3-4 years.  Don’t think to much just go for it and I suggest you to go for minimum 128gb variant or more 256gb.  I’ve attached my puppy pics and no fi... READ MORE', 'So far it’s been an AMAZING experience coming back to iOS after nearly a decade but it’s not as versatile as android though phone is sturdy dropped it accidentally a couple of times and nothing happened fortunately camera is awesome', 'i11 is worthy to buy, too much happy with the product. Thank u flipkart I received the item on time..loved it..', 'iphone 11 is a very good phone to buy only if you can compromise for the display. The display on this is device is pretty good but you can get other options with better displays in this price segment. If you can survive with an HD+ LCD panel with thicker bezels and a notch up top then this is a very good phone for you. Cameras are awesome, battery backup excellent, great performance and a decent premium look. Good job Apple !', 'Great iPhone very snappy experience as apple kind. Upgraded from iPhone 7. Pros -Camera top class - Battery top performed -Chipset no need to say as apple kind -Security as you expect from apple - Display super bright industry leading colour accuracy and super responsive -Build quality as expect from apple sturdy premium durable beautiful stylish. -Os most stable os in smartphone industry  Cons -No 5G -Display is not based on OLED technology -Charger headphones and 1 apple stic... READ MORE', 'It’s a must buy who is looking for an upgrade from previous generation of iPhones. If you are using XR then still you can hold on for sometime and upgrade to 2020 model else this phone is a must buy . Camera quality is amazing and wide angle is something to count upon. Performance wise it’s amazing and feels premium while holding in hand. So a big YES for this device. Go for 128 GB variant as the 4K videos will occupy lots of space and the storage can get over very quickly. Try to buy it with... READ MORE', 'What a camera .....just awesome ..you can feel this iPhone just awesome . Good for gaming also ...try pubg in hd it’s just wow', 'Value for money❤️❤️ Its awesome mobile phone in the world ... Display was very good and bright .. Trust me freinds you r never regret after Buying.. Just go for it.... I love this phone and i switch to iphone x to 11', 'Totally in love with this ❤ the camera quality is amazing just love it 😘😘😘 itsss dammnnnnnn amazing... Must buy iPhone 11 this is my best experience ever ☀👌👌🧡🧡🧡🧡🧡 thanku apple ❤', 'Best budget Iphone till date ❤️ go for it guys without second thought. Let me explain you guys about Camera, Display, battery, and performance.  Camera: at this price range there is no comparison of camera, you’ll love the picture quality as well as video quality. I am a Vlogger I wanted an iPhone with 4k video by front camera and I got this phone and I am more than happy 😃  Battery: I use this phone roughly as I am active social media person and I have a youtube channel. so the battery ba... READ MORE', \"Iphone is just awesome.. battery backup is very very nice.. continuously for 10 hours we can use it.camera is just awesome.. display is just fab.i love it alot..i had to wait 15 days for it as i pre ordered it..overalll it's worth the price..these all images are clicked by my iPhone..and i love it.\", 'Excellent camera, good performance, no lag. The lcd display is also good.. but difference come when we watch movie in prime and Netflix, the colours are not vibrant.. as we see in amoled display.. and the charger in box is of 5 watts.. takes more than 3 hours to charge from 0 to 100.. so guys be prepare to buy 18 watts charger . Finally I am an android user, it was my first Iapple phone, I promise u guys the iOS is so smooth.. overall the phone is damn good.... close eyes to buy it.. thanks t... READ MORE', \"It's my first time to use iOS phone and I am loving my upgradation 😍😍 I love the color, I love the assebility of the phone....I need to learn more about its functionality, but as far as I have seen, it's quite easy and it has a lot of functions to work on, specially if you are a content writer or a blogger you get a lot of content creation platforms and they are really amazing.  This phone not only for good quality photography but a lot of other task too.😍💯\", 'It’s been almost a month since I have been using this phone. I upgraded from an iPhone 8. The main issue with my 8 was battery and this phone is just awesome when it comes to battery. It lasts a day and a half for me with my regular use , internet connected always with 4g Can’t move forward without saying this. Battery of this phone is a life saver when I am traveling or at work when I don’t get the option to charge Camera is superb. Front cam selfies and back cam photos are just awesome. ... READ MORE', 'Really worth of money. i just love it. It is the best phone ever.', 'Awesome Phone. Slightly high price but worth. Better than iPhone XR. Camera is superb and wide angle camera is very clear. 12MP selfie camera is also very good. A13 Chip gives a very good and smooth performance.', 'This is my first ever I phone. Before this I was using my google nexus 5. But moving from android to iOS is a great experience. It’s worth at this price. I will highly recommend it if you want to move to iOS. The best part of this phone is it’s camera and it’s battery life. This two things have won my heart. I loved it. Happy to have it in my hand. Still exploring its features. And can’t forget to mention Flipkart service. Very prompt service and fast delivery.', 'Superb Product !!! A big and worthy upgrade from mi 3S to iphone 11 . Totally loved it !', 'I have migrated from OP 7pro... and trust me, iPhone 11 is totally worth it.. following are the reasons:- 1)there is ABSOLUTELY NO ISSUE WITH THE DISPLAY... its crisp, sharp and I found it to be much much better than OP7 pro. Netflix, Prime video all run crisply... you won’t miss a thing. True Tone works flawlessly...the display brightness is perfect. OP have not calibrated their screens properly. 2) iPhone 11 series have really good cameras... others have spoken in depth about them. 3) bat... READ MORE', 'It’s an amazing product from apple and the camera is simply superb. Phone is faster.Night shot is simply superb and detailing and colour differentiation from camera is an added advantage  This review I have written from iPhone 11 only and I am glad to say outside.  Cons wise if we see HD+ display only, no battery percentage indicator as in older iPhone 8. No assistive touch control button in it No oleophobic coating on back panel glass and finger prints are visible but since I bought mint gr... READ MORE', 'Looking so good 👍 😍 super 👌 stylish 😎 phone Clean box 📦 good 👍 delivery 👌 fast delivery Original box Original iphone 📱 👌 😍😍😍', 'After 1 month use I found camera quality best compared to my previous Samsung note 10+.Display not good as note 10 also charging too slow.Apple should add fast charger like 11 plus and pro.Best phone for daily use', 'I just directly switch from iphone 6s to iphone 11 .The best premium smartphone I recommend to everyone. Excellent quality and colors the iphone have in 11 series. Camera quality is just awesome and the major feel when we hold in our hands. The sound quality and volume is also higher then the previous models. I will recommend to buy iphone 11 instead of pro models , there is nothing much difference as this model contains everything which fulfill our needs.  Only one thing that I dislike abo... READ MORE', 'Upgraded from iphone 6 to 11 best phone for iphone users battery is much better than other iphones camera is awesome love to use it.camera is so clear in night.', 'Well you all know the specifications . One of a kind. Best iPhone till date. Many enhancements to the camera app with many options. Love the glass body with matte finish in the lens area on the back. Lovely colours to choose from. Best battery in an iPhone till date, enough to last more than a day in normal usage. I tested my iPhone 11 battery and lasted for than 24 hours after full charge still with 30% battery charge left. Watched movies for some time. Normal usage on calls, browsing, musi... READ MORE', \"It's very high performances devise i am like the service of flipkart delevary very fast and packing very nice perfect phone\", 'This will help you more. See if you are planning to buy iPhone 11. I will say. Yes. But there are some plans I just want to disclose before you buy. 1) If you are an existing iPhone X/XS/XS Max/ XR user, better you guys do not think it to buy. You guys have more or less better gadget. 2) If you are an android user and planning to buy premium phone. I will suggest them to please buy iPhone instead of buying an Android. I bet you will never go back to android after using IOS. Now I want to shar... READ MORE', 'The built quality is not very premium. The battery back is great . The LCD panel is not so sharp but the brightness level is very High . Camera is super duper awesome. The red colour which people think is bright is actually very soothing and excellent colour to choose from . The A13 Bionic chip is really a flagship processor and can beat any phone which even has 12 gb ram . Camera module is very great and looks very stylish.', 'Amazing camera and feel super machine I am not describe my feeling but this is amazing Phone I am so lucky I have this', 'Really good actually this is my first apple product am using its really awesome performance wise excellent. Am really happy with this iphone11', 'it is very good at performance. Camera is best like before and very smooth response even in water. Don’t buy 12 mini buy iPhone 11 , it is far better than 12 mini believe me ! Have a nice day \\uf8ff ☺️', 'Reviewing again after 5 months. At the beginning the battery and performance was good but it degraded soon. Also I was facing heating issues. The mobile will heat up like a stove sometimes. You cannot even play Pubg even in low settings properly, performance is not a problem but heating is. Also if you play that game for 10 mins the brightness will be automatically down due to over heating even when the auto brightness is set to off. This will not be solved even if u manually increase the bri... READ MORE', 'It is just awesome mobile for this price from Apple,  After 10 days review  Battery enough for 1 day even 24*7 Internet will be on and mostly internet usage  Camera is just awesome cool , android 64 MP is equal to this just 12 MP  A13 Bionic chip will give more high performance without hanging  Audio stereo speakers will give Dolby atoms sound with crystal clear  Video recording is like cinematic shots of every sec can be a 4K 60fps. Just awesome this phone iPhone 11 loved one', 'Best Apple iPhone that i have bought at a very reasonable price, camera quality is next level just awesome n of superior quality android phones not even close(RIP) to that and also battery is really good but packaging by Flipkart of iPhone was very poor of such a expensive product, firstly im bit worried about the quality of product if i purchased it through online how was the product but i think now this was mine best decision to bought it through Flipkart online because i got genuine Apple... READ MORE', \"I can say I'm damn impressed with iPhone 11. As they says iPhone 11 have the toughest glass ever in the smartphone which you'll find on the front and back and it's totally smooth. The fit and finish is full apple quality - there's no sense that any cheaping out has happened in the construction. Without saying it's camera features this review won't complete. The iPhone 11 has a dual camera system, consisting of a wide angle len's that's pretty much same as found on the iPhone XR last year, but... READ MORE\", 'Best Quality Product OF iPhone Series , Sound Quality & Camera quality is very awesome, Battery Life is very Sufficient for 24 hr Backup With Full Internet Access , I love this this Product too much , It is very fast & making me Very fast in all my daily Routine Highlights; 1.Camera: 5 STAR 2.Video Recording: 5 star 3.Night mODE sHOOTING & Camera:4 star 4. Audio Quality: Awesome 5. Battery : 5 Star 6. Touch:5 Star 7. Processor: Very Fast The M... READ MORE', 'First thanks to Flipkart for this amazing deal and phone is outstanding. I upgraded from iPhone 7 and this is like very big upgrade. But the packaging was very basic I expected a good packaging as they only wrapped one layer of bubble wrap which I don’t think is enough to protect this expensive phone. And I recommend this phone and seller as well.  And I’m posting this review after using it for 4 days.', 'Superfast delivery by Flipkart. Thanks.  1. iPhone 11 is a pretty solid phone for the money you are paying. 2. All the bad reviews about the display is confusing. It’s not that bad. 3. I switched from a Oneplus 7t. I have no complaints about the display quality of iPhone. Yes, it’s not OLED, so, we are missing on the deep blacks. But that’s it. It is a very colour accurate display. Gets adequately bright and I could not find any pixelation. 4. Performance is one of the best, if not best, in ... READ MORE', 'Smooth like butter, camera like fantabulous, sound is crystal clear & its red color is damn attractive, i am just loving it. Must buy if you love photography.  Lucky to get it in sale, thank you Flipkart.', \"Again back to apple iphone after a gap of 2-3 years. It's pleasure to use iOS and the quality product by Apple. Iphone 11 still works like a beast in 2021 also. It really capable of doing day to day usage as well as hard core gaming. Battery is awesome. I'm really too much satisfied with it. Apart fto the very gorgious IPS LCD (AMOLED will be better) everything is mind boggling. Iphone💕.\", 'impressive super phone and best in class camera ,sound and face unlock is super fast just see and phone is unlock and fast in daily apps use', 'Battery backup is extraordinary, camera is decent & performance offered by A13 bionic is awsome. The display is good in practical usage like the visibility of display is very good in direct sun light compare to pro models. Iam extremely satisfied for the money I spent.', 'Well while switching from android to iOS the first thing you need to be careful about is that you will loose all your whatsapp chat backups as both are different operating systems. Camera clarity is awesome and though being an lcd screen clarity and resolution is good. Battery backup is also good unlike previous gen iPhone. So far the experience is good will Padre after a few months of usage.  P.S the black is more of a dark grey shade and not jet black', 'In love with this iphone great performance,camera ,battery everything. Go for it have a uncompareble battery backup, no doubts in iPhone camera here You can see the picture which is shot on my iPhone In love with this iphone great performance,camera ,battery everything. Go for it have a uncompareble battery backup, no doubts in iPhone camera here You can see the picture which is shot on my iPhone In love with this iphone great performance,camera ,battery everything. Go for it have a uncompare... READ MORE', 'Best in class. Battery backup is good especially when you play games like Pubg COD. But it is sort of heavy when you hold in hands. Portrait mode is best to click pictures. Stage light effect is awesome. Try to click photos outside in nature because photos inside home or room will not give you the quality in any phone even in DSLR.', 'Very excited to have this phone. This phone has the real power unlike the android phones having SD 855 . The battery life is very good and the camera quality is excellent as comapred to redmi and other phones except google pixel. I M enjoying every single bit of it. Would recommed only if you have the budget.', \"I upgraded (downgraded?) from my iPhone X since the phone fell down and I didn't want to repair the screen. The box that the phone came in was super slim and I was worried that there'd be no 5W charger with it and my fears were confirmed. However, thankfully I had the 18W USB-C PD charger from Apple which I bought for my iPhone X and it worked perfectly. The charging time is as lethargic as ever though and it takes about 1:30 mins or even 2 hours depending on charge remaining. I'll list some ... READ MORE\", 'Its Very awesome product working and good camera quality and all about best product and also flipkart is very great deal and offer nice price', 'I am using this phone for 5 days and its one of the best camera out there ❤️ the screen is not oled and i am coming from iphone xs so its little bit not up to the mark i would say But overall value for money💕😍the battery back up is far better than my iphone xs and its worth in my apple ecosystem💫❤️if u are an apple User and have the eco system then go for it❤️though i will be getting the new iphone but its pretty good💫', 'Best and amazing product.....phone looks so premium.... battary is also good as expected .... Wide angle camera is so addictive ...if you are a IOS lover....then this phone will be the best choice for you all!!💯🔥', 'Excellent camera and display touching very nice and smooth very improvement against iPhone XR and new processor is very fast', \"I got this beast today. And I must say the picture quality of its camera is awesome. Both the cameras works fine.  As for as the processing is concerned, it runs without any lag. You can play and do whatever you want without a glitch.  The battery runs for a day with medium and high workload.  The display is good and the speakers are working fine.  The earphones doesn't have any base and you can use it for calling mostly.  The charging time is approximately for 90 minutes for full charging... READ MORE\", 'Awesome purchase. Amazing phone with good battery backup. It’s a top notch device. White colour looks amazing. Phone has a few extra feature than iPhone XR. Overall, this is value for money', 'Always love the apple products, upgraded from old iPhone 6S plus to this after having my first baby. I just love to click baby’s photos with it. Overall I just love this phone. Battery back up is okay, sound quality is good. Haven’t tested yet waterproof yet. Only one thing I hate is apple could have given charger & headphones in box.', 'Value for money 5 star rating Excellent camera Battery backup full day in single charge.  Tougher and water resistant design, glossy back. The screen has excellent brightness and contrast. Apple A13 Bionic is the fastest smartphone chip on the planet. Excellent battery life, fast charging support. Stereo speakers with great quality.', 'Please DONT buy from here,  I purchased Apple iPhone 11. with an exchange of IPhone 7, the exchange did not go well, iPhone 7 had a small scratch out side screen which i could never identify till date, but the FLIPKART person could, so he reduced 50% from exchange rate. I decided not to trade in, but paid money.  iPhone 11 Detail Below --------------------------------------------- It came with no charging, then i have put for charging, it took lot of time for charging, the phone also showe... READ MORE', 'awesome phone to have. it has got many smart features apart from mind blowing looks, camera, display, battery and sound. have fallen in love with this phone. must buy phone if you have got enough money. thanks to flipkart and apple of course..', 'Its a fabulous mobile look awesome performance unbeaten camera like dslr battery good i think this is a beast of mobile', 'Dear friends... I want to share my experience with you about this amazing I phone 11....this is my first iPhone and special things about this mobile is it has great camera, battery backup and awesome display.... I mean everything is perfect.loved it 👍👍👍', \"Just got this iphone 11 And it is most powerful mobile phone I have used ever  So,go for it if you want a phone with best specification like camera,battery backup,display, A13 bionic chip  That's my review about this phone but yours can be differ from me....\", 'Amazing phone and on great deal I received with super fast delivery by Flipkart...', 'finally an iPhone with very nice battery backup. update from iPhone 7 and happy to have it. camera is not up to the mark in low light but overall a recommended phone if your budget allows 😀', \"I'm switching this phone to oppo reno 10x zoom It's really impressive Rarely I'm missing smooth display touch response like oppo reno but I really loved it. Camera really impressive\", 'Worth the money’ starting first from its performance it beats out all phones , second the smoothness of camera is awesome, contrast ratio is much than expected. Price will not matter if u r a quality person, if not other phones are available with better discount', 'I dreamt about this day from a long time.... Getting an iPhone with my own money.... Super happy and worth spending every penny', \"I'm Really happy with the product Delivery was fast as well ..it was a gift for my sister and she loved it so much.\", 'Great iphone. I am writing this review after 2 months of usage. Camera is excellent, especially the nightmode Display perfect Battery backup awesome Sound quality very good Overall Apple gives you a perfect iphone in this range. Really in love with iPhone 11', 'Did an upgrade from 6s plus to iphone 11. Ao far the experience is well and good. Felt smoother than 6s plus. The camera quality is superb. Battery backup is descent. Not a heavy user, and gets power more than a day. Go for it if you need an alrounder iphone in a competitve price.', 'Damn this phone is a blast . Upgraded from android to ios and is a duperb experience. Battery backup is top notch and display also pretty good', 'Gifted my man on his 30th birthday 🎂 He loves it.. Him happy so i am more than happy 😍😘❤️🥰', 'Thanks Flipkart For this amazing deal! I had a dream of owning a iphone since i had known about. Im very happy with my purchase & it is totally worth it. Amazing experience all over !!  Anyone who’s thinking of buying it in 2021, i would simply say go for it without any second thoughts ❤️', 'awesome Phone Smooth Touch Too good Sexyy looks one word Awesome', 'I rate this product 5* as it has got amazing user experience with the best performing A13 bionic processor. The screen responds and graphics rendering is top notch. With casual gaming and internet browsing, the battery lasts for approx. 1 day. Camera is very good. You will fall in love with the portrait mode. You can call me a loyal Apple customer or whatever but I won’t stop praising the products and overall experience. That user experience matters and is worth every penny you pay.  Below ar... READ MORE', \"It was amazing experience for me. Honestly i am using iPhone first time so I don't have that much past experience about that. But after using 7 days this mobile i want to give some honest feedback. 1- Display 9 out of 10 2- Camera 9.5 out of 10 3- Battery 7 out of 10 4- Performance 9.5 out of 10 5- Features & Functions 10 out of 10 6- Outer looks and colour 10 out of 10 Rest i think i will understand after using this for few months. I will highly recommend you guys if you have budget then you... READ MORE\", \"Just go for it. This phone is really amazing. I ordered it for my wife and we click photos on this thing which are better than dslr. I own OnePlus 6t but it's camera sucks. iPhone is really amazing when it comes to camera. It's worth spending 50k on this. Cons- only display is lcd. While using u don't feel it but if u compare with other phone then u can see difference quite easily. Changing from Android to iphone is bit difficult coz most of things u don't know but I liked it. Some of the a... READ MORE\", 'I bought iPhone 11 On March 2021, And I am Writing this review after using the phone for 4 Months. I would Say Everything is fine, Top Performance, Nice Camera as Anyone would Expect from any series of iPhone but when the Question comes to Battery it is complicated. The Battery is fully optimised and it comes 3110 mAh capacity but the problem is with the charger. Honestly Apple Removed charger from in Box items in the name of Environment and they are also forcing us to buy any 20W PD 3rd part... READ MORE', \"I've used this phone for over a month now and here are my takeaways. I would like to first talk about the best things about this phone and then the cons of it.  Pros: This phone is a performance beast. It handles large games and applications effortlessly and you won't find any stutters or lags while playing graphic intensive games like pubg, cod , mortal kombat and asphalt.  This phone has only 4gb ram and yet the ram management is amazing, it can keep 3 heavy games in memory without reload... READ MORE\", \"If you are looking for a premium phone under 55k, this is the one for you.Got the iPhone 11 during the Republic day sale. Performance is top notch in this price range. Camera's do a perfect job in taking good quality photos and videos. Battery backup too is satisfactory. Writing this review after using for a week. Any further observations would be updated.\", 'Absolutely powerful gadget. Loved it’s look! Soo glassy and classy. I would definitely recommend this model of Apple. Only disappointed with the 5W charger, one should purchase an 18W adapter for fast charging. Though battery backup is great. Bought it in September 2020, reviewing after so long so I’m gonna put the genuine review here.✅', \"phone is good but in display is 720p lcd in this price range we can get full hd OLED displays with higher refresh rate processor is very good camera is nice but looks kind of oldish in front of todays phone also there's no charging in box had to buy it seperately\", 'Nice value for money good and best price I phone mind blowing camera processor very fast other android mobile I am happy India top selling phone 2020', 'Here is the thing  The only reason why you should buy this phone is for the camera, iOS, and if you have headaches looking at AMOLED display.  I’m not an avid gamer but watch a lot of movies on smartphone. However, my migraine attacks increased considerably after using AMOLED Smartphone. That’s why I made a calculated decision to buy iPhone 11. It has the best LCD display and the blacks, though not as natural as an AMOLED, is better than some of the other smartphones.  Adding to this the ste... READ MORE', 'Undoubtedly Iphone 11 is the most successful model till now and its performance is extraordinary and the security features are very impressive, display is more vibrant sound quality Camera Quality 5*****, but Iphone should add accessories too and act like scrooge.', 'I purchased the iPhone 11 a month back. I must say Apple has impressed me yet again . I have been an Apple user for past 5 years . The phone is power packed with amazing features . What impressed me the most was the battery backup the phone offers . Battery can easily run upto 1.5 days in single charge with moderate to Heavy usage . If you’re looking for a value for money device , I don’t see any other phone in the price range which can match the iPhone 11 . One thing I didn’t like was that ... READ MORE', 'We are on apple ecosystem for almost eight years now with couple of iPads and iPhones, including Xr.  Bought iPhone 11 as a gift to my daughter who loves it. We chose for a purple coloured one. Believe me it is gorgeous and towards the lighter shade. Dazzling and brilliant!  The phone is great and does excellent RAM management like any other Apple device.  The screen, though a LCD and lesser ppi as compared to other flagship phones of competitor brands, is a delight to watch with perfect re... READ MORE', 'Can’t beat the software and hardware integration of apple. Performs like a beast. Great quality camera 6-7 hours screen on time which is good. Nothing much to complaint about the screen. Good connectivity speeds. Great buy and Flipkart’s delivery top notch as usual', 'Super and marvellous phone look very cute and nice sound. I love this phone i think white is good colur.Excellent camer 5*😍😘♥️♥️', 'I use a Note10+ and have been using both iOS and Android devices.  Camera has really good features and portraits are super good, better than Samsung flagship. Overall camera setup can still be enhanced and hopeful for better upgrades on software in next release  Operating system is quite a breeze and user experience of daily usage is very high as compared to Android. I moved to iOS very swiftly in 2 days for all my office work from Note10+  Battery holds up quite well with 4 hrs of call and ... READ MORE', 'The phone is completely good As far as camera Apple is king of it And its a beast in performance And the battery is pretty good too', 'Everything u ll like it when u use this iPhone. Simple changes only not many to lower models but it’s nice to use. Little heavy compared to previous models like 7,8', 'This is my first ever iPhone. And I truly don’t regret switching to IOS from my Android.  It is easily an alternative to a DSLR camera. If you’re obsessed with photos and videos, just don’t think twice or don’t compare to other androids(Samsung S10 lite or OnePlus 8/8T), as it’s far better from them in every field. Comparing will only make you confused.  I am getting an average Screen on Time of around 10 hours with 30 percent left. I haven’t let my device discharged below 30 % as it aff... READ MORE', 'Everything is perfect pictures come out so clearly and at first I wasn’t sure when I got it then when I started to use it and get the hang of it it was amazing!! I can’t wait to see what the next future phones will be like. The screen display on this bad boy are unbelievable they are so clear and never fail me. The performance is super cool there is a lot of cool features as well I like this phone because I feel that it is easy to use and one of my favorite things about this phone is the Face... READ MORE', 'The ultimate performance Camera is superb The battery backup also very good i never saw iphone gives this much of battery backup If any one wana buy iphone 11 definitely i will recommend this mobile It has the better battery and powerfull processer peak performance glorious camera and the display also 100% high quality lcd display if u had money for for 12 if u dont wana invest much money on that then go for iphone 11 it has maximum same specs only main difference between the 12 and 11 is... READ MORE', 'Excellent camera 📸 And Display touching very Nice And Smooth and very improvement against I phone 11 and new processor is very fast', 'A perfect phone and a good battery super camera and the sound is dynamic overall the phone is perfect for upgrading from lower iPhone model to iPhone 11']\n"
     ]
    }
   ],
   "source": [
    "full_review=[]\n",
    "for i in url_:\n",
    "    driver.get(i)\n",
    "    fr=driver.find_elements_by_xpath(\"//div[@class='t-ZTKy']\")\n",
    "    for j in fr:\n",
    "        full_review.append(j.text.replace('\\n',' '))\n",
    "full_review=full_review[0:100]\n",
    "print('\\n Full Review  \\n\\n',full_review)"
   ]
  },
  {
   "cell_type": "code",
   "execution_count": 130,
   "metadata": {},
   "outputs": [
    {
     "name": "stdout",
     "output_type": "stream",
     "text": [
      "length of Rating:  100 \n",
      "length of Review Summary:  100 \n",
      "length of Full Review:  100\n"
     ]
    }
   ],
   "source": [
    "print('length of Rating: ',len(rating),\n",
    "     '\\nlength of Review Summary: ',len(review_summary),\n",
    "      '\\nlength of Full Review: ',len(full_review))"
   ]
  },
  {
   "cell_type": "code",
   "execution_count": 131,
   "metadata": {},
   "outputs": [
    {
     "data": {
      "text/html": [
       "<div>\n",
       "<style scoped>\n",
       "    .dataframe tbody tr th:only-of-type {\n",
       "        vertical-align: middle;\n",
       "    }\n",
       "\n",
       "    .dataframe tbody tr th {\n",
       "        vertical-align: top;\n",
       "    }\n",
       "\n",
       "    .dataframe thead th {\n",
       "        text-align: right;\n",
       "    }\n",
       "</style>\n",
       "<table border=\"1\" class=\"dataframe\">\n",
       "  <thead>\n",
       "    <tr style=\"text-align: right;\">\n",
       "      <th></th>\n",
       "      <th>Rating</th>\n",
       "      <th>Review Summary</th>\n",
       "      <th>Full Review</th>\n",
       "    </tr>\n",
       "  </thead>\n",
       "  <tbody>\n",
       "    <tr>\n",
       "      <th>0</th>\n",
       "      <td>5</td>\n",
       "      <td>Brilliant</td>\n",
       "      <td>The Best Phone for the Money  The iPhone 11 of...</td>\n",
       "    </tr>\n",
       "    <tr>\n",
       "      <th>1</th>\n",
       "      <td>5</td>\n",
       "      <td>Simply awesome</td>\n",
       "      <td>Really satisfied with the Product I received.....</td>\n",
       "    </tr>\n",
       "    <tr>\n",
       "      <th>2</th>\n",
       "      <td>5</td>\n",
       "      <td>Perfect product!</td>\n",
       "      <td>Amazing phone with great cameras and better ba...</td>\n",
       "    </tr>\n",
       "    <tr>\n",
       "      <th>3</th>\n",
       "      <td>5</td>\n",
       "      <td>Fabulous!</td>\n",
       "      <td>This is my first iOS phone. I am very happy wi...</td>\n",
       "    </tr>\n",
       "    <tr>\n",
       "      <th>4</th>\n",
       "      <td>5</td>\n",
       "      <td>Worth every penny</td>\n",
       "      <td>Previously I was using one plus 3t it was a gr...</td>\n",
       "    </tr>\n",
       "    <tr>\n",
       "      <th>...</th>\n",
       "      <td>...</td>\n",
       "      <td>...</td>\n",
       "      <td>...</td>\n",
       "    </tr>\n",
       "    <tr>\n",
       "      <th>95</th>\n",
       "      <td>5</td>\n",
       "      <td>Super!</td>\n",
       "      <td>This is my first ever iPhone. And I truly don’...</td>\n",
       "    </tr>\n",
       "    <tr>\n",
       "      <th>96</th>\n",
       "      <td>5</td>\n",
       "      <td>Fabulous!</td>\n",
       "      <td>Everything is perfect pictures come out so cle...</td>\n",
       "    </tr>\n",
       "    <tr>\n",
       "      <th>97</th>\n",
       "      <td>5</td>\n",
       "      <td>Just wow!</td>\n",
       "      <td>The ultimate performance Camera is superb The ...</td>\n",
       "    </tr>\n",
       "    <tr>\n",
       "      <th>98</th>\n",
       "      <td>5</td>\n",
       "      <td>Mind-blowing purchase</td>\n",
       "      <td>Excellent camera 📸 And Display touching very N...</td>\n",
       "    </tr>\n",
       "    <tr>\n",
       "      <th>99</th>\n",
       "      <td>5</td>\n",
       "      <td>Excellent</td>\n",
       "      <td>A perfect phone and a good battery super camer...</td>\n",
       "    </tr>\n",
       "  </tbody>\n",
       "</table>\n",
       "<p>100 rows × 3 columns</p>\n",
       "</div>"
      ],
      "text/plain": [
       "   Rating         Review Summary  \\\n",
       "0       5              Brilliant   \n",
       "1       5         Simply awesome   \n",
       "2       5       Perfect product!   \n",
       "3       5              Fabulous!   \n",
       "4       5      Worth every penny   \n",
       "..    ...                    ...   \n",
       "95      5                 Super!   \n",
       "96      5              Fabulous!   \n",
       "97      5              Just wow!   \n",
       "98      5  Mind-blowing purchase   \n",
       "99      5              Excellent   \n",
       "\n",
       "                                          Full Review  \n",
       "0   The Best Phone for the Money  The iPhone 11 of...  \n",
       "1   Really satisfied with the Product I received.....  \n",
       "2   Amazing phone with great cameras and better ba...  \n",
       "3   This is my first iOS phone. I am very happy wi...  \n",
       "4   Previously I was using one plus 3t it was a gr...  \n",
       "..                                                ...  \n",
       "95  This is my first ever iPhone. And I truly don’...  \n",
       "96  Everything is perfect pictures come out so cle...  \n",
       "97  The ultimate performance Camera is superb The ...  \n",
       "98  Excellent camera 📸 And Display touching very N...  \n",
       "99  A perfect phone and a good battery super camer...  \n",
       "\n",
       "[100 rows x 3 columns]"
      ]
     },
     "execution_count": 131,
     "metadata": {},
     "output_type": "execute_result"
    }
   ],
   "source": [
    "df=pd.DataFrame({'Rating':rating,'Review Summary':review_summary,'Full Review':full_review})\n",
    "df"
   ]
  },
  {
   "cell_type": "markdown",
   "metadata": {},
   "source": [
    "# "
   ]
  },
  {
   "cell_type": "markdown",
   "metadata": {},
   "source": [
    "## Q8.Scrape data for first 100 sneakers you find when you visit flipkart.com and search for “sneakers” in the search field."
   ]
  },
  {
   "cell_type": "code",
   "execution_count": 132,
   "metadata": {},
   "outputs": [],
   "source": [
    "import pandas as pd\n",
    "import selenium\n",
    "from selenium import webdriver"
   ]
  },
  {
   "cell_type": "code",
   "execution_count": 133,
   "metadata": {},
   "outputs": [
    {
     "data": {
      "text/plain": [
       "<selenium.webdriver.chrome.webdriver.WebDriver (session=\"1060745e17770906d6ea9297d650d546\")>"
      ]
     },
     "execution_count": 133,
     "metadata": {},
     "output_type": "execute_result"
    }
   ],
   "source": [
    "driver=webdriver.Chrome('chromedriver.exe')\n",
    "driver"
   ]
  },
  {
   "cell_type": "code",
   "execution_count": 134,
   "metadata": {},
   "outputs": [],
   "source": [
    "driver.get('https://www.flipkart.com/')"
   ]
  },
  {
   "cell_type": "code",
   "execution_count": 135,
   "metadata": {},
   "outputs": [],
   "source": [
    "login_box=driver.find_element_by_xpath(\"//button[@class='_2KpZ6l _2doB4z']\")\n",
    "login_box.click()"
   ]
  },
  {
   "cell_type": "code",
   "execution_count": 136,
   "metadata": {},
   "outputs": [],
   "source": [
    "enter=driver.find_element_by_name('q')\n",
    "enter.send_keys('sneakers')"
   ]
  },
  {
   "cell_type": "code",
   "execution_count": 137,
   "metadata": {},
   "outputs": [],
   "source": [
    "search=driver.find_element_by_xpath(\"//button[@class='L0Z3Pu']\")\n",
    "search.click()"
   ]
  },
  {
   "cell_type": "code",
   "execution_count": 138,
   "metadata": {},
   "outputs": [
    {
     "data": {
      "text/plain": [
       "['https://www.flipkart.com/search?q=sneakers&otracker=search&otracker1=search&marketplace=FLIPKART&as-show=on&as=off&page=1',\n",
       " 'https://www.flipkart.com/search?q=sneakers&otracker=search&otracker1=search&marketplace=FLIPKART&as-show=on&as=off&page=2',\n",
       " 'https://www.flipkart.com/search?q=sneakers&otracker=search&otracker1=search&marketplace=FLIPKART&as-show=on&as=off&page=3',\n",
       " 'https://www.flipkart.com/search?q=sneakers&otracker=search&otracker1=search&marketplace=FLIPKART&as-show=on&as=off&page=4',\n",
       " 'https://www.flipkart.com/search?q=sneakers&otracker=search&otracker1=search&marketplace=FLIPKART&as-show=on&as=off&page=5',\n",
       " 'https://www.flipkart.com/search?q=sneakers&otracker=search&otracker1=search&marketplace=FLIPKART&as-show=on&as=off&page=6',\n",
       " 'https://www.flipkart.com/search?q=sneakers&otracker=search&otracker1=search&marketplace=FLIPKART&as-show=on&as=off&page=7',\n",
       " 'https://www.flipkart.com/search?q=sneakers&otracker=search&otracker1=search&marketplace=FLIPKART&as-show=on&as=off&page=8',\n",
       " 'https://www.flipkart.com/search?q=sneakers&otracker=search&otracker1=search&marketplace=FLIPKART&as-show=on&as=off&page=9',\n",
       " 'https://www.flipkart.com/search?q=sneakers&otracker=search&otracker1=search&marketplace=FLIPKART&as-show=on&as=off&page=10']"
      ]
     },
     "execution_count": 138,
     "metadata": {},
     "output_type": "execute_result"
    }
   ],
   "source": [
    "url=driver.find_elements_by_xpath(\"//div[@class='_2MImiq']//a\")\n",
    "url_=[]\n",
    "for i in url:\n",
    "    url_.append(i.get_attribute('href'))\n",
    "url_=url_[0:10]\n",
    "url_"
   ]
  },
  {
   "cell_type": "code",
   "execution_count": 139,
   "metadata": {},
   "outputs": [
    {
     "name": "stdout",
     "output_type": "stream",
     "text": [
      "\n",
      " Brand Name \n",
      "\n",
      " ['DUCATI', 'luxury fashion', 'Chevit', 'PEHANOSA', 'ASTEROID', 'Numenzo', 'World Wear Footwear', 'luxury fashion', 'Chevit', 'luxury fashion', 'Numenzo', 'U.S. POLO ASSN.', 'Chevit', 'Shoes Bank', 'bluemaker', 'RED TAPE', 'Chevit', 'BRUTON', 'Creer', 'Chevit', 'Chevit', 'Longwalk', 'T-ROCK', 'Magnolia', 'Chevit', 'BIRDE', 'Absolute comfort', 'India hub', 'Robbie jones', 'Robbie jones', 'TR', 'U.S. POLO ASSN.', 'HOTSTYLE', 'World Wear Footwear', 'restinfoot', 'BIRDE', 'Red Rose', 'SPARX', 'Kraasa', 'ROCKFIELD', 'India hub', 'PUMA', 'WRIZT', 'DUCATI', 'BIRDE', 'Zsyto', 'World Wear Footwear', 'luxury fashion', 'HOC', 'Jack Diamond', 'Arohi', 'luxury fashion', 'Zorth', 'Edoeviv', 'Nilatin', 'luxury fashion', 'World Wear Footwear', 'bluemaker', 'Airland', 'luxury fashion', 'India hub', 'D-SNEAKERZ', 'ESSENCE', 'India hub', 'luxury fashion', 'BRUTON', 'World Wear Footwear', 'U.S. POLO ASSN.', 'Edoeviv', 'Numenzo', 'SPARX', 'Chevit', 'VIPSJAZZY', 'Ktiz', 'Tying', 'RED TAPE', 'Magnolia', 'Labbin', 'BRUTON', 'U.S. POLO ASSN.', 'bluemaker', 'Wakefield', 'Chevit', 'DUCATI', 'Labbin', 'India hub', 'SEGA', 'luxury fashion', 'BRUTON', 'SPARX', 'Numenzo', 'luxury fashion', 'ESSENCE', 'BRUTON', 'Zixer', 'India hub', 'ESSENCE', 'D-SNEAKERZ', 'RED TAPE', 'India hub']\n"
     ]
    }
   ],
   "source": [
    "brand_name_=[]\n",
    "for i in url_:\n",
    "    driver.get(i)\n",
    "    brand=driver.find_elements_by_xpath(\"//div[@class='_2WkVRV']\")\n",
    "    for i in brand:\n",
    "        brand_name_.append(i.text)\n",
    "brand_name_=brand_name_[0:100]\n",
    "print('\\n Brand Name \\n\\n',brand_name_)"
   ]
  },
  {
   "cell_type": "code",
   "execution_count": 140,
   "metadata": {},
   "outputs": [
    {
     "name": "stdout",
     "output_type": "stream",
     "text": [
      "\n",
      " Price \n",
      "\n",
      " ['₹1,219', '₹389', '₹599', '₹419', '₹499', '₹378', '₹240', '₹399', '₹449', '₹449', '₹426', '₹399', '₹664', '₹349', '₹399', '₹389', '₹284', '₹474', '₹418', '₹399', '₹473', '₹260', '₹378', '₹3,916', '₹759', '₹698', '₹198', '₹899', '₹499', '₹474', '₹449', '₹474', '₹279', '₹240', '₹378', '₹348', '₹399', '₹620', '₹416', '₹1,949', '₹404', '₹2,042', '₹279', '₹1,219', '₹379', '₹378', '₹240', '₹389', '₹378', '₹635', '₹464', '₹399', '₹439', '₹474', '₹407', '₹399', '₹499', '₹399', '₹264', '₹399', '₹399', '₹348', '₹319', '₹389', '₹449', '₹473', '₹240', '₹3,916', '₹449', '₹407', '₹610', '₹474', '₹399', '₹429', '₹888', '₹899', '₹348', '₹449', '₹359', '₹1,949', '₹399', '₹199', '₹360', '₹1,219', '₹399', '₹387', '₹639', '₹389', '₹323', '₹636', '₹407', '₹399', '₹353', '₹499', '₹555', '₹3,916', '₹353', '₹384', '₹1,649', '₹399']\n"
     ]
    }
   ],
   "source": [
    "price1_=[]\n",
    "for i in url_:\n",
    "    driver.get(i)\n",
    "    price=driver.find_elements_by_xpath(\"//div[@class='_30jeq3']\")\n",
    "    for i in price:\n",
    "        price1_.append(i.text)\n",
    "price1_=price1_[0:100]\n",
    "print('\\n Price \\n\\n',price1_)"
   ]
  },
  {
   "cell_type": "code",
   "execution_count": 141,
   "metadata": {},
   "outputs": [
    {
     "name": "stdout",
     "output_type": "stream",
     "text": [
      "\n",
      " Discount % \n",
      "\n",
      " ['67% off', '80% off', '62% off', '58% off', '75% off', '62% off', '51% off', '69% off', '70% off', '65% off', '78% off', '80% off', '74% off', '65% off', '60% off', '86% off', '71% off', '86% off', '58% off', '69% off', '73% off', '47% off', '62% off', '2% off', '69% off', '65% off', '60% off', '78% off', '50% off', '52% off', '77% off', '76% off', '72% off', '51% off', '62% off', '65% off', '60% off', '11% off', '58% off', '35% off', '86% off', '41% off', '72% off', '67% off', '24% off', '70% off', '51% off', '80% off', '81% off', '36% off', '53% off', '69% off', '56% off', '40% off', '68% off', '86% off', '81% off', '60% off', '47% off', '80% off', '69% off', '47% off', '68% off', '2% off', '85% off', '81% off', '51% off', '76% off', '55% off', '68% off', '18% off', '78% off', '60% off', '66% off', '55% off', '35% off', '65% off', '55% off', '72% off', '24% off', '60% off', '60% off', '63% off', '67% off', '60% off', '87% off', '36% off', '80% off', '75% off', '15% off', '59% off', '69% off', '64% off', '80% off', '44% off', '86% off', '64% off', '61% off', '70% off', '69% off']\n"
     ]
    }
   ],
   "source": [
    "discount1_=[]\n",
    "for i in url_:\n",
    "    driver.get(i)\n",
    "    discount=driver.find_elements_by_xpath(\"//div[@class='_3Ay6Sb']\")\n",
    "    # using for loop to extracting text\n",
    "    for i in discount:\n",
    "        discount1_.append(i.text)\n",
    "discount1_=discount1_[0:100]\n",
    "print('\\n Discount % \\n\\n',discount1_)"
   ]
  },
  {
   "cell_type": "code",
   "execution_count": 142,
   "metadata": {},
   "outputs": [
    {
     "name": "stdout",
     "output_type": "stream",
     "text": [
      "\n",
      " Product Description  \n",
      "\n",
      " ['Sneakers For Men', 'Fashionable casual sneaker sports shoes Sneakers For Me...', 'Super Stylish & Trendy Combo Pack of 02 Pairs Sneakers ...', 'Sneakers For Men', \"Original Luxury Branded Fashionable Men's Casual Walkin...\", 'Sneakers For Men', '5011-Latest Collection Stylish Casual Loafer Sneakers S...', 'Luxury Fashionable casual sneaker shoes Sneakers For Me...', 'Unique & Perfect Collection Combo Pack of 02 Shoes for ...', 'Sneakers For Men', 'Fashionable casual sneaker shoes Sneakers For Men', 'Perfect & Affordable Combo Pack of 03 Pairs Casual Snea...', \"White Sneaker For Men's/Boy's Sneakers For Men\", 'casual for men (blue 08) Sneakers For Men', 'Fashionable casual sneakers shoes Sneakers For Men', '494 Perfect Sports Shoes for Running Training Hikking &...', 'Combo Pack Of 4 Casual Shoes Loafer Shoes Sneakers For ...', 'Sneakers For Men', 'Perfect & Affordable Combo Pack of 02 Pairs Sneakers Ou...', 'Men Boxer Sneakers For Men', 'Synthetic Leather Casual Partywear Wedding Sneakers Sho...', 'LEBRON 2.0 Sneakers For Men', 'Speed Set of 5 Pairs Sneakers Outdoors Casuals for Men ...', 'Combo Pack of 4 Casual Shoes Sneakers For Men', 'Sneakers For Men', 'Sneakers For Men', 'Sneakers For Men', 'Combo Pack of 4 Casual Sneakers With Sneakers For Men', 'Sneakers For Men', 'Men 5014 Latest Collection Stylish Casual Sports Loafer...', 'Casual shoes Sneakers For Men', 'White Sneakers Sneakers For Men', 'Sneakers For Men', 'Series 7 Sneakers For Men', 'CLARKIN Sneakers For Men', 'Fashionable casual sneakers shoes Sneakers For Men', 'Hip Hop Mid Perf IDP Sneakers For Men', 'Sneakers For Men', 'Sneakers For Men', 'Latest Collection-1227 Stylish Casual Sports Sneakers F...', 'Luxury Fashionable casual sneaker shoes Sneakers For Me...', 'Luxury Fashionable Breathable White shoes for men Sneak...', 'Sneakers For Men', 'Luxury Fashionable casual sneaker shoes Sneakers For Me...', 'Sneakers For Men', \"Original Luxury Branded Fashionable Men's Casual Walkin...\", 'White Sneaker for Men Sneakers For Men', 'LEBRON 2.0 Sneakers For Men', 'Combo Pack of 4 Latest Collection Stylish Casual Loafer...', 'casual for men (beige 06) Sneakers For Men', 'shoe Sneakers For Men', 'Combo Pack of 4 Casual Sneakers With Sneakers For Men', 'Sneakers For Men', \"Casual , Partywear Sneakers Shoes For Men's And Boys Wh...\", 'Casuals Sneakers For Men', 'Luxury Fashionable casual sneaker shoes Sneakers For Me...', 'Modern & Trendy Collection Combo Pack of 02 Shoes for M...', 'Sneakers For Men', 'CLARKIN Sneakers For Men', \"Luxury Branded Fashionable Men's Casual Walking Partywe...\", 'White Sneaker For Men Sneakers For Men', 'Fashionable sneaker casual shoes Sneakers For Men', 'Rockstyle Trending Multicolor Ultralight canvas Sport/ ...', 'Model name: New Latest Affordable Range of Combo Pack o...', 'Casual Shoes Sneakers For Men', 'White Sneakers Sneakers For Men', 'Sneakers For Men', 'Modern Trendy Sneakers Shoes Sneakers For Men', 'Sneakers For Men', 'casual for men Sneakers For Men', 'Sneakers For Men', 'Smart Casuals Canvas Shoes Combo pack of 2 Sneakers For...', 'Sneakers For Men', 'Casual Sneakers White Shoes For Men And Boys Sneakers F...', 'Fashionable casual sneakers shoes Sneakers For Men', 'Sneakers For Men', 'Luxury Fashionable casual sneaker shoes Sneakers For Me...', 'Lattest Sneakers Shoe Sneakers For Men', 'Canvas Casual Partywear Outdoor Sneakers Shoes For Mens...', 'Sneakers For Men', 'Fashionable casual sneaker sports shoes Sneakers For Me...', 'Trendy Sneakers For Men', 'Modern & Trendy Collection Combo Pack of 02 Shoes for M...', 'Luxury Fashionable casual sneaker shoes Sneakers For Me...', 'Sneakers For Men', \"Casual , Partywear Sneakers Shoes For Men's And Boys Wh...\", 'Sneakers For Men', 'Scuderia Ferrari Drift Cat 8 Sneakers For Men', 'Sneakers For Men', 'New Fashion Outdoor Trendy Lightweight Casual,Canvas St...', 'Casual Sneakers White Shoes For Men Sneakers For Men', 'CETLLO Mens Casual Sport White Wallking Smart Sneakers ...', 'Fashionable casual sneaker shoes Sneakers For Men', 'Fashion Sneakers For Men', '168 Smart Red Lace-Ups Casuals for Men Sneakers For Men', 'Combo Men Pack of 2 Loafers Shoes Sneakers For Men', 'LEBRON 2.0 Sneakers For Men', \"Men's Stylish Casual Shoes Sneakers For Men\", 'Men & Boys Stylish, Comfortable Mesh Shoes With Soft La...', 'Sneakers For Men']\n"
     ]
    }
   ],
   "source": [
    "product_descr=[]\n",
    "for i in url_:\n",
    "    driver.get(i)\n",
    "    product=driver.find_elements_by_xpath(\"//a[@class='IRpwTa']\")\n",
    "    # using for loop to extracting text\n",
    "    for i in product:\n",
    "        product_descr.append(i.text)\n",
    "product_descr=product_descr[0:100]\n",
    "print('\\n Product Description  \\n\\n',product_descr)"
   ]
  },
  {
   "cell_type": "code",
   "execution_count": 143,
   "metadata": {},
   "outputs": [
    {
     "name": "stdout",
     "output_type": "stream",
     "text": [
      "length of Brand Name:  100 \n",
      "length of Price:  100 \n",
      "length of Discount Percentage:  100 \n",
      "length of Product Description:  100\n"
     ]
    }
   ],
   "source": [
    "print('length of Brand Name: ',len(brand_name_),\n",
    "     '\\nlength of Price: ',len(price1_),\n",
    "      '\\nlength of Discount Percentage: ',len(discount1_),\n",
    "      '\\nlength of Product Description: ',len(product_descr))"
   ]
  },
  {
   "cell_type": "code",
   "execution_count": 144,
   "metadata": {},
   "outputs": [
    {
     "data": {
      "text/html": [
       "<div>\n",
       "<style scoped>\n",
       "    .dataframe tbody tr th:only-of-type {\n",
       "        vertical-align: middle;\n",
       "    }\n",
       "\n",
       "    .dataframe tbody tr th {\n",
       "        vertical-align: top;\n",
       "    }\n",
       "\n",
       "    .dataframe thead th {\n",
       "        text-align: right;\n",
       "    }\n",
       "</style>\n",
       "<table border=\"1\" class=\"dataframe\">\n",
       "  <thead>\n",
       "    <tr style=\"text-align: right;\">\n",
       "      <th></th>\n",
       "      <th>Brand Name</th>\n",
       "      <th>Product Description</th>\n",
       "      <th>Price</th>\n",
       "      <th>Discount %</th>\n",
       "    </tr>\n",
       "  </thead>\n",
       "  <tbody>\n",
       "    <tr>\n",
       "      <th>0</th>\n",
       "      <td>DUCATI</td>\n",
       "      <td>Sneakers For Men</td>\n",
       "      <td>₹1,219</td>\n",
       "      <td>67% off</td>\n",
       "    </tr>\n",
       "    <tr>\n",
       "      <th>1</th>\n",
       "      <td>luxury fashion</td>\n",
       "      <td>Fashionable casual sneaker sports shoes Sneake...</td>\n",
       "      <td>₹389</td>\n",
       "      <td>80% off</td>\n",
       "    </tr>\n",
       "    <tr>\n",
       "      <th>2</th>\n",
       "      <td>Chevit</td>\n",
       "      <td>Super Stylish &amp; Trendy Combo Pack of 02 Pairs ...</td>\n",
       "      <td>₹599</td>\n",
       "      <td>62% off</td>\n",
       "    </tr>\n",
       "    <tr>\n",
       "      <th>3</th>\n",
       "      <td>PEHANOSA</td>\n",
       "      <td>Sneakers For Men</td>\n",
       "      <td>₹419</td>\n",
       "      <td>58% off</td>\n",
       "    </tr>\n",
       "    <tr>\n",
       "      <th>4</th>\n",
       "      <td>ASTEROID</td>\n",
       "      <td>Original Luxury Branded Fashionable Men's Casu...</td>\n",
       "      <td>₹499</td>\n",
       "      <td>75% off</td>\n",
       "    </tr>\n",
       "  </tbody>\n",
       "</table>\n",
       "</div>"
      ],
      "text/plain": [
       "       Brand Name                                Product Description   Price  \\\n",
       "0          DUCATI                                   Sneakers For Men  ₹1,219   \n",
       "1  luxury fashion  Fashionable casual sneaker sports shoes Sneake...    ₹389   \n",
       "2          Chevit  Super Stylish & Trendy Combo Pack of 02 Pairs ...    ₹599   \n",
       "3        PEHANOSA                                   Sneakers For Men    ₹419   \n",
       "4        ASTEROID  Original Luxury Branded Fashionable Men's Casu...    ₹499   \n",
       "\n",
       "  Discount %  \n",
       "0    67% off  \n",
       "1    80% off  \n",
       "2    62% off  \n",
       "3    58% off  \n",
       "4    75% off  "
      ]
     },
     "execution_count": 144,
     "metadata": {},
     "output_type": "execute_result"
    }
   ],
   "source": [
    "df=pd.DataFrame({'Brand Name':brand_name_,'Product Description':product_descr,'Price':price1_,'Discount %':discount1_})\n",
    "df.head()"
   ]
  },
  {
   "cell_type": "markdown",
   "metadata": {},
   "source": [
    "# "
   ]
  },
  {
   "cell_type": "markdown",
   "metadata": {},
   "source": [
    "# 9.Go to the link - https://www.myntra.com/shoes Set Price filter to “Rs. 6649 to Rs. 13099” , Color filter to “Black”"
   ]
  },
  {
   "cell_type": "code",
   "execution_count": 145,
   "metadata": {},
   "outputs": [],
   "source": [
    "import pandas \n",
    "import selenium\n",
    "from selenium import webdriver"
   ]
  },
  {
   "cell_type": "code",
   "execution_count": 146,
   "metadata": {},
   "outputs": [
    {
     "data": {
      "text/plain": [
       "<selenium.webdriver.chrome.webdriver.WebDriver (session=\"fe839e718c8a60e2eaa87c307204dd95\")>"
      ]
     },
     "execution_count": 146,
     "metadata": {},
     "output_type": "execute_result"
    }
   ],
   "source": [
    "driver=webdriver.Chrome('chromedriver.exe')\n",
    "driver"
   ]
  },
  {
   "cell_type": "code",
   "execution_count": 147,
   "metadata": {},
   "outputs": [],
   "source": [
    "driver.get('https://www.myntra.com/shoes')"
   ]
  },
  {
   "cell_type": "code",
   "execution_count": 148,
   "metadata": {},
   "outputs": [],
   "source": [
    "cf=driver.find_element_by_xpath(\"/html/body/div[2]/div/div[1]/main/div[3]/div[1]/section/div/div[6]/ul/li[1]/label\")\n",
    "cf.click()"
   ]
  },
  {
   "cell_type": "code",
   "execution_count": 149,
   "metadata": {},
   "outputs": [],
   "source": [
    "pf=driver.find_element_by_xpath(\"/html/body/div[2]/div/div[1]/main/div[3]/div[1]/section/div/div[5]/ul/li[2]/label/div\")\n",
    "pf.click()"
   ]
  },
  {
   "cell_type": "code",
   "execution_count": 150,
   "metadata": {},
   "outputs": [
    {
     "data": {
      "text/plain": [
       "['https://www.myntra.com/shoes?f=Color%3ABlack_36454f&plaEnabled=false&rf=Price%3A5349.0_10499.0_5349.0%20TO%2010499.0',\n",
       " 'https://www.myntra.com/shoes?f=Color%3ABlack_36454f&plaEnabled=false&rf=Price%3A5349.0_10499.0_5349.0%20TO%2010499.0&p=2',\n",
       " 'https://www.myntra.com/shoes?f=Color%3ABlack_36454f&plaEnabled=false&rf=Price%3A5349.0_10499.0_5349.0%20TO%2010499.0&p=3',\n",
       " 'https://www.myntra.com/shoes?f=Color%3ABlack_36454f&plaEnabled=false&rf=Price%3A5349.0_10499.0_5349.0%20TO%2010499.0&p=4',\n",
       " 'https://www.myntra.com/shoes?f=Color%3ABlack_36454f&plaEnabled=false&rf=Price%3A5349.0_10499.0_5349.0%20TO%2010499.0&p=5']"
      ]
     },
     "execution_count": 150,
     "metadata": {},
     "output_type": "execute_result"
    }
   ],
   "source": [
    "url=driver.find_elements_by_xpath(\"//div[@class='results-showMoreContainer']//a\")\n",
    "urll=[]\n",
    "for i in url:\n",
    "    urll.append(i.get_attribute('href'))\n",
    "urll=urll[0:5] # reduce to 5 pages\n",
    "urll"
   ]
  },
  {
   "cell_type": "code",
   "execution_count": 151,
   "metadata": {},
   "outputs": [
    {
     "name": "stdout",
     "output_type": "stream",
     "text": [
      "\n",
      " Brand Name  \n",
      "\n",
      " ['Nike', 'Nike', 'Nike', 'Nike', 'Nike', 'Puma', 'UNDER ARMOUR', 'RARE RABBIT', 'UNDER ARMOUR', 'UNDER ARMOUR', 'Puma', 'UNDER ARMOUR', 'UNDER ARMOUR', 'TARMAK By Decathlon', 'UNDER ARMOUR', 'Hush Puppies', 'PUMA Hoops', 'Hush Puppies', 'UNDER ARMOUR', 'UNDER ARMOUR', 'UNDER ARMOUR', 'Puma', 'Geox', 'Hush Puppies', 'RARE RABBIT', 'Puma', 'FORCLAZ By Decathlon', 'Metro', 'UNDER ARMOUR', 'Hush Puppies', 'ADIDAS', 'Reebok', 'Hush Puppies', 'Geox', 'Puma', 'Hush Puppies', 'Quechua By Decathlon', 'Puma', 'Hush Puppies', 'UNDER ARMOUR', 'H&M', 'Bugatti', 'Quechua By Decathlon', 'Quechua By Decathlon', 'Puma', 'FILA', 'FORCLAZ By Decathlon', 'Lacoste', 'PUMA Motorsport', 'Hush Puppies', 'FORCLAZ By Decathlon', 'Hush Puppies', 'Hush Puppies', 'Geox', 'Geox', 'Cole Haan', 'UNDER ARMOUR', 'Geox', 'DAVINCHI', 'J.FONTINI', 'Puma', 'Cole Haan', 'Bugatti', 'J.FONTINI', 'Bugatti', 'Hush Puppies', 'Bugatti', 'Geox', 'Xtep', 'Hush Puppies', 'Saint G', 'Xtep', 'Geox', 'Saint G', 'KIPRUN By Decathlon', 'J.FONTINI', 'RARE RABBIT', 'RARE RABBIT', 'ASICS', 'RARE RABBIT', 'Hush Puppies', 'Kenneth Cole', 'Geox', 'UNDER ARMOUR', 'UNDER ARMOUR', 'UNDER ARMOUR', 'Blackberrys', 'Hush Puppies', 'Saint G', 'Bugatti', 'Birkenstock', 'Geox', 'Geox', 'Geox', 'UNDER ARMOUR', 'Kenneth Cole', 'Geox', 'UNDER ARMOUR', 'Xtep', 'Heel & Buckle London']\n"
     ]
    }
   ],
   "source": [
    "brandd=[]\n",
    "for i in urll:\n",
    "    driver.get(i)\n",
    "    b=driver.find_elements_by_xpath(\"//h3[@class='product-brand']\")\n",
    "    for i in b:\n",
    "        brandd.append(i.text)\n",
    "brandd=brandd[0:100]\n",
    "print('\\n Brand Name  \\n\\n',brandd)"
   ]
  },
  {
   "cell_type": "code",
   "execution_count": 152,
   "metadata": {},
   "outputs": [
    {
     "name": "stdout",
     "output_type": "stream",
     "text": [
      "\n",
      " Short Description  \n",
      "\n",
      " [\"Men BlazerLow '77 Sneakers\", 'Men Flex Run 2021 Running Shoe', 'Men Crater Remixa Sneakers', 'Unisex KD Trey 5 IX Shoes', 'Men Renew Retaliation TR 3', 'Men Cell Fraction Fade Running', 'Men Solid Sneakers', 'Men Charged Pursuit 2 SE', 'Men Charged Pursuit 2 SE Shoes', 'Unisex Project Rock Recruit', 'Mesh Hybrid Fuego Running', 'Men Phade Running Shoes', 'Men Charged Rogue 2.5 RFLCT', 'Men Basketball Shoes', 'Men Leather Slip-On Sneakers', 'Men Charged Assert 8 Marble', 'Unisex Clyde Basketball Shoes', 'Men Leather Slip-On Sneakers', 'Men Charged Commit 3 Training', 'GS SC 3Zero IV Basketball', 'Women Charged Bandit 6 Running', 'Women Velocity Nitro Running', 'Men Solid Leather Formal Oxfords', 'Men SOFTRIDE Rift Shoes', 'Men Leather Formal Slip-Ons', 'TREKKING 100 Boots', 'Women High-Top Heeled Boots', 'Women Charged Rogue 2.5ClrSft', 'Men Woven Design Sneakers', 'Men Solid Leather Formal Slip-Ons', 'Women SUPERNOVA Running Shoes', 'Men Perforations Leather Brogues', 'Forever Floatride Energy 2', 'Men Leather Monk Shoes', 'Men Solid Leather Formal Slip-Ons', 'Women Eternity Nitro Running', 'Men Trekking Shoes', 'Women Deviate Nitro Running', 'Men Leather Derbys', 'Men HOVR Sonic STRT Tech Shoes', 'Men Leather Formal Derbys', 'Black Leather boots', 'Men Sneakers', 'Waterproof Walking Shoes', 'Women Waterproof Hiking Shoes', 'Men Leader VT Running Shoes', 'Men Running Shoes', 'Men Woven Design Slip-On Sneakers', 'Unisex Sneakers', 'Men Hiking Shoes', 'Men Woven Design Slip-On Sneakers', 'Unisex Sneakers', 'Men Formal Derbys', 'Men Leather Formal Oxfords', 'Men Textured Leather Driving Shoes', 'Men Leather Driving Shoes', 'Men GENERATION ZEROGRAND STITCHLITE', 'Men Victory Sneakers', 'Men Leather Slip-On Sneakers', 'Men Solid Loafers', 'Men Solid Formal Leather Slip-On Shoes', 'Women Leather Pumps', 'Unisex Connect Splash Trainers', 'Leather Sneakers', 'Men Textured Leather Formal Loafers', 'Men Textured Leather Loafers', 'Men Leather Formal Slip-Ons', 'Men Solid Sneakers', 'Men Slip-On Sneakers', 'Men Colourblocked Driving Shoes', 'Women Mules', 'Men Leather Formal Oxfords', 'Men Leather Formal Derbys', 'AIR MEGA Energy Ring Shoes', 'Men Solid Leather Formal Derbys', 'Men Leather Formal Brogues', 'Women Chunky Sneakers', 'Women Leather Horsebit Loafers', 'Women Running Shoes', 'Leather Block Sandals', 'Men Leather Formal Monks', 'Men Woven Design Sneakers', 'Men Perforations Leather Brogues', 'Women Leather Heeled Boots', 'Men Solid Leather Formal Slip-Ons', 'Women Running Shoes', 'Men Leather Formal Loafers', 'Men Solid Leather Formal Derbys', 'Men Leather Formal Derbys', 'Women Running Shoes', 'Women Charged Vantage ClrShft', 'Women Charged Assert 8 Running', 'Women Charged Impulse Shft', 'Men Leather Derbys', 'Women Leather Heeled Boots', 'Women Leather Sneakers', 'Women Mid-Top Sneakers', 'Women Gizeh Flats', 'Men Leather Formal Slip-Ons', 'Women Charged Breathe OIL SLK']\n"
     ]
    }
   ],
   "source": [
    "d=[]\n",
    "for i in urll:\n",
    "    driver.get(i)\n",
    "    pd=driver.find_elements_by_xpath(\"//h4[@class='product-product']\")\n",
    "    for i in pd:\n",
    "        d.append(i.text)\n",
    "d=d[0:100]\n",
    "print('\\n Short Description  \\n\\n',d)"
   ]
  },
  {
   "cell_type": "code",
   "execution_count": 153,
   "metadata": {},
   "outputs": [
    {
     "name": "stdout",
     "output_type": "stream",
     "text": [
      "\n",
      " Price  \n",
      "\n",
      " ['Rs. 7195', 'Rs. 5995', 'Rs. 5495', 'Rs. 6795', 'Rs. 8195', 'Rs. 6999', 'Rs. 6999', 'Rs. 6999', 'Rs. 9999', 'Rs. 6999', 'Rs. 6499', 'Rs. 7999', 'Rs. 5499', 'Rs. 6299Rs. 6999(10% OFF)', 'Rs. 6999', 'Rs. 6599Rs. 10999(40% OFF)', 'Rs. 6999Rs. 9999(30% OFF)', 'Rs. 7999', 'Rs. 7499', 'Rs. 8999', 'Rs. 5399Rs. 5999(10% OFF)', 'Rs. 6599Rs. 10999(40% OFF)', 'Rs. 5999Rs. 7999(25% OFF)', 'Rs. 6499', 'Rs. 6999', 'Rs. 5490', 'Rs. 7999', 'Rs. 6499', 'Rs. 9999', 'Rs. 6999Rs. 9999(30% OFF)', 'Rs. 8099Rs. 8999(10% OFF)', 'Rs. 5999Rs. 9999(40% OFF)', 'Rs. 5399Rs. 5999(10% OFF)', 'Rs. 7799Rs. 12999(40% OFF)', 'Rs. 8999Rs. 9999(10% OFF)', 'Rs. 9999', 'Rs. 5599Rs. 7999(30% OFF)', 'Rs. 9749Rs. 14999(35% OFF)', 'Rs. 8249Rs. 10999(25% OFF)', 'Rs. 9999', 'Rs. 5999', 'Rs. 6399Rs. 7999(20% OFF)', 'Rs. 5669Rs. 6999(19% OFF)', 'Rs. 6999', 'Rs. 5499', 'Rs. 5999', 'Rs. 6749Rs. 8999(25% OFF)', 'Rs. 8499', 'Rs. 5579Rs. 5999(7% OFF)', 'Rs. 5525Rs. 8500(35% OFF)', 'Rs. 8999Rs. 9999(10% OFF)', 'Rs. 5399Rs. 5999(10% OFF)', 'Rs. 7874Rs. 10499(25% OFF)', 'Rs. 9999', 'Rs. 9990', 'Rs. 9599Rs. 11999(20% OFF)', 'Rs. 5999', 'Rs. 9490', 'Rs. 6990', 'Rs. 8990', 'Rs. 8999', 'Rs. 8799Rs. 10999(20% OFF)', 'Rs. 6399Rs. 7999(20% OFF)', 'Rs. 7990', 'Rs. 6399Rs. 7999(20% OFF)', 'Rs. 6299Rs. 8999(30% OFF)', 'Rs. 5999Rs. 7499(20% OFF)', 'Rs. 10490', 'Rs. 5599Rs. 6999(20% OFF)', 'Rs. 8999Rs. 9999(10% OFF)', 'Rs. 5699', 'Rs. 10355Rs. 10900(5% OFF)', 'Rs. 7999Rs. 15999(50% OFF)', 'Rs. 9900', 'Rs. 7006Rs. 7149(2% OFF)', 'Rs. 6990', 'Rs. 6293Rs. 8990(30% OFF)', 'Rs. 6299Rs. 8999(30% OFF)', 'Rs. 6299Rs. 6999(10% OFF)', 'Rs. 6999', 'Rs. 7999', 'Rs. 6999', 'Rs. 7499', 'Rs. 6499', 'Rs. 5495', 'Rs. 5399Rs. 5999(10% OFF)', 'Rs. 6500', 'Rs. 9999', 'Rs. 5999Rs. 7499(20% OFF)', 'Rs. 5990', 'Rs. 5624Rs. 7499(25% OFF)', 'Rs. 8249Rs. 10999(25% OFF)', 'Rs. 6299Rs. 8999(30% OFF)', 'Rs. 6749Rs. 8999(25% OFF)', 'Rs. 7499Rs. 9999(25% OFF)', 'Rs. 6293Rs. 8990(30% OFF)', 'Rs. 9999', 'Rs. 5599Rs. 7999(30% OFF)', 'Rs. 5399Rs. 5999(10% OFF)', 'Rs. 7693Rs. 10990(30% OFF)']\n"
     ]
    }
   ],
   "source": [
    "p=[]\n",
    "for i in urll:\n",
    "    driver.get(i)\n",
    "\n",
    "    pr=driver.find_elements_by_xpath(\"//div[@class='product-price']\")\n",
    "    for i in pr:\n",
    "        p.append(i.text)\n",
    "p=p[0:100]\n",
    "print('\\n Price  \\n\\n',p)"
   ]
  },
  {
   "cell_type": "code",
   "execution_count": 154,
   "metadata": {},
   "outputs": [
    {
     "name": "stdout",
     "output_type": "stream",
     "text": [
      "length of Brand Name:  100 \n",
      "length of Price:  100 \n",
      "length of Short Description:  100\n"
     ]
    }
   ],
   "source": [
    "print('length of Brand Name: ',len(brandd),\n",
    "     '\\nlength of Price: ',len(p),\n",
    "      '\\nlength of Short Description: ',len(d))"
   ]
  },
  {
   "cell_type": "code",
   "execution_count": 155,
   "metadata": {},
   "outputs": [
    {
     "data": {
      "text/html": [
       "<div>\n",
       "<style scoped>\n",
       "    .dataframe tbody tr th:only-of-type {\n",
       "        vertical-align: middle;\n",
       "    }\n",
       "\n",
       "    .dataframe tbody tr th {\n",
       "        vertical-align: top;\n",
       "    }\n",
       "\n",
       "    .dataframe thead th {\n",
       "        text-align: right;\n",
       "    }\n",
       "</style>\n",
       "<table border=\"1\" class=\"dataframe\">\n",
       "  <thead>\n",
       "    <tr style=\"text-align: right;\">\n",
       "      <th></th>\n",
       "      <th>Brand</th>\n",
       "      <th>Price</th>\n",
       "      <th>Short Desc</th>\n",
       "    </tr>\n",
       "  </thead>\n",
       "  <tbody>\n",
       "    <tr>\n",
       "      <th>0</th>\n",
       "      <td>Nike</td>\n",
       "      <td>Rs. 7195</td>\n",
       "      <td>Men BlazerLow '77 Sneakers</td>\n",
       "    </tr>\n",
       "    <tr>\n",
       "      <th>1</th>\n",
       "      <td>Nike</td>\n",
       "      <td>Rs. 5995</td>\n",
       "      <td>Men Flex Run 2021 Running Shoe</td>\n",
       "    </tr>\n",
       "    <tr>\n",
       "      <th>2</th>\n",
       "      <td>Nike</td>\n",
       "      <td>Rs. 5495</td>\n",
       "      <td>Men Crater Remixa Sneakers</td>\n",
       "    </tr>\n",
       "    <tr>\n",
       "      <th>3</th>\n",
       "      <td>Nike</td>\n",
       "      <td>Rs. 6795</td>\n",
       "      <td>Unisex KD Trey 5 IX Shoes</td>\n",
       "    </tr>\n",
       "    <tr>\n",
       "      <th>4</th>\n",
       "      <td>Nike</td>\n",
       "      <td>Rs. 8195</td>\n",
       "      <td>Men Renew Retaliation TR 3</td>\n",
       "    </tr>\n",
       "    <tr>\n",
       "      <th>...</th>\n",
       "      <td>...</td>\n",
       "      <td>...</td>\n",
       "      <td>...</td>\n",
       "    </tr>\n",
       "    <tr>\n",
       "      <th>95</th>\n",
       "      <td>Kenneth Cole</td>\n",
       "      <td>Rs. 6293Rs. 8990(30% OFF)</td>\n",
       "      <td>Women Leather Sneakers</td>\n",
       "    </tr>\n",
       "    <tr>\n",
       "      <th>96</th>\n",
       "      <td>Geox</td>\n",
       "      <td>Rs. 9999</td>\n",
       "      <td>Women Mid-Top Sneakers</td>\n",
       "    </tr>\n",
       "    <tr>\n",
       "      <th>97</th>\n",
       "      <td>UNDER ARMOUR</td>\n",
       "      <td>Rs. 5599Rs. 7999(30% OFF)</td>\n",
       "      <td>Women Gizeh Flats</td>\n",
       "    </tr>\n",
       "    <tr>\n",
       "      <th>98</th>\n",
       "      <td>Xtep</td>\n",
       "      <td>Rs. 5399Rs. 5999(10% OFF)</td>\n",
       "      <td>Men Leather Formal Slip-Ons</td>\n",
       "    </tr>\n",
       "    <tr>\n",
       "      <th>99</th>\n",
       "      <td>Heel &amp; Buckle London</td>\n",
       "      <td>Rs. 7693Rs. 10990(30% OFF)</td>\n",
       "      <td>Women Charged Breathe OIL SLK</td>\n",
       "    </tr>\n",
       "  </tbody>\n",
       "</table>\n",
       "<p>100 rows × 3 columns</p>\n",
       "</div>"
      ],
      "text/plain": [
       "                   Brand                       Price  \\\n",
       "0                   Nike                    Rs. 7195   \n",
       "1                   Nike                    Rs. 5995   \n",
       "2                   Nike                    Rs. 5495   \n",
       "3                   Nike                    Rs. 6795   \n",
       "4                   Nike                    Rs. 8195   \n",
       "..                   ...                         ...   \n",
       "95          Kenneth Cole   Rs. 6293Rs. 8990(30% OFF)   \n",
       "96                  Geox                    Rs. 9999   \n",
       "97          UNDER ARMOUR   Rs. 5599Rs. 7999(30% OFF)   \n",
       "98                  Xtep   Rs. 5399Rs. 5999(10% OFF)   \n",
       "99  Heel & Buckle London  Rs. 7693Rs. 10990(30% OFF)   \n",
       "\n",
       "                        Short Desc  \n",
       "0       Men BlazerLow '77 Sneakers  \n",
       "1   Men Flex Run 2021 Running Shoe  \n",
       "2       Men Crater Remixa Sneakers  \n",
       "3        Unisex KD Trey 5 IX Shoes  \n",
       "4       Men Renew Retaliation TR 3  \n",
       "..                             ...  \n",
       "95          Women Leather Sneakers  \n",
       "96          Women Mid-Top Sneakers  \n",
       "97               Women Gizeh Flats  \n",
       "98     Men Leather Formal Slip-Ons  \n",
       "99   Women Charged Breathe OIL SLK  \n",
       "\n",
       "[100 rows x 3 columns]"
      ]
     },
     "execution_count": 155,
     "metadata": {},
     "output_type": "execute_result"
    }
   ],
   "source": [
    "df=pandas.DataFrame({'Brand':brandd,'Price':p,'Short Desc':d})\n",
    "df"
   ]
  },
  {
   "cell_type": "markdown",
   "metadata": {},
   "source": [
    "# "
   ]
  },
  {
   "cell_type": "markdown",
   "metadata": {},
   "source": [
    "# 10.Go to webpage https://www.amazon.in/ Enter “Laptop” in the search field and then click the search icon.Then set CPU Type filter to “Intel Core i7” and “Intel Core i9”"
   ]
  },
  {
   "cell_type": "code",
   "execution_count": 156,
   "metadata": {},
   "outputs": [],
   "source": [
    "import pandas \n",
    "import selenium\n",
    "from selenium import webdriver"
   ]
  },
  {
   "cell_type": "code",
   "execution_count": 169,
   "metadata": {},
   "outputs": [
    {
     "data": {
      "text/plain": [
       "<selenium.webdriver.chrome.webdriver.WebDriver (session=\"94267d8d0dcad0096abb60fb64f5d8e2\")>"
      ]
     },
     "execution_count": 169,
     "metadata": {},
     "output_type": "execute_result"
    }
   ],
   "source": [
    "driver=webdriver.Chrome('chromedriver.exe')\n",
    "driver"
   ]
  },
  {
   "cell_type": "code",
   "execution_count": 170,
   "metadata": {},
   "outputs": [],
   "source": [
    "driver.get('https://www.amazon.in/')"
   ]
  },
  {
   "cell_type": "code",
   "execution_count": 171,
   "metadata": {},
   "outputs": [],
   "source": [
    "s=driver.find_element_by_xpath(\"//input[@id='twotabsearchtextbox']\")\n",
    "s.send_keys('Laptop')"
   ]
  },
  {
   "cell_type": "code",
   "execution_count": 172,
   "metadata": {},
   "outputs": [],
   "source": [
    "sbc=driver.find_element_by_xpath(\"//input[@id='nav-search-submit-button']\")\n",
    "sbc.click()"
   ]
  },
  {
   "cell_type": "code",
   "execution_count": 175,
   "metadata": {
    "scrolled": true
   },
   "outputs": [],
   "source": [
    "i7=driver.find_element_by_xpath(\"//*[@id='p_n_feature_thirteen_browse-bin/12598163031']/span/a/div/label/i\")\n",
    "i7.click()"
   ]
  },
  {
   "cell_type": "code",
   "execution_count": 177,
   "metadata": {},
   "outputs": [],
   "source": [
    "i9=driver.find_element_by_xpath(\"//*[@id='p_n_feature_thirteen_browse-bin/16757432031']/span/a/div/label/i\")\n",
    "i9.click()"
   ]
  },
  {
   "cell_type": "code",
   "execution_count": 178,
   "metadata": {},
   "outputs": [
    {
     "name": "stdout",
     "output_type": "stream",
     "text": [
      "\n",
      " Laptop Title  \n",
      "\n",
      " ['Lenovo Legion 7 10th Gen Intel Core i7 15.6 inch Full HD Gaming Laptop (16GB/1TB SSD/Windows 10/MS Office 2019/144 Hz/NVIDIA RTX 2080 8GB GDDR6 Graphics/Slate Grey/2.25Kg), 81YU002AIN', 'ASUS TUF Dash F15 (2021), 15.6\" (39.62 cms) FHD 144Hz, Intel Core i7-11370H 11th Gen, RTX 3050 Ti 4GB Graphics, Gaming Laptop (16GB/1TB SSD/Office 2019/Windows 10/Eclipse Gray/2 kg), FX516PE-HN088TS', 'HP Pavilion (2021) Thin & Light 11th Gen Core i7 Laptop, 16 GB RAM, 1TB SSD, Iris Xe Graphics, 14\" (35.56cms) FHD Screen, Windows 10, MS Office, Backlit Keyboard (14-dv0058TU)', 'MSI GF65 Thin, Intel i7-10750H, 15.6\" FHD (39.6 cm) IPS-Level 144Hz Panel Laptop (16GB/512GB NVMe SSD/Windows 10 Home/Nvidia GTX1660 Ti 6GB GDDR6/Black/1.86Kg), 10SDR-1280IN', 'Mi Notebook Horizon Edition 14 Intel Core i7-10510U 10th Gen 14-inch (35.56 cms) Thin and Light Laptop(8GB/512GB SSD/Windows 10/Nvidia MX350 2GB Graphics/Grey/1.35Kg), XMA1904-AF+Webcam', 'ASUS TUF Gaming F15 (2020), 15.6-inch (39.62 cms) FHD 144Hz, Intel Core i7-10870H 10th Gen, NVIDIA GeForce GTX 1650 4GB Graphics, Gaming Laptop(8GB/512GB SSDWindows 10/Gray/2.3 Kg), FX566LH-HN255T', 'Life Digital Laptop 15.6-inch (39.62 cms) (Intel Core i7, 4GB RAM, 256GB SSD, Windows 10), ZED AIR CX7', 'ASUS VivoBook S S14 Intel Core i7-1165G7 11th Gen, 14-inch FHD Thin and Light Laptop (8GB RAM/512GB SSD + 32GB Optane Memory/Windows 10/Office 2019/Iris X Graphics- Indie Black/1.4 Kg), S433EA-AM701TS', 'MSI GF75 Thin, Intel i7-10750H, 17.3\" (43.9 cm) FHD IPS-Level 144Hz Panel Laptop (8GB/512GB NVMe SSD/Windows 10 Home/Nvidia GTX1650 4GB GDDR6/Black/2.2Kg), 10SCXR-654IN', 'Lenovo IdeaPad Flex 5 11th Gen Intel Core i7 14\"(35.56cm) FHD IPS 2-in-1 Touchscreen Laptop(16GB/512GB SSD/Windows 10/MS Office/Lenovo Digital Pen/Fingerprint Reader/Graphite Grey/1.5Kg), 82HS0092IN', 'Dell Inspiron 5502 15.6\" FHD AG Display Laptop (11th Gen i7-1165G7/8 GB/512 SSD/NVIDIA MX 330 2GB/Win 10 + MSO/Silver) D560377WIN9S', '(Renewed) Lenovo Intel Core i7-4th Gen 14 Inch(35.56 cms) 1920 x 1080 HD Laptop (8GB RAM/1TB HDD/Windows 10 Pro/MS Office/ Intel HD graphics,Black,2.0kg) Lenovo ThinkPad T440p', '(Renewed) Lenovo Intel Core i7-4th Gen 14 Inch(35.56 cms) 1920 x 1080 HD Laptop (16GB RAM /1TB SSD/Windows 10 Pro/MS Office/ Intel HD graphics,Black,2.0kg) Lenovo ThinkPad T440p', 'Samsung Galaxy Book Flex 13.3” | Samsung Laptop with QLED Display and Intel Core i7 Processor | Galaxy Book Flex Laptop with Long Battery Life and Bluetooth-Enabled S Pen | (NP930QCG-K01US)', 'HP Envy 11th Gen Core i7 Processor 13.3-inch (33.78 cms) FHD Touchscreen Laptop (16GB/1TB SSD/Win 10/NVIDIA MX450 2GB/Natural Silver/1.3 kg), 13-ba1018TX', 'Lenovo Yoga 7 11th Gen Intel Core i7-1165G7 14\" (35.56cm) FHD IPS 2-in-1 Touchscreen Laptop (16GB/512GB SSD/Windows 10/MS Office/Lenovo Digital Pen/Fingerprint Reader/Slate Grey/1.43Kg), 82BH004HIN']\n"
     ]
    }
   ],
   "source": [
    "lt=[]\n",
    "# extracting laptop title\n",
    "lt_=driver.find_elements_by_xpath(\"//h2[@class='a-size-mini a-spacing-none a-color-base s-line-clamp-2']\")\n",
    "for i in lt_:\n",
    "    lt.append(i.text)\n",
    "lt=lt[:-14]\n",
    "print('\\n Laptop Title  \\n\\n',lt)"
   ]
  },
  {
   "cell_type": "code",
   "execution_count": 179,
   "metadata": {},
   "outputs": [
    {
     "name": "stdout",
     "output_type": "stream",
     "text": [
      "\n",
      " Price  \n",
      "\n",
      " ['1,80,990', '1,07,990', '84,990', '81,990', '59,490', '71,990', '34,990', '77,990', '74,990', '90,490', '85,890', '44,999', '50,999', '1,09,990', '1,03,100', '1,18,990']\n"
     ]
    }
   ],
   "source": [
    "p_=[]\n",
    "# extracting price\n",
    "pr_=driver.find_elements_by_xpath(\"//span[@class='a-price-whole']\")\n",
    "for i in pr_:\n",
    "    p_.append(i.text)\n",
    "p_=p_[:16]\n",
    "print('\\n Price  \\n\\n',p_)"
   ]
  },
  {
   "cell_type": "code",
   "execution_count": 180,
   "metadata": {},
   "outputs": [
    {
     "data": {
      "text/plain": [
       "['https://www.amazon.in/gp/slredirect/picassoRedirect.html/ref=pa_sp_atf_computers_sr_pg1_1?ie=UTF8&adId=A10177402EY6V3DSAAEXB&url=%2FLenovo-Legion-Windows-Graphics-81YU002AIN%2Fdp%2FB08FJCRGPR%2Fref%3Dsr_1_1_sspa%3Fdchild%3D1%26keywords%3DLaptop%26qid%3D1628838854%26refinements%3Dp_n_feature_thirteen_browse-bin%253A12598163031%257C16757432031%26rnid%3D12598141031%26s%3Dcomputers%26sr%3D1-1-spons%26psc%3D1&qualifier=1628838854&id=7446948253468906&widgetName=sp_atf',\n",
       " 'https://www.amazon.in/gp/slredirect/picassoRedirect.html/ref=pa_sp_atf_computers_sr_pg1_1?ie=UTF8&adId=A05737051OF0H1VKX0MNY&url=%2FASUS-TUF-F15-i7-11370H-FX516PE-HN088TS%2Fdp%2FB094RDLV5P%2Fref%3Dsr_1_2_sspa%3Fdchild%3D1%26keywords%3DLaptop%26qid%3D1628838854%26refinements%3Dp_n_feature_thirteen_browse-bin%253A12598163031%257C16757432031%26rnid%3D12598141031%26s%3Dcomputers%26sr%3D1-2-spons%26psc%3D1&qualifier=1628838854&id=7446948253468906&widgetName=sp_atf',\n",
       " 'https://www.amazon.in/HP-Pavilion-Graphics-35-56cms-14-dv0058TU/dp/B08WB857GB/ref=sr_1_3?dchild=1&keywords=Laptop&qid=1628838854&refinements=p_n_feature_thirteen_browse-bin%3A12598163031%7C16757432031&rnid=12598141031&s=computers&sr=1-3',\n",
       " 'https://www.amazon.in/MSI-i7-10750H-IPS-Level-Windows-10SDR-1280IN/dp/B093L8JCZV/ref=sr_1_4?dchild=1&keywords=Laptop&qid=1628838854&refinements=p_n_feature_thirteen_browse-bin%3A12598163031%7C16757432031&rnid=12598141031&s=computers&sr=1-4',\n",
       " 'https://www.amazon.in/Notebook-Horizon-i7-10510U-Graphics-XMA1904-AF/dp/B089F2W1KW/ref=sr_1_5?dchild=1&keywords=Laptop&qid=1628838854&refinements=p_n_feature_thirteen_browse-bin%3A12598163031%7C16757432031&rnid=12598141031&s=computers&sr=1-5',\n",
       " 'https://www.amazon.in/ASUS-15-6-inch-i7-10870H-SSDWindows-FX566LH-HN255T/dp/B096VKVFCN/ref=sr_1_6?dchild=1&keywords=Laptop&qid=1628838854&refinements=p_n_feature_thirteen_browse-bin%3A12598163031%7C16757432031&rnid=12598141031&s=computers&sr=1-6',\n",
       " 'https://www.amazon.in/LifeDigital-Laptop-Intel%C2%AE-Storage-Windows/dp/B08HRMHZ8J/ref=sr_1_7?dchild=1&keywords=Laptop&qid=1628838854&refinements=p_n_feature_thirteen_browse-bin%3A12598163031%7C16757432031&rnid=12598141031&s=computers&sr=1-7',\n",
       " 'https://www.amazon.in/ASUS-VivoBook-i7-1165G7-Graphics-S433EA-AM701TS/dp/B08PQTZB3Z/ref=sr_1_8?dchild=1&keywords=Laptop&qid=1628838854&refinements=p_n_feature_thirteen_browse-bin%3A12598163031%7C16757432031&rnid=12598141031&s=computers&sr=1-8',\n",
       " 'https://www.amazon.in/MSI-i7-10750H-IPS-Level-Windows-10SCXR-654IN/dp/B093L8QGL7/ref=sr_1_9?dchild=1&keywords=Laptop&qid=1628838854&refinements=p_n_feature_thirteen_browse-bin%3A12598163031%7C16757432031&rnid=12598141031&s=computers&sr=1-9',\n",
       " 'https://www.amazon.in/Lenovo-Touchscreen-Fingerprint-Graphite-82HS0092IN/dp/B08WRZQBQ6/ref=sr_1_10?dchild=1&keywords=Laptop&qid=1628838854&refinements=p_n_feature_thirteen_browse-bin%3A12598163031%7C16757432031&rnid=12598141031&s=computers&sr=1-10',\n",
       " 'https://www.amazon.in/Dell-Inspiron-Display-i7-1165G7-D560377WIN9S/dp/B08QN2PYWF/ref=sr_1_11?dchild=1&keywords=Laptop&qid=1628838854&refinements=p_n_feature_thirteen_browse-bin%3A12598163031%7C16757432031&rnid=12598141031&s=computers&sr=1-11',\n",
       " 'https://www.amazon.in/Renewed-Lenovo-Windows-graphics-ThinkPad/dp/B09B54LZ8M/ref=sr_1_12?dchild=1&keywords=Laptop&qid=1628838854&refinements=p_n_feature_thirteen_browse-bin%3A12598163031%7C16757432031&rnid=12598141031&s=computers&sr=1-12',\n",
       " 'https://www.amazon.in/Renewed-Lenovo-Windows-graphics-ThinkPad/dp/B09B546HS2/ref=sr_1_13?dchild=1&keywords=Laptop&qid=1628838854&refinements=p_n_feature_thirteen_browse-bin%3A12598163031%7C16757432031&rnid=12598141031&s=computers&sr=1-13',\n",
       " 'https://www.amazon.in/Samsung-Display-Processor-Bluetooth-Enabled-NP930QCG-K01US/dp/B085D2HHBT/ref=sr_1_14?dchild=1&keywords=Laptop&qid=1628838854&refinements=p_n_feature_thirteen_browse-bin%3A12598163031%7C16757432031&rnid=12598141031&s=computers&sr=1-14',\n",
       " 'https://www.amazon.in/gp/slredirect/picassoRedirect.html/ref=pa_sp_mtf_computers_sr_pg1_1?ie=UTF8&adId=A10081262K6KZOZ37JXYV&url=%2FHP-Processor-13-3-inch-Touchscreen-13-ba1018TX%2Fdp%2FB091FJ13Q5%2Fref%3Dsr_1_15_sspa%3Fdchild%3D1%26keywords%3DLaptop%26qid%3D1628838854%26refinements%3Dp_n_feature_thirteen_browse-bin%253A12598163031%257C16757432031%26rnid%3D12598141031%26s%3Dcomputers%26sr%3D1-15-spons%26psc%3D1&qualifier=1628838854&id=7446948253468906&widgetName=sp_mtf',\n",
       " 'https://www.amazon.in/gp/slredirect/picassoRedirect.html/ref=pa_sp_mtf_computers_sr_pg1_1?ie=UTF8&adId=A0870125WC700WBB6DFH&url=%2FLenovo-Touchscreen-Fingerprint-Aluminium-82BH004HIN%2Fdp%2FB08P3M22QQ%2Fref%3Dsr_1_16_sspa%3Fdchild%3D1%26keywords%3DLaptop%26qid%3D1628838854%26refinements%3Dp_n_feature_thirteen_browse-bin%253A12598163031%257C16757432031%26rnid%3D12598141031%26s%3Dcomputers%26sr%3D1-16-spons%26psc%3D1&qualifier=1628838854&id=7446948253468906&widgetName=sp_mtf',\n",
       " 'https://www.amazon.in/Renewed-Lenovo-15-6-Inch-Windows-81UH006YIN/dp/B08TC5GDVR/ref=sr_1_17?dchild=1&keywords=Laptop&qid=1628838854&refinements=p_n_feature_thirteen_browse-bin%3A12598163031%7C16757432031&rnid=12598141031&s=computers&sr=1-17',\n",
       " 'https://www.amazon.in/Lenovo-Upgradable-Integrated-Graphics-WARRANTY/dp/B092Z88D2F/ref=sr_1_18?dchild=1&keywords=Laptop&qid=1628838854&refinements=p_n_feature_thirteen_browse-bin%3A12598163031%7C16757432031&rnid=12598141031&s=computers&sr=1-18',\n",
       " 'https://www.amazon.in/Renewed-Lenovo-Windows-graphics-ThinkPad/dp/B09B54JSCS/ref=sr_1_19?dchild=1&keywords=Laptop&qid=1628838854&refinements=p_n_feature_thirteen_browse-bin%3A12598163031%7C16757432031&rnid=12598141031&s=computers&sr=1-19',\n",
       " 'https://www.amazon.in/Renewed-Digital-Laptop-15-6-inch-Windows/dp/B095224LRK/ref=sr_1_20?dchild=1&keywords=Laptop&qid=1628838854&refinements=p_n_feature_thirteen_browse-bin%3A12598163031%7C16757432031&rnid=12598141031&s=computers&sr=1-20',\n",
       " 'https://www.amazon.in/ASUS-VivoBook-S532EQ-BQ702TS-I7-1165G7-SILVER/dp/B08PZ3VRCS/ref=sr_1_21?dchild=1&keywords=Laptop&qid=1628838854&refinements=p_n_feature_thirteen_browse-bin%3A12598163031%7C16757432031&rnid=12598141031&s=computers&sr=1-21',\n",
       " 'https://www.amazon.in/Lenovo-Upgradable-Integrated-Graphics-WARRANTY/dp/B092Z9G6S5/ref=sr_1_22?dchild=1&keywords=Laptop&qid=1628838854&refinements=p_n_feature_thirteen_browse-bin%3A12598163031%7C16757432031&rnid=12598141031&s=computers&sr=1-22',\n",
       " 'https://www.amazon.in/ASUS-TUF-F15-i7-11370H-FX516PE-HN088TS/dp/B094RDLV5P/ref=sr_1_23?dchild=1&keywords=Laptop&qid=1628838854&refinements=p_n_feature_thirteen_browse-bin%3A12598163031%7C16757432031&rnid=12598141031&s=computers&sr=1-23',\n",
       " 'https://www.amazon.in/Lenovo-Upgradable-Integrated-Graphics-WARRANTY/dp/B092Z9TGBP/ref=sr_1_24?dchild=1&keywords=Laptop&qid=1628838854&refinements=p_n_feature_thirteen_browse-bin%3A12598163031%7C16757432031&rnid=12598141031&s=computers&sr=1-24',\n",
       " 'https://www.amazon.in/CERTIFIED-REFURBISHED-Microsoft-Integrated-Graphics/dp/B07J2LNSXC/ref=sr_1_25?dchild=1&keywords=Laptop&qid=1628838854&refinements=p_n_feature_thirteen_browse-bin%3A12598163031%7C16757432031&rnid=12598141031&s=computers&sr=1-25',\n",
       " 'https://www.amazon.in/Lenovo-IdeaPad-250Nits-Graphics-81Y4019EIN/dp/B097TZMG7R/ref=sr_1_26?dchild=1&keywords=Laptop&qid=1628838854&refinements=p_n_feature_thirteen_browse-bin%3A12598163031%7C16757432031&rnid=12598141031&s=computers&sr=1-26',\n",
       " 'https://www.amazon.in/Dell-Latitude-E6420-Dedicated-Professional/dp/B07WVC8HW3/ref=sr_1_27?dchild=1&keywords=Laptop&qid=1628838854&refinements=p_n_feature_thirteen_browse-bin%3A12598163031%7C16757432031&rnid=12598141031&s=computers&sr=1-27',\n",
       " 'https://www.amazon.in/HP-35-56cms-i7-1165G7-Windows-14s-dr2007TU/dp/B08N57LR4X/ref=sr_1_28?dchild=1&keywords=Laptop&qid=1628838854&refinements=p_n_feature_thirteen_browse-bin%3A12598163031%7C16757432031&rnid=12598141031&s=computers&sr=1-28',\n",
       " 'https://www.amazon.in/gp/slredirect/picassoRedirect.html/ref=pa_sp_btf_computers_sr_pg1_1?ie=UTF8&adId=A00766773MSMG2AO2CGIQ&url=%2FAcer-Swift-Display-Touchscreen-Notebook%2Fdp%2FB08M41DHTV%2Fref%3Dsr_1_29_sspa%3Fdchild%3D1%26keywords%3DLaptop%26qid%3D1628838854%26refinements%3Dp_n_feature_thirteen_browse-bin%253A12598163031%257C16757432031%26rnid%3D12598141031%26s%3Dcomputers%26sr%3D1-29-spons%26psc%3D1&qualifier=1628838854&id=7446948253468906&widgetName=sp_btf',\n",
       " 'https://www.amazon.in/gp/slredirect/picassoRedirect.html/ref=pa_sp_btf_computers_sr_pg1_1?ie=UTF8&adId=A0872671147908G7LKB8X&url=%2FMSI-i7-10750H-IPS-Level-Windows-10SDR-1280IN%2Fdp%2FB093L8JCZV%2Fref%3Dsr_1_30_sspa%3Fdchild%3D1%26keywords%3DLaptop%26qid%3D1628838854%26refinements%3Dp_n_feature_thirteen_browse-bin%253A12598163031%257C16757432031%26rnid%3D12598141031%26s%3Dcomputers%26sr%3D1-30-spons%26psc%3D1&qualifier=1628838854&id=7446948253468906&widgetName=sp_btf']"
      ]
     },
     "execution_count": 180,
     "metadata": {},
     "output_type": "execute_result"
    }
   ],
   "source": [
    "# extracting all urls for rating inside page\n",
    "url=driver.find_elements_by_xpath(\"//a[@class='a-link-normal a-text-normal']\")\n",
    "url_=[]\n",
    "for i in url:\n",
    "    url_.append(i.get_attribute('href'))\n",
    "url_"
   ]
  },
  {
   "cell_type": "code",
   "execution_count": 181,
   "metadata": {},
   "outputs": [
    {
     "name": "stdout",
     "output_type": "stream",
     "text": [
      "\n",
      " Rating \n",
      "\n",
      " ['2.9 out of 5', '4.5 out of 5', '4.3 out of 5', '3.6 out of 5', '4.4 out of 5', '4 out of 5', '3.8 out of 5', '4.3 out of 5', '4.6 out of 5', '4 out of 5', '5 out of 5', '4.6 out of 5', '4.1 out of 5', '4.2 out of 5', '4 out of 5', '2 out of 5']\n"
     ]
    }
   ],
   "source": [
    "r_=[]\n",
    "for i in url_:\n",
    "    driver.get(i) # to open the url\n",
    "    lr=driver.find_elements_by_xpath(\"//div[@class='a-fixed-left-grid-col aok-align-center a-col-right']\")\n",
    "    for i in lr:\n",
    "        r_.append(i.text.replace('\\n',' '))\n",
    "r_=r_[:16]\n",
    "print('\\n Rating \\n\\n',r_)"
   ]
  },
  {
   "cell_type": "code",
   "execution_count": 182,
   "metadata": {},
   "outputs": [
    {
     "name": "stdout",
     "output_type": "stream",
     "text": [
      "length of Laptop Title:  16 \n",
      "length of Price:  16 \n",
      "length of Rating:  16\n"
     ]
    }
   ],
   "source": [
    "print('length of Laptop Title: ',len(lt),\n",
    "     '\\nlength of Price: ',len(p_),\n",
    "      '\\nlength of Rating: ',len(r_))"
   ]
  },
  {
   "cell_type": "code",
   "execution_count": 183,
   "metadata": {},
   "outputs": [
    {
     "data": {
      "text/html": [
       "<div>\n",
       "<style scoped>\n",
       "    .dataframe tbody tr th:only-of-type {\n",
       "        vertical-align: middle;\n",
       "    }\n",
       "\n",
       "    .dataframe tbody tr th {\n",
       "        vertical-align: top;\n",
       "    }\n",
       "\n",
       "    .dataframe thead th {\n",
       "        text-align: right;\n",
       "    }\n",
       "</style>\n",
       "<table border=\"1\" class=\"dataframe\">\n",
       "  <thead>\n",
       "    <tr style=\"text-align: right;\">\n",
       "      <th></th>\n",
       "      <th>Laptop Title</th>\n",
       "      <th>Price</th>\n",
       "      <th>Rating</th>\n",
       "    </tr>\n",
       "  </thead>\n",
       "  <tbody>\n",
       "    <tr>\n",
       "      <th>0</th>\n",
       "      <td>Lenovo Legion 7 10th Gen Intel Core i7 15.6 in...</td>\n",
       "      <td>1,80,990</td>\n",
       "      <td>2.9 out of 5</td>\n",
       "    </tr>\n",
       "    <tr>\n",
       "      <th>1</th>\n",
       "      <td>ASUS TUF Dash F15 (2021), 15.6\" (39.62 cms) FH...</td>\n",
       "      <td>1,07,990</td>\n",
       "      <td>4.5 out of 5</td>\n",
       "    </tr>\n",
       "    <tr>\n",
       "      <th>2</th>\n",
       "      <td>HP Pavilion (2021) Thin &amp; Light 11th Gen Core ...</td>\n",
       "      <td>84,990</td>\n",
       "      <td>4.3 out of 5</td>\n",
       "    </tr>\n",
       "    <tr>\n",
       "      <th>3</th>\n",
       "      <td>MSI GF65 Thin, Intel i7-10750H, 15.6\" FHD (39....</td>\n",
       "      <td>81,990</td>\n",
       "      <td>3.6 out of 5</td>\n",
       "    </tr>\n",
       "    <tr>\n",
       "      <th>4</th>\n",
       "      <td>Mi Notebook Horizon Edition 14 Intel Core i7-1...</td>\n",
       "      <td>59,490</td>\n",
       "      <td>4.4 out of 5</td>\n",
       "    </tr>\n",
       "    <tr>\n",
       "      <th>5</th>\n",
       "      <td>ASUS TUF Gaming F15 (2020), 15.6-inch (39.62 c...</td>\n",
       "      <td>71,990</td>\n",
       "      <td>4 out of 5</td>\n",
       "    </tr>\n",
       "    <tr>\n",
       "      <th>6</th>\n",
       "      <td>Life Digital Laptop 15.6-inch (39.62 cms) (Int...</td>\n",
       "      <td>34,990</td>\n",
       "      <td>3.8 out of 5</td>\n",
       "    </tr>\n",
       "    <tr>\n",
       "      <th>7</th>\n",
       "      <td>ASUS VivoBook S S14 Intel Core i7-1165G7 11th ...</td>\n",
       "      <td>77,990</td>\n",
       "      <td>4.3 out of 5</td>\n",
       "    </tr>\n",
       "    <tr>\n",
       "      <th>8</th>\n",
       "      <td>MSI GF75 Thin, Intel i7-10750H, 17.3\" (43.9 cm...</td>\n",
       "      <td>74,990</td>\n",
       "      <td>4.6 out of 5</td>\n",
       "    </tr>\n",
       "    <tr>\n",
       "      <th>9</th>\n",
       "      <td>Lenovo IdeaPad Flex 5 11th Gen Intel Core i7 1...</td>\n",
       "      <td>90,490</td>\n",
       "      <td>4 out of 5</td>\n",
       "    </tr>\n",
       "    <tr>\n",
       "      <th>10</th>\n",
       "      <td>Dell Inspiron 5502 15.6\" FHD AG Display Laptop...</td>\n",
       "      <td>85,890</td>\n",
       "      <td>5 out of 5</td>\n",
       "    </tr>\n",
       "    <tr>\n",
       "      <th>11</th>\n",
       "      <td>(Renewed) Lenovo Intel Core i7-4th Gen 14 Inch...</td>\n",
       "      <td>44,999</td>\n",
       "      <td>4.6 out of 5</td>\n",
       "    </tr>\n",
       "    <tr>\n",
       "      <th>12</th>\n",
       "      <td>(Renewed) Lenovo Intel Core i7-4th Gen 14 Inch...</td>\n",
       "      <td>50,999</td>\n",
       "      <td>4.1 out of 5</td>\n",
       "    </tr>\n",
       "    <tr>\n",
       "      <th>13</th>\n",
       "      <td>Samsung Galaxy Book Flex 13.3” | Samsung Lapto...</td>\n",
       "      <td>1,09,990</td>\n",
       "      <td>4.2 out of 5</td>\n",
       "    </tr>\n",
       "    <tr>\n",
       "      <th>14</th>\n",
       "      <td>HP Envy 11th Gen Core i7 Processor 13.3-inch (...</td>\n",
       "      <td>1,03,100</td>\n",
       "      <td>4 out of 5</td>\n",
       "    </tr>\n",
       "    <tr>\n",
       "      <th>15</th>\n",
       "      <td>Lenovo Yoga 7 11th Gen Intel Core i7-1165G7 14...</td>\n",
       "      <td>1,18,990</td>\n",
       "      <td>2 out of 5</td>\n",
       "    </tr>\n",
       "  </tbody>\n",
       "</table>\n",
       "</div>"
      ],
      "text/plain": [
       "                                         Laptop Title     Price        Rating\n",
       "0   Lenovo Legion 7 10th Gen Intel Core i7 15.6 in...  1,80,990  2.9 out of 5\n",
       "1   ASUS TUF Dash F15 (2021), 15.6\" (39.62 cms) FH...  1,07,990  4.5 out of 5\n",
       "2   HP Pavilion (2021) Thin & Light 11th Gen Core ...    84,990  4.3 out of 5\n",
       "3   MSI GF65 Thin, Intel i7-10750H, 15.6\" FHD (39....    81,990  3.6 out of 5\n",
       "4   Mi Notebook Horizon Edition 14 Intel Core i7-1...    59,490  4.4 out of 5\n",
       "5   ASUS TUF Gaming F15 (2020), 15.6-inch (39.62 c...    71,990    4 out of 5\n",
       "6   Life Digital Laptop 15.6-inch (39.62 cms) (Int...    34,990  3.8 out of 5\n",
       "7   ASUS VivoBook S S14 Intel Core i7-1165G7 11th ...    77,990  4.3 out of 5\n",
       "8   MSI GF75 Thin, Intel i7-10750H, 17.3\" (43.9 cm...    74,990  4.6 out of 5\n",
       "9   Lenovo IdeaPad Flex 5 11th Gen Intel Core i7 1...    90,490    4 out of 5\n",
       "10  Dell Inspiron 5502 15.6\" FHD AG Display Laptop...    85,890    5 out of 5\n",
       "11  (Renewed) Lenovo Intel Core i7-4th Gen 14 Inch...    44,999  4.6 out of 5\n",
       "12  (Renewed) Lenovo Intel Core i7-4th Gen 14 Inch...    50,999  4.1 out of 5\n",
       "13  Samsung Galaxy Book Flex 13.3” | Samsung Lapto...  1,09,990  4.2 out of 5\n",
       "14  HP Envy 11th Gen Core i7 Processor 13.3-inch (...  1,03,100    4 out of 5\n",
       "15  Lenovo Yoga 7 11th Gen Intel Core i7-1165G7 14...  1,18,990    2 out of 5"
      ]
     },
     "execution_count": 183,
     "metadata": {},
     "output_type": "execute_result"
    }
   ],
   "source": [
    "df=pandas.DataFrame({'Laptop Title':lt,'Price':p_,'Rating':r_})\n",
    "df"
   ]
  },
  {
   "cell_type": "code",
   "execution_count": null,
   "metadata": {},
   "outputs": [],
   "source": []
  }
 ],
 "metadata": {
  "kernelspec": {
   "display_name": "Python 3",
   "language": "python",
   "name": "python3"
  },
  "language_info": {
   "codemirror_mode": {
    "name": "ipython",
    "version": 3
   },
   "file_extension": ".py",
   "mimetype": "text/x-python",
   "name": "python",
   "nbconvert_exporter": "python",
   "pygments_lexer": "ipython3",
   "version": "3.8.5"
  }
 },
 "nbformat": 4,
 "nbformat_minor": 5
}
